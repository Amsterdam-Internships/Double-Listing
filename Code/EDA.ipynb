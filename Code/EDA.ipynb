{
 "cells": [
  {
   "cell_type": "code",
   "execution_count": null,
   "metadata": {},
   "outputs": [],
   "source": [
    "from eda_fn import*\n",
    "import pandas as pd\n",
    "import numpy as np\n",
    "import matplotlib.pyplot as plt\n",
    "import recordlinkage as rl \n",
    "from recordlinkage.index import Block\n",
    "import re"
   ]
  },
  {
   "cell_type": "code",
   "execution_count": null,
   "metadata": {},
   "outputs": [],
   "source": [
    "df_frame = pd.read_csv(r\"C:\\Users\\Invitado\\Documents\\Python\\DS_MASTER\\City_Adam_Intern\\tbl_listing_info_amsterdam_20200104.csv\") # Main data frame\n",
    "df_new = pd.read_csv(r\"C:\\Users\\Invitado\\Documents\\Python\\DS_MASTER\\City_Adam_Intern\\tbl_listings_research_18_02_2022.csv\") # Extra columns including more pictures \n",
    "df_extra = pd.read_csv(r\"C:\\Users\\Invitado\\Documents\\Python\\DS_MASTER\\City_Adam_Intern\\tbl_listing_description_07_03_2022.csv\") # description of listing dutch/english\n",
    "\n",
    "#Baseline data sets\n",
    "df_phones_cat = pd.read_csv(r'C:\\Users\\Invitado\\Documents\\Python\\DS_MASTER\\City_Adam_Intern\\phones_catalog.csv', sep='\\|\\|', engine='python')\n",
    "df_phones_notcat = pd.read_csv(r'C:\\Users\\Invitado\\Documents\\Python\\DS_MASTER\\City_Adam_Intern\\phones.csv', sep='\\|\\|', engine='python')\n",
    "df_pairs_baseline = pd.read_csv(r\"C:\\Users\\Invitado\\Documents\\Python\\DS_MASTER\\City_Adam_Intern\\phones_phones_catalog_gold_standard_train.csv\",sep=';')\n",
    "df_phones_json_baseline_1 = pd.read_json(r'C:\\Users\\Invitado\\Documents\\Python\\DS_MASTER\\City_Adam_Intern\\PhoneCatalog.json')\n",
    "df_phones_json_baseline_2 = pd.read_json(r'C:\\Users\\Invitado\\Documents\\Python\\DS_MASTER\\City_Adam_Intern\\phones.json')"
   ]
  },
  {
   "cell_type": "code",
   "execution_count": null,
   "metadata": {},
   "outputs": [],
   "source": [
    "print('Main dataf has:',len(df_frame.columns))\n",
    "print('New data has', len(df_new.columns))"
   ]
  },
  {
   "cell_type": "code",
   "execution_count": null,
   "metadata": {},
   "outputs": [],
   "source": [
    "#df_frame.info()"
   ]
  },
  {
   "cell_type": "code",
   "execution_count": null,
   "metadata": {},
   "outputs": [],
   "source": [
    "#df_new.info()"
   ]
  },
  {
   "cell_type": "code",
   "execution_count": null,
   "metadata": {},
   "outputs": [],
   "source": [
    "#df_extra.info()"
   ]
  },
  {
   "cell_type": "code",
   "execution_count": null,
   "metadata": {},
   "outputs": [],
   "source": [
    "print('total listings descriptions',len(set(list(df_extra['listingid']))))"
   ]
  },
  {
   "cell_type": "code",
   "execution_count": null,
   "metadata": {},
   "outputs": [],
   "source": [
    "# From the frames this columns seem to contain the same entries Host_first_name== User_first_name == User_Smart_name == HOst_Smart_name \n",
    "# from df_frame custumer name == city == City in df_new\n",
    "# Some of the columns of df_new refer to the same column in df_frame but with different name\n",
    "df_frame.rename(columns={'customer_name':'City','house_name':'Name','bathrooms':'Bathrooms','bedrooms':'Bedrooms',\n",
    "                        'beds':'Beds','listing_id':'ListingId','instant_bookable':'Instant_bookable','is_new_listing':'Is_new_listing',\n",
    "                        'lat':'Lat','lng':'Lng','region':'Neighborhood','person_capacity':'Person_capacity','picture_url':'Picture_url',\n",
    "                        'host_name':'Host_first_name','host_id':'Host_id','property_type':'Property_type','room_type_category':'Room_type_category',\n",
    "                        'room_type':'Room_type','space_type':'Space_type','host_picture':'Host_picture_url'},inplace= True)"
   ]
  },
  {
   "cell_type": "code",
   "execution_count": null,
   "metadata": {},
   "outputs": [],
   "source": [
    "histogram(df_frame,'Person_capacity')\n",
    "histogram(df_frame,'Host_id')"
   ]
  },
  {
   "cell_type": "code",
   "execution_count": null,
   "metadata": {},
   "outputs": [],
   "source": [
    "df_frame['ListingId'] = df_frame['ListingId'].str.replace('[A-Za-z]', '').astype('int64') # remove letters-ListingId has entries which start with a letter h123133... only in some sites\n",
    "df_frame['Person_capacity'].fillna(0,inplace=True)   # There are Nan values which creates a conflict while converting all columns into the same dtype , turn them to 0 temporarily\n",
    "df_frame['Host_id'].fillna(0,inplace=True) \n",
    "df_frame['Instant_bookable']= df_frame['Instant_bookable'].astype('int64') \n",
    "similar_columns = []\n",
    "# Make every similar column match the dtype so it can be joined\n",
    "for column in df_new.columns:\n",
    "    if column in df_frame.columns: #Only use columns which are similar in both df\n",
    "        dtype = df_new[column].dtypes\n",
    "        dtype_2 = df_frame[column].dtypes\n",
    "        similar_columns.append(column) # Save the similar keys in both dfs for joining\n",
    "        if dtype == 'float64' and dtype!= dtype_2: # If the dtype needs to be float and they have different dtypes remove commas, numbers are 1,20 instead of 1.20 which is needed for conversion\n",
    "            df_frame[column]= df_frame[column].str.replace(',', '.').astype(dtype)\n",
    "        elif dtype!= dtype_2: # If they are not the same just change the dtype\n",
    "            df_frame[column]= df_frame[column].astype(dtype) \n",
    "\n",
    "\n"
   ]
  },
  {
   "cell_type": "code",
   "execution_count": null,
   "metadata": {},
   "outputs": [],
   "source": [
    "histogram(df_frame,'Person_capacity')\n",
    "histogram(df_frame,'Host_id')\n"
   ]
  },
  {
   "cell_type": "code",
   "execution_count": null,
   "metadata": {},
   "outputs": [],
   "source": [
    "#Mergeing data \n",
    "df_merged = pd.merge(df_frame,df_new, on=\"ListingId\",how='left', suffixes=('', '_DROP')).filter(regex='^(?!.*_DROP)')\n",
    "\n",
    "#Dataframes per site\n",
    "df_bnb = df_merged[df_merged['site'] == 'AIRBNB']\n",
    "df_book = df_merged[df_merged['site'] == 'Booking']\n",
    "df_exp = df_merged[df_merged['site'] == 'Expedia']\n",
    "df_trip = df_merged[df_merged['site'] == 'Tripadvisor']\n",
    "df_verb = df_merged[df_merged['site'] == 'VRBO']"
   ]
  },
  {
   "cell_type": "code",
   "execution_count": null,
   "metadata": {},
   "outputs": [],
   "source": [
    "print('AIRBNB total lisitngs : ',len(df_bnb))\n",
    "print('Booking total lisitngs : ',len(df_book))\n",
    "print('Expedia total lisitngs : ',len(df_exp))\n",
    "print('Tripadvisor total lisitngs : ',len(df_trip))\n",
    "print('VRBO total lisitngs : ',len(df_verb))"
   ]
  },
  {
   "cell_type": "code",
   "execution_count": null,
   "metadata": {},
   "outputs": [],
   "source": [
    "labels = 'AIRBNB', 'Booking', 'Expedia', 'Tripadvisor','VRBO'\n",
    "sizes = [21173, 621, 168, 523,688]\n",
    "\n",
    "\n",
    "fig1, ax1 = plt.subplots()\n",
    "ax1.pie(sizes, labels=labels, autopct='%.0f%%',startangle=0)\n",
    "ax1.axis('equal')  # Equal aspect ratio ensures that pie is drawn as a circle.\n",
    "ax1.legend()\n",
    "plt.show()"
   ]
  },
  {
   "cell_type": "code",
   "execution_count": null,
   "metadata": {},
   "outputs": [],
   "source": [
    "\"\"\"histogram(df_merged,'Bedrooms')\n",
    "histogram(df_merged,'Bathrooms')\n",
    "histogram(df_merged,'Beds')\n",
    "histogram(df_merged,'bad_ratings_count')\n",
    "histogram(df_merged,'Is_new_listing')\n",
    "histogram(df_merged,'host_listings_count_hist')\n",
    "histogram(df_merged,'kpi_capacity_more_than_4')\n",
    "histogram(df_merged,'kpi_capacity_more_than_6')\n",
    "histogram(df_merged,'2021-08_available_days')\n",
    "histogram(df_merged,'host_reviews_per_listing')\n",
    "histogram(df_merged,'host_popularity_score_percentage')\n",
    "histogram(df_merged,'host_reviews_per_listing')\n",
    "histogram(df_merged,'host_reviews_per_year')\n",
    "histogram(df_merged,'Reviews_count')\n",
    "histogram(df_merged,'Picture_count')\"\"\"\n",
    "print(set(list(df_merged['site'])))"
   ]
  },
  {
   "cell_type": "code",
   "execution_count": null,
   "metadata": {},
   "outputs": [],
   "source": [
    "#Checking complete postal code\n",
    "complete_postalcode = 0\n",
    "for x in df_merged['postalcode'].dropna():\n",
    "    if re.search('[A-Za-z]', x):\n",
    "        complete_postalcode+=1\n",
    "print('Complete postal code format 1101MX :',complete_postalcode)\n",
    "print('Total postalcode:',len(df_merged['postalcode'].dropna()))"
   ]
  },
  {
   "cell_type": "code",
   "execution_count": null,
   "metadata": {},
   "outputs": [],
   "source": [
    "#Just information of the data sets do not tun\n",
    "\"\"\" DROP:\n",
    "    drop_list = ['Host_id','first_found_date','listing_published','listing_can_book','Listing_id_str',\n",
    "                'Public_address','Localized_city',\n",
    "                'User_Id','User_First_name','User_Smart_name','Host_smart_name','User_Thumbnail_url']\n",
    "    \n",
    "    Host_id : specific for each log in Airbnb only , for the rest 0 are Nan values therefore graph looks like it \n",
    "    first_found_date : complete only for bnb for the rest only 2 or 4 values are the same in all entries, why will this help the model\n",
    "    listing_published: bnb an booking {-1,0} for the rest all {-1}\n",
    "    listing_can_book: bnb{0,1} , for the rest 0 , what \n",
    "    Listing_id_str: another identifier only for bnb not extra info\n",
    "    \n",
    "    Host_thumbnail_url : same as Host profile pic but incomplete\n",
    "    \n",
    "    Public_address: bnb only seems similar to neighbourhood\n",
    "    Localized_city: bnb only , same as neighbourhood just use neighbourhood as is more complete\n",
    "    User_Id: bnb another identifier\n",
    "    User_First_name: same as user smart name\n",
    "    User_Smart_name: same as user smart name\n",
    "    Host_smart_name: less entries than Host_first_name\n",
    "    User_Thumbnail_url : same as host_Thumbnail_url\n",
    "    **Xl_picture_url : seems to be same as picture url but only bnb double check if there are broken links \n",
    "    \n",
    "    MAYBE DROP:\n",
    "    \n",
    "    Instant_bookable: Bookingtrip,exp,verb all 0s\n",
    "    Is_new_listing: Bookingtrip,exp,verb all 0s\n",
    "    \n",
    "    Property_type_id: seems like categories, will it be useful ?\n",
    "    Picture_count: How picture count will help ?\n",
    "    *Is_business_travel_ready: bnb only {0,'False'} \n",
    "    *Is_family_preferred : bnb only {0,'False'}\n",
    "    Host_has_profile_pic: only bnb -1,0,false,true will it be helpful?\n",
    "    Host_is_superhost: only bnb -1,0,false,true will it be helpful?\n",
    "    \n",
    "    \n",
    "    \n",
    "    TO BE CLEANED:\n",
    "    :) Name : Get rid of 'Aparthotel\\r\\nAmsterdam' that appears in Booking entries\n",
    "           In Trip Advisor '\\x91' \\x92 appears quite often  \n",
    "           Vrb \\x96  w/\n",
    "           Airbnb , expedia looks good\n",
    "    :) Bedrooms: Clean for 0s many 0s means Nan?  Airbnb has 10,12,15,50\n",
    "              exp seems good  \n",
    "              Trip advisor only 0s\n",
    "              Booking only 1\n",
    "              vrbo seems complete\n",
    "    :) Bathrooms: many 0s, in Booking, trip advisor, exp, vrbo all 0s actually\n",
    "    \n",
    "    :) Beds: trip, book, exp,verbo all 0s **ask if 0s are wrong for bnb checked multiple and actually wrong\n",
    "    \n",
    "    **Person_capacity: booking values seem weird {0, 5, 6, 7, 8, 12, 17} **checked and actually most 0 are wrong\n",
    "                     trip advisor all 0s  \n",
    "                     expedia, bnb, vrbo seems good  **cant access the websites for the rest the info seem to be wrong??\n",
    "                     \n",
    "    ?(maybe do not use) Property_type : bnb, verb okay , \n",
    "                    booking has but different categories , so how to combine?\n",
    "                    trip,exp nan\n",
    "                    \n",
    "    :) Host_first_name : Only in Airbn and Vrbo complete for the rest are Nan values, \n",
    "                      book : 'unknown' , trip,exp: 'nan',\n",
    "    \n",
    "    \n",
    "    \n",
    "    \n",
    "    kpi_capacity_more_than_6\\4 : only bnb{-1,0}, rest nan                  \n",
    "    :) kpi_instant_bookable: bnb complete, the rest have 0 values\n",
    "    kpi_host_lists_10_or_more:  bnb complete, the rest nan\n",
    "    2021-10_available_days: only bnb need to be converted to float {3,14}\n",
    "    :)reviews_count : bnb,verb complete, book,exp empty, trip all 0.0\n",
    "    \n",
    "    ALMOST REDY TO USE:\n",
    "    postalcode: complete for all however for bnb almost half of the entries after correcting for oukbend as nan\n",
    "    Neighborhood: complete (maybe use for blooking)\n",
    "    \n",
    "    Lat,Lng : some nan but ready to use\n",
    "    Picture_url: trip advisor, expedia empty the rest looks good (is link not pic already)\n",
    "    listing_url : compelete \n",
    "    Host_picture_url:  bnb and vrbp only  ; Trip advisor, booking, expedia empty \n",
    "    \n",
    "    kpi_host_lists_multiple: bnb only {-1,0}\n",
    "    \n",
    "    Host_thumbnail_url = only bnb picture of host small!\n",
    "    \n",
    "    Room_type_category: bnb only, the rest are nan\n",
    "    Room_type: bnb only in ducth, the rest are nan\n",
    "    Space_type: bnb only in ducth, the rest are nan\n",
    "    booking_count: bnb complete rest nan\n",
    "     \n",
    "    host_listings_count_hist: bnb complete rest nan\n",
    "    days_active: bnb complete rest nan\n",
    "    host_start_month:  bnb complete rest nan\n",
    "    host_start_year: bnb complete rest nan\n",
    "    reviews_year,reviews_6\\4\\1_months,rating_avg,bad_ratings_count: bnb complete rest nan\n",
    "\"\"\"\n",
    "\n",
    "set(list(df_merged['site']))\n"
   ]
  },
  {
   "cell_type": "code",
   "execution_count": null,
   "metadata": {},
   "outputs": [],
   "source": [
    "#drop Nan names? mostly incomplete check again after deciding which feautures to take 1285 Nan\n",
    "# Columns which are mainly empty or have similar information that other columns \n",
    "drop = ['wsa_listing_id','city','City','2021-06_available_days','registration_number',\n",
    "        '2021-07_available_days', '2022-01_available_days','Host_id','first_found_date','listing_published',\n",
    "        'listing_can_book','Listing_id_str', 'Public_address','Localized_city',\n",
    "        'User_Id','User_First_name','User_Smart_name','Host_smart_name','User_Thumbnail_url','Is_business_travel_ready','Is_family_preferred','User_Is_superhost','User_Has_profile_pic',\n",
    "        'Property_type']\n",
    "df_merged.drop(columns = drop ,inplace=True)\n",
    "\n",
    "# Cleaning Postalcode\n",
    "df_merged['postalcode'] = df_merged['postalcode'].map(lambda x: float(\"NaN\") if x =='Onbekend' else x)\n",
    "\n",
    "#Cleaning negatives ones , false and true entries\n",
    "for column in df_merged.columns:\n",
    "    try:\n",
    "        df_merged[column] = df_merged[column].astype('int64')\n",
    "    except ValueError:\n",
    "        if column in  ['Host_is_superhost','Host_has_profile_pic']:\n",
    "            df_merged[column] = df_merged[column].map(helper_negative_ones)\n",
    "              \n",
    "#Replace int by floats 198,00\n",
    "week_days = ['2021-08_available_days',\n",
    "       '2021-09_available_days', '2021-10_available_days',\n",
    "       '2021-11_available_days', '2021-12_available_days',\n",
    "       '2022-02_available_days', '2022-03_available_days',\n",
    "       '2022-04_available_days']\n",
    "\n",
    "for column in week_days:\n",
    "       df_merged[column] = df_merged[column].str.replace(',', '.').astype('float64')\n",
    "\n",
    "\n",
    "#Cleaning of data\n",
    "df_merged['Name'] = df_merged['Name'].str.replace('Apartments\\r\\n', '').str.replace('Apartment\\r\\n', '').str.replace('Aparthotel\\r\\n', '')\n",
    "df_merged['Name'] = df_merged['Name'].str.replace('\\x92', '').str.replace('\\x91', '').str.replace('\\x96', '').str.replace('w/', '')\n",
    "df_merged['Bedrooms'][df_merged['site']=='Booking'] = df_merged['Bedrooms'][df_merged['site']=='Booking'].replace(1.0,float(\"nan\")) \n",
    "df_merged['Bedrooms'][df_merged['site']=='Tripadvisor'] = df_merged['Bedrooms'][df_merged['site']=='Tripadvisor'].replace(0,float(\"nan\")) \n",
    "df_merged['Bathrooms'][df_merged['site']!='AIRBNB']= df_merged['Bathrooms'][df_merged['site']!='AIRBNB'].replace(0,float(\"nan\"))\n",
    "df_merged['Beds']= df_merged['Beds'].replace(0,float(\"nan\"))\n",
    "df_merged['Host_first_name'] = df_merged['Host_first_name'].replace('unknown', float(\"nan\"))\n",
    "df_merged['kpi_instant_bookable'][df_merged['site']!='AIRBNB'] =df_merged['kpi_instant_bookable'][df_merged['site']!='AIRBNB'].replace(0,float(\"nan\"))\n",
    "df_merged['reviews_count'][df_merged['site']=='Tripadvisor']= df_merged['reviews_count'][df_merged['site']=='Tripadvisor'].replace(0,float(\"nan\"))\n",
    "df_merged['days_active'] = df_merged['days_active'].str.replace(',', '.').astype('float64')\n",
    "df_merged['reviews_year'] = df_merged['reviews_year'].str.replace(',', '.').astype('float64')\n",
    "df_merged['reviews_6_months'] = df_merged['reviews_6_months'].str.replace(',', '.').astype('float64')\n",
    "df_merged['reviews_3_months'] = df_merged['reviews_3_months'].str.replace(',', '.').astype('float64')\n",
    "df_merged['reviews_1_month'] = df_merged['reviews_1_month'].str.replace(',', '.').astype('float64')\n",
    "df_merged['bad_ratings_count'] = df_merged['bad_ratings_count'].str.replace(',', '.').astype('float64')\n",
    "df_merged['year_total_available'] = df_merged['year_total_available'].str.replace(',', '.').astype('float64')\n",
    "\n",
    "#df_merged['Property_type'] = df_merged['Property_type'].str.replace('\\r\\n1', '').str.replace('\\r\\n2', '').str.replace('\\r\\n4', '')\n",
    "\n",
    "#Clean remove punctuation lowercase Neighborhood, string like values\n",
    "df_merged['Neighborhood'] = df_merged['Neighborhood'].map(clean_string) \n",
    "df_merged['Name']= df_merged['Name'].map(clean_string)\n",
    "df_merged['Room_type_category']= df_merged['Room_type_category'].map(clean_string)\n",
    "df_merged['Room_type']= df_merged['Room_type'].map(clean_string)\n",
    "df_merged['Space_type']= df_merged['Space_type'].map(clean_string) \n",
    "df_merged['Host_first_name']= df_merged['Host_first_name'].map(clean_string)"
   ]
  },
  {
   "cell_type": "code",
   "execution_count": null,
   "metadata": {},
   "outputs": [],
   "source": [
    "# Cleaning and joining all descriptions for a listing\n",
    "df_extra['listingid'] = df_extra['listingid'].astype(str)\n",
    "df_extra = df_extra.groupby('listingid')['Description'].apply(join)\n",
    "df_extra = pd.DataFrame(df_extra)\n",
    "df_extra= df_extra.reset_index()\n",
    "df_extra['listingid'] = df_extra['listingid'].astype(np.int64)"
   ]
  },
  {
   "cell_type": "code",
   "execution_count": null,
   "metadata": {},
   "outputs": [],
   "source": [
    "df_extra.to_csv('descriptions.csv',index=False)"
   ]
  },
  {
   "cell_type": "code",
   "execution_count": null,
   "metadata": {},
   "outputs": [],
   "source": [
    "df_extra_emb = pd.read_csv(r'C:\\Users\\Invitado\\Documents\\Python\\DS_MASTER\\City_Adam_Intern\\df_extra_emb.csv')"
   ]
  },
  {
   "cell_type": "code",
   "execution_count": null,
   "metadata": {},
   "outputs": [],
   "source": [
    "df_extra_emb.drop('Unnamed: 0',axis=1,inplace=True)\n",
    "df_extra_emb"
   ]
  },
  {
   "cell_type": "code",
   "execution_count": null,
   "metadata": {},
   "outputs": [],
   "source": [
    "df_merged = df_merged.merge(df_extra_emb,how='left',right_on='listingid',left_on='ListingId')\n",
    "df_merged.drop('listingid',axis=1,inplace=True)"
   ]
  },
  {
   "cell_type": "code",
   "execution_count": null,
   "metadata": {},
   "outputs": [],
   "source": [
    "df_red = df_merged[df_merged['last_found_date'].isna()]"
   ]
  },
  {
   "cell_type": "code",
   "execution_count": null,
   "metadata": {},
   "outputs": [],
   "source": [
    "df_red.to_csv('df_red.csv',index=False)"
   ]
  },
  {
   "cell_type": "code",
   "execution_count": null,
   "metadata": {},
   "outputs": [],
   "source": [
    "print('Total longitude',tot_nan_column(df_frame,'Lng'))\n",
    "print('Total latitude',tot_nan_column(df_frame,'Lat'))\n",
    "print('Total AirBnB longitude',tot_nan_column(df_bnb,'Lng'))\n",
    "print('Total AirBnB latitude',tot_nan_column(df_bnb,'Lat'))\n",
    "print('Total Booking longitude',tot_nan_column(df_book,'Lng'))\n",
    "print('Total Booking latitude',tot_nan_column(df_book,'Lat'))\n",
    "print('Total Expedia longitude',tot_nan_column(df_exp,'Lng'))\n",
    "print('Total Expedia latitude',tot_nan_column(df_exp,'Lat'))\n",
    "print('Total TripAD longitude',tot_nan_column(df_trip,'Lng'))\n",
    "print('Total TripAD latitude',tot_nan_column(df_trip,'Lat'))\n",
    "print('Total VRBO longitude',tot_nan_column(df_verb,'Lng'))\n",
    "print('Total VRBO latitude',tot_nan_column(df_verb,'Lat'))"
   ]
  },
  {
   "cell_type": "code",
   "execution_count": null,
   "metadata": {},
   "outputs": [],
   "source": [
    "print('Total non nan Lat',len(df_merged['Lat']))\n",
    "print('Total non nan Lon',len(df_merged['Lng']))\n",
    "print('Total non nan Lat non null',len(df_merged['Lat'].dropna()))\n",
    "print('Total non nan Lon non null',len(df_merged['Lng'].dropna()))"
   ]
  },
  {
   "cell_type": "code",
   "execution_count": null,
   "metadata": {},
   "outputs": [],
   "source": [
    "print('Total Postal codes',tot_nan_column(df_merged,'postalcode'),'out of', len(df_merged))\n",
    "print('Total AirBnB Postal codes',tot_nan_column(df_bnb,'postalcode'),len(df_bnb))\n",
    "print('Total Booking Postal codes',tot_nan_column(df_book,'postalcode'),len(df_book))\n",
    "print('Total Expedia Postal codes',tot_nan_column(df_exp,'postalcode'),len(df_exp))\n",
    "print('Total TripAD Postal codes',tot_nan_column(df_trip,'postalcode'),len(df_trip))\n",
    "print('Total VRBO Postal codes',tot_nan_column(df_verb,'postalcode'),len(df_verb))"
   ]
  },
  {
   "cell_type": "code",
   "execution_count": null,
   "metadata": {},
   "outputs": [],
   "source": [
    "df_merged.to_csv('merged_clean_df.csv')"
   ]
  }
 ],
 "metadata": {
  "interpreter": {
   "hash": "88a2f7f577888eb2710e0d5d9756c4025ff3188af31a1b3845b611b72892981c"
  },
  "kernelspec": {
   "display_name": "Python 3",
   "language": "python",
   "name": "python3"
  },
  "language_info": {
   "codemirror_mode": {
    "name": "ipython",
    "version": 3
   },
   "file_extension": ".py",
   "mimetype": "text/x-python",
   "name": "python",
   "nbconvert_exporter": "python",
   "pygments_lexer": "ipython3",
   "version": "3.8.5"
  }
 },
 "nbformat": 4,
 "nbformat_minor": 2
}
