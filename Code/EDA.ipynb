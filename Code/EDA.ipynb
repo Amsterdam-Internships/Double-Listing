{
 "cells": [
  {
   "cell_type": "code",
   "execution_count": 1,
   "metadata": {},
   "outputs": [],
   "source": [
    "from eda_fn import*\n",
    "import pandas as pd\n",
    "import numpy as np\n",
    "import matplotlib.pyplot as plt\n",
    "import recordlinkage as rl \n",
    "from recordlinkage.index import Block\n",
    "import re"
   ]
  },
  {
   "cell_type": "code",
   "execution_count": 4,
   "metadata": {},
   "outputs": [],
   "source": [
    "df_frame = pd.read_csv(r\"C:\\Users\\Invitado\\Documents\\Python\\DS_MASTER\\City_Adam_Intern\\tbl_listing_info_amsterdam_20200104.csv\") # Main data frame\n",
    "df_new = pd.read_csv(r\"C:\\Users\\Invitado\\Documents\\Python\\DS_MASTER\\City_Adam_Intern\\tbl_listings_research_18_02_2022.csv\") # Extra columns including more pictures \n",
    "df_extra = pd.read_csv(r\"C:\\Users\\Invitado\\Documents\\Python\\DS_MASTER\\City_Adam_Intern\\tbl_listing_description_07_03_2022.csv\") # description of listing dutch/english\n",
    "\n",
    "#Baseline data sets\n",
    "df_phones_cat = pd.read_csv(r'C:\\Users\\Invitado\\Documents\\Python\\DS_MASTER\\City_Adam_Intern\\phones_catalog.csv', sep='\\|\\|', engine='python')\n",
    "df_phones_notcat = pd.read_csv(r'C:\\Users\\Invitado\\Documents\\Python\\DS_MASTER\\City_Adam_Intern\\phones.csv', sep='\\|\\|', engine='python')\n",
    "df_pairs_baseline = pd.read_csv(r\"C:\\Users\\Invitado\\Documents\\Python\\DS_MASTER\\City_Adam_Intern\\phones_phones_catalog_gold_standard_train.csv\",sep=';')\n",
    "df_phones_json_baseline_1 = pd.read_json(r'C:\\Users\\Invitado\\Documents\\Python\\DS_MASTER\\City_Adam_Intern\\PhoneCatalog.json')\n",
    "df_phones_json_baseline_2 = pd.read_json(r'C:\\Users\\Invitado\\Documents\\Python\\DS_MASTER\\City_Adam_Intern\\phones.json')"
   ]
  },
  {
   "cell_type": "code",
   "execution_count": 5,
   "metadata": {},
   "outputs": [
    {
     "name": "stdout",
     "output_type": "stream",
     "text": [
      "Main dataf has: 64\n",
      "New data has 47\n"
     ]
    }
   ],
   "source": [
    "print('Main dataf has:',len(df_frame.columns))\n",
    "print('New data has', len(df_new.columns))"
   ]
  },
  {
   "cell_type": "code",
   "execution_count": 6,
   "metadata": {},
   "outputs": [
    {
     "name": "stdout",
     "output_type": "stream",
     "text": [
      "<class 'pandas.core.frame.DataFrame'>\n",
      "RangeIndex: 23173 entries, 0 to 23172\n",
      "Data columns (total 64 columns):\n",
      " #   Column                            Non-Null Count  Dtype  \n",
      "---  ------                            --------------  -----  \n",
      " 0   wsa_listing_id                    23173 non-null  int64  \n",
      " 1   customer_name                     23173 non-null  object \n",
      " 2   site                              23173 non-null  object \n",
      " 3   listing_id                        23173 non-null  object \n",
      " 4   registration_number               4600 non-null   object \n",
      " 5   house_name                        21888 non-null  object \n",
      " 6   city                              23173 non-null  object \n",
      " 7   postalcode                        23168 non-null  object \n",
      " 8   bedrooms                          21294 non-null  object \n",
      " 9   bathrooms                         9259 non-null   object \n",
      " 10  beds                              21751 non-null  object \n",
      " 11  person_capacity                   21135 non-null  float64\n",
      " 12  host_name                         20036 non-null  object \n",
      " 13  host_id                           6752 non-null   float64\n",
      " 14  host_picture                      8566 non-null   object \n",
      " 15  instant_bookable                  23173 non-null  int64  \n",
      " 16  is_new_listing                    23173 non-null  int64  \n",
      " 17  region                            23173 non-null  object \n",
      " 18  lat                               21921 non-null  float64\n",
      " 19  lng                               21921 non-null  float64\n",
      " 20  picture_url                       8469 non-null   object \n",
      " 21  reviews_count                     8811 non-null   float64\n",
      " 22  room_type_category                7278 non-null   object \n",
      " 23  room_type                         19921 non-null  object \n",
      " 24  space_type                        7278 non-null   object \n",
      " 25  property_type                     8531 non-null   object \n",
      " 26  booking_count                     6752 non-null   float64\n",
      " 27  host_listings_count_hist          6752 non-null   float64\n",
      " 28  kpi_capacity_more_than_4          7278 non-null   float64\n",
      " 29  kpi_capacity_more_than_6          7278 non-null   float64\n",
      " 30  kpi_instant_bookable              23173 non-null  int64  \n",
      " 31  kpi_host_lists_multiple           6752 non-null   float64\n",
      " 32  kpi_host_lists_10_or_more         6752 non-null   float64\n",
      " 33  days_active                       6752 non-null   object \n",
      " 34  host_start_year                   6752 non-null   float64\n",
      " 35  host_start_month                  6752 non-null   object \n",
      " 36  reviews_year                      15141 non-null  object \n",
      " 37  reviews_6_months                  15141 non-null  object \n",
      " 38  reviews_3_months                  15141 non-null  object \n",
      " 39  reviews_1_month                   15141 non-null  object \n",
      " 40  rating_avg                        15141 non-null  float64\n",
      " 41  bad_ratings_count                 15141 non-null  object \n",
      " 42  year_total_available              16766 non-null  object \n",
      " 43  2021-06_available_days            0 non-null      float64\n",
      " 44  2021-07_available_days            0 non-null      float64\n",
      " 45  2021-08_available_days            15834 non-null  object \n",
      " 46  2021-09_available_days            15848 non-null  object \n",
      " 47  2021-10_available_days            15864 non-null  object \n",
      " 48  2021-11_available_days            15871 non-null  object \n",
      " 49  2021-12_available_days            16734 non-null  object \n",
      " 50  2022-01_available_days            16766 non-null  object \n",
      " 51  2022-02_available_days            16766 non-null  object \n",
      " 52  2022-03_available_days            3828 non-null   object \n",
      " 53  2022-04_available_days            1419 non-null   object \n",
      " 54  2022-05_available_days            1419 non-null   float64\n",
      " 55  first_bookable_date               5542 non-null   object \n",
      " 56  host_popularity_score_percentage  6752 non-null   float64\n",
      " 57  host_reviews_per_listing          6752 non-null   float64\n",
      " 58  host_reviews_per_year             6752 non-null   float64\n",
      " 59  listing_url                       23173 non-null  object \n",
      " 60  first_found_date                  23173 non-null  object \n",
      " 61  last_found_date                   16757 non-null  object \n",
      " 62  listing_published                 23173 non-null  int64  \n",
      " 63  listing_can_book                  23173 non-null  int64  \n",
      "dtypes: float64(19), int64(6), object(39)\n",
      "memory usage: 11.3+ MB\n"
     ]
    }
   ],
   "source": [
    "df_frame.info()"
   ]
  },
  {
   "cell_type": "code",
   "execution_count": 7,
   "metadata": {},
   "outputs": [
    {
     "name": "stdout",
     "output_type": "stream",
     "text": [
      "<class 'pandas.core.frame.DataFrame'>\n",
      "RangeIndex: 5457 entries, 0 to 5456\n",
      "Data columns (total 47 columns):\n",
      " #   Column                    Non-Null Count  Dtype  \n",
      "---  ------                    --------------  -----  \n",
      " 0   Name                      5457 non-null   object \n",
      " 1   ListingId                 5457 non-null   int64  \n",
      " 2   registration_number       4209 non-null   object \n",
      " 3   Bathrooms                 5447 non-null   float64\n",
      " 4   Bedrooms                  5441 non-null   float64\n",
      " 5   Beds                      5414 non-null   float64\n",
      " 6   City                      5452 non-null   object \n",
      " 7   Listing_id_str            5457 non-null   int64  \n",
      " 8   Instant_bookable          5457 non-null   object \n",
      " 9   Is_business_travel_ready  5457 non-null   object \n",
      " 10  Is_family_preferred       5457 non-null   object \n",
      " 11  Is_new_listing            5457 non-null   object \n",
      " 12  Lat                       5457 non-null   float64\n",
      " 13  Lng                       5457 non-null   float64\n",
      " 14  Localized_city            5457 non-null   object \n",
      " 15  Neighborhood              5158 non-null   object \n",
      " 16  Person_capacity           5457 non-null   int64  \n",
      " 17  Picture_url               5457 non-null   object \n",
      " 18  Picture_count             5457 non-null   int64  \n",
      " 19  Host_first_name           5457 non-null   object \n",
      " 20  Host_has_profile_pic      5457 non-null   object \n",
      " 21  Host_id                   5457 non-null   int64  \n",
      " 22  Host_picture_url          5457 non-null   object \n",
      " 23  Host_smart_name           5457 non-null   object \n",
      " 24  Host_thumbnail_url        5457 non-null   object \n",
      " 25  Host_is_superhost         5457 non-null   object \n",
      " 26  Property_type_id          5456 non-null   float64\n",
      " 27  Property_type             5457 non-null   object \n",
      " 28  Public_address            5457 non-null   object \n",
      " 29  Reviews_count             5457 non-null   int64  \n",
      " 30  Room_type_category        5457 non-null   object \n",
      " 31  Room_type                 5457 non-null   object \n",
      " 32  Space_type                5457 non-null   object \n",
      " 33  Star_rating               4562 non-null   float64\n",
      " 34  User_Id                   5457 non-null   int64  \n",
      " 35  User_First_name           5457 non-null   object \n",
      " 36  User_Has_profile_pic      5457 non-null   object \n",
      " 37  User_Smart_name           5457 non-null   object \n",
      " 38  User_Thumbnail_url        5457 non-null   object \n",
      " 39  User_Is_superhost         5457 non-null   object \n",
      " 40  Xl_picture_url            5457 non-null   object \n",
      " 41  Picture_url1              5450 non-null   object \n",
      " 42  Picture_url2              5447 non-null   object \n",
      " 43  Picture_url3              5430 non-null   object \n",
      " 44  Picture_url4              5396 non-null   object \n",
      " 45  Picture_url5              5350 non-null   object \n",
      " 46  Picture_url6              5270 non-null   object \n",
      "dtypes: float64(7), int64(7), object(33)\n",
      "memory usage: 2.0+ MB\n"
     ]
    }
   ],
   "source": [
    "df_new.info()"
   ]
  },
  {
   "cell_type": "code",
   "execution_count": 8,
   "metadata": {},
   "outputs": [
    {
     "name": "stdout",
     "output_type": "stream",
     "text": [
      "<class 'pandas.core.frame.DataFrame'>\n",
      "RangeIndex: 50619 entries, 0 to 50618\n",
      "Data columns (total 3 columns):\n",
      " #   Column       Non-Null Count  Dtype \n",
      "---  ------       --------------  ----- \n",
      " 0   ID           50619 non-null  int64 \n",
      " 1   listingid    50619 non-null  int64 \n",
      " 2   Description  50619 non-null  object\n",
      "dtypes: int64(2), object(1)\n",
      "memory usage: 1.2+ MB\n"
     ]
    }
   ],
   "source": [
    "df_extra.info()"
   ]
  },
  {
   "cell_type": "code",
   "execution_count": 9,
   "metadata": {},
   "outputs": [
    {
     "name": "stdout",
     "output_type": "stream",
     "text": [
      "total listings descriptions 4672\n"
     ]
    }
   ],
   "source": [
    "print('total listings descriptions',len(set(list(df_extra['listingid']))))"
   ]
  },
  {
   "cell_type": "code",
   "execution_count": 10,
   "metadata": {},
   "outputs": [],
   "source": [
    "# From the frames this columns seem to contain the same entries Host_first_name== User_first_name == User_Smart_name == HOst_Smart_name \n",
    "# from df_frame custumer name == city == City in df_new\n",
    "# Some of the columns of df_new refer to the same column in df_frame but with different name\n",
    "df_frame.rename(columns={'customer_name':'City','house_name':'Name','bathrooms':'Bathrooms','bedrooms':'Bedrooms',\n",
    "                        'beds':'Beds','listing_id':'ListingId','instant_bookable':'Instant_bookable','is_new_listing':'Is_new_listing',\n",
    "                        'lat':'Lat','lng':'Lng','region':'Neighborhood','person_capacity':'Person_capacity','picture_url':'Picture_url',\n",
    "                        'host_name':'Host_first_name','host_id':'Host_id','property_type':'Property_type','room_type_category':'Room_type_category',\n",
    "                        'room_type':'Room_type','space_type':'Space_type','host_picture':'Host_picture_url'},inplace= True)"
   ]
  },
  {
   "cell_type": "code",
   "execution_count": 11,
   "metadata": {},
   "outputs": [
    {
     "data": {
      "image/png": "[encoded data removed]",
      "text/plain": [
       "<Figure size 432x288 with 1 Axes>"
      ]
     },
     "metadata": {
      "needs_background": "light"
     },
     "output_type": "display_data"
    },
    {
     "data": {
      "image/png": "[encoded data removed]",
      "text/plain": [
       "<Figure size 432x288 with 1 Axes>"
      ]
     },
     "metadata": {
      "needs_background": "light"
     },
     "output_type": "display_data"
    }
   ],
   "source": [
    "histogram(df_frame,'Person_capacity')\n",
    "histogram(df_frame,'Host_id')"
   ]
  },
  {
   "cell_type": "code",
   "execution_count": 12,
   "metadata": {},
   "outputs": [],
   "source": [
    "df_frame['ListingId'] = df_frame['ListingId'].str.replace('[A-Za-z]', '').astype('int64') # remove letters-ListingId has entries which start with a letter h123133... only in some sites\n",
    "df_frame['Person_capacity'].fillna(0,inplace=True)   # There are Nan values which creates a conflict while converting all columns into the same dtype , turn them to 0 temporarily\n",
    "df_frame['Host_id'].fillna(0,inplace=True) \n",
    "df_frame['Instant_bookable']= df_frame['Instant_bookable'].astype('int64') \n",
    "similar_columns = []\n",
    "# Make every similar column match the dtype so it can be joined\n",
    "for column in df_new.columns:\n",
    "    if column in df_frame.columns: #Only use columns which are similar in both df\n",
    "        dtype = df_new[column].dtypes\n",
    "        dtype_2 = df_frame[column].dtypes\n",
    "        similar_columns.append(column) # Save the similar keys in both dfs for joining\n",
    "        if dtype == 'float64' and dtype!= dtype_2: # If the dtype needs to be float and they have different dtypes remove commas, numbers are 1,20 instead of 1.20 which is needed for conversion\n",
    "            df_frame[column]= df_frame[column].str.replace(',', '.').astype(dtype)\n",
    "        elif dtype!= dtype_2: # If they are not the same just change the dtype\n",
    "            df_frame[column]= df_frame[column].astype(dtype) \n",
    "\n",
    "\n"
   ]
  },
  {
   "cell_type": "code",
   "execution_count": 13,
   "metadata": {},
   "outputs": [
    {
     "data": {
      "image/png": "[encoded data removed]",
      "text/plain": [
       "<Figure size 432x288 with 1 Axes>"
      ]
     },
     "metadata": {
      "needs_background": "light"
     },
     "output_type": "display_data"
    },
    {
     "data": {
      "image/png": "[encoded data removed]",
      "text/plain": [
       "<Figure size 432x288 with 1 Axes>"
      ]
     },
     "metadata": {
      "needs_background": "light"
     },
     "output_type": "display_data"
    }
   ],
   "source": [
    "histogram(df_frame,'Person_capacity')\n",
    "histogram(df_frame,'Host_id')\n"
   ]
  },
  {
   "cell_type": "code",
   "execution_count": 14,
   "metadata": {},
   "outputs": [],
   "source": [
    "#Mergeing data \n",
    "df_merged = pd.merge(df_frame,df_new, on=\"ListingId\",how='left', suffixes=('', '_DROP')).filter(regex='^(?!.*_DROP)')\n",
    "\n",
    "#Dataframes per site\n",
    "df_bnb = df_merged[df_merged['site'] == 'AIRBNB']\n",
    "df_book = df_merged[df_merged['site'] == 'Booking']\n",
    "df_exp = df_merged[df_merged['site'] == 'Expedia']\n",
    "df_trip = df_merged[df_merged['site'] == 'Tripadvisor']\n",
    "df_verb = df_merged[df_merged['site'] == 'VRBO']"
   ]
  },
  {
   "cell_type": "code",
   "execution_count": 15,
   "metadata": {},
   "outputs": [
    {
     "name": "stdout",
     "output_type": "stream",
     "text": [
      "AIRBNB total lisitngs :  21173\n",
      "Booking total lisitngs :  621\n",
      "Expedia total lisitngs :  168\n",
      "Tripadvisor total lisitngs :  523\n",
      "VRBO total lisitngs :  688\n"
     ]
    }
   ],
   "source": [
    "print('AIRBNB total lisitngs : ',len(df_bnb))\n",
    "print('Booking total lisitngs : ',len(df_book))\n",
    "print('Expedia total lisitngs : ',len(df_exp))\n",
    "print('Tripadvisor total lisitngs : ',len(df_trip))\n",
    "print('VRBO total lisitngs : ',len(df_verb))"
   ]
  },
  {
   "cell_type": "code",
   "execution_count": 16,
   "metadata": {},
   "outputs": [
    {
     "data": {
      "image/png": "[encoded data removed]",
      "text/plain": [
       "<Figure size 432x288 with 1 Axes>"
      ]
     },
     "metadata": {},
     "output_type": "display_data"
    }
   ],
   "source": [
    "labels = 'AIRBNB', 'Booking', 'Expedia', 'Tripadvisor','VRBO'\n",
    "sizes = [21173, 621, 168, 523,688]\n",
    "\n",
    "\n",
    "fig1, ax1 = plt.subplots()\n",
    "ax1.pie(sizes, labels=labels, autopct='%.0f%%',startangle=0)\n",
    "ax1.axis('equal')  # Equal aspect ratio ensures that pie is drawn as a circle.\n",
    "ax1.legend()\n",
    "plt.show()"
   ]
  },
  {
   "cell_type": "code",
   "execution_count": 17,
   "metadata": {},
   "outputs": [
    {
     "data": {
      "text/plain": [
       "\"histogram(df_merged,'Bedrooms')\\nhistogram(df_merged,'Bathrooms')\\nhistogram(df_merged,'Beds')\\nhistogram(df_merged,'bad_ratings_count')\\nhistogram(df_merged,'Is_new_listing')\\nhistogram(df_merged,'host_listings_count_hist')\\nhistogram(df_merged,'kpi_capacity_more_than_4')\\nhistogram(df_merged,'kpi_capacity_more_than_6')\\nhistogram(df_merged,'2021-08_available_days')\\nhistogram(df_merged,'host_reviews_per_listing')\\nhistogram(df_merged,'host_popularity_score_percentage')\\nhistogram(df_merged,'host_reviews_per_listing')\\nhistogram(df_merged,'host_reviews_per_year')\\nhistogram(df_merged,'Reviews_count')\\nhistogram(df_merged,'Picture_count')\""
      ]
     },
     "execution_count": 17,
     "metadata": {},
     "output_type": "execute_result"
    }
   ],
   "source": [
    "\"\"\"histogram(df_merged,'Bedrooms')\n",
    "histogram(df_merged,'Bathrooms')\n",
    "histogram(df_merged,'Beds')\n",
    "histogram(df_merged,'bad_ratings_count')\n",
    "histogram(df_merged,'Is_new_listing')\n",
    "histogram(df_merged,'host_listings_count_hist')\n",
    "histogram(df_merged,'kpi_capacity_more_than_4')\n",
    "histogram(df_merged,'kpi_capacity_more_than_6')\n",
    "histogram(df_merged,'2021-08_available_days')\n",
    "histogram(df_merged,'host_reviews_per_listing')\n",
    "histogram(df_merged,'host_popularity_score_percentage')\n",
    "histogram(df_merged,'host_reviews_per_listing')\n",
    "histogram(df_merged,'host_reviews_per_year')\n",
    "histogram(df_merged,'Reviews_count')\n",
    "histogram(df_merged,'Picture_count')\"\"\""
   ]
  },
  {
   "cell_type": "code",
   "execution_count": 18,
   "metadata": {},
   "outputs": [
    {
     "name": "stdout",
     "output_type": "stream",
     "text": [
      "Complete postal code format 1101MX : 23050\n",
      "Total postalcode: 23168\n"
     ]
    }
   ],
   "source": [
    "#Checking complete postal code\n",
    "complete_postalcode = 0\n",
    "for x in df_merged['postalcode'].dropna():\n",
    "    if re.search('[A-Za-z]', x):\n",
    "        complete_postalcode+=1\n",
    "print('Complete postal code format 1101MX :',complete_postalcode)\n",
    "print('Total postalcode:',len(df_merged['postalcode'].dropna()))"
   ]
  },
  {
   "cell_type": "code",
   "execution_count": 19,
   "metadata": {
    "scrolled": false
   },
   "outputs": [
    {
     "data": {
      "text/plain": [
       "{'AIRBNB', 'Booking', 'Expedia', 'Tripadvisor', 'VRBO'}"
      ]
     },
     "execution_count": 19,
     "metadata": {},
     "output_type": "execute_result"
    }
   ],
   "source": [
    "\"\"\" DROP:\n",
    "    drop_list = ['Host_id','first_found_date','listing_published','listing_can_book','Listing_id_str',\n",
    "                'Public_address','Localized_city',\n",
    "                'User_Id','User_First_name','User_Smart_name','Host_smart_name','User_Thumbnail_url']\n",
    "    \n",
    "    Host_id : specific for each log in Airbnb only , for the rest 0 are Nan values therefore graph looks like it \n",
    "    first_found_date : complete only for bnb for the rest only 2 or 4 values are the same in all entries, why will this help the model\n",
    "    listing_published: bnb an booking {-1,0} for the rest all {-1}\n",
    "    listing_can_book: bnb{0,1} , for the rest 0 , what \n",
    "    Listing_id_str: another identifier only for bnb not extra info\n",
    "    \n",
    "    Host_thumbnail_url : same as Host profile pic but incomplete\n",
    "    \n",
    "    Public_address: bnb only seems similar to neighbourhood\n",
    "    Localized_city: bnb only , same as neighbourhood just use neighbourhood as is more complete\n",
    "    User_Id: bnb another identifier\n",
    "    User_First_name: same as user smart name\n",
    "    User_Smart_name: same as user smart name\n",
    "    Host_smart_name: less entries than Host_first_name\n",
    "    User_Thumbnail_url : same as host_Thumbnail_url\n",
    "    **Xl_picture_url : seems to be same as picture url but only bnb double check if there are broken links \n",
    "    \n",
    "    MAYBE DROP:\n",
    "    \n",
    "    Instant_bookable: Bookingtrip,exp,verb all 0s\n",
    "    Is_new_listing: Bookingtrip,exp,verb all 0s\n",
    "    \n",
    "    Property_type_id: seems like categories, will it be useful ?\n",
    "    Picture_count: How picture count will help ?\n",
    "    *Is_business_travel_ready: bnb only {0,'False'} \n",
    "    *Is_family_preferred : bnb only {0,'False'}\n",
    "    Host_has_profile_pic: only bnb -1,0,false,true will it be helpful?\n",
    "    Host_is_superhost: only bnb -1,0,false,true will it be helpful?\n",
    "    \n",
    "    \n",
    "    \n",
    "    TO BE CLEANED:\n",
    "    :) Name : Get rid of 'Aparthotel\\r\\nAmsterdam' that appears in Booking entries\n",
    "           In Trip Advisor '\\x91' \\x92 appears quite often  \n",
    "           Vrb \\x96  w/\n",
    "           Airbnb , expedia looks good\n",
    "    :) Bedrooms: Clean for 0s many 0s means Nan?  Airbnb has 10,12,15,50\n",
    "              exp seems good  \n",
    "              Trip advisor only 0s\n",
    "              Booking only 1\n",
    "              vrbo seems complete\n",
    "    :) Bathrooms: many 0s, in Booking, trip advisor, exp, vrbo all 0s actually\n",
    "    \n",
    "    :) Beds: trip, book, exp,verbo all 0s **ask if 0s are wrong for bnb checked multiple and actually wrong\n",
    "    \n",
    "    **Person_capacity: booking values seem weird {0, 5, 6, 7, 8, 12, 17} **checked and actually most 0 are wrong\n",
    "                     trip advisor all 0s  \n",
    "                     expedia, bnb, vrbo seems good  **cant access the websites for the rest the info seem to be wrong??\n",
    "                     \n",
    "    ?(maybe do not use) Property_type : bnb, verb okay , \n",
    "                    booking has but different categories , so how to combine?\n",
    "                    trip,exp nan\n",
    "                    \n",
    "    :) Host_first_name : Only in Airbn and Vrbo complete for the rest are Nan values, \n",
    "                      book : 'unknown' , trip,exp: 'nan',\n",
    "    \n",
    "    \n",
    "    \n",
    "    \n",
    "    kpi_capacity_more_than_6\\4 : only bnb{-1,0}, rest nan                  \n",
    "    :) kpi_instant_bookable: bnb complete, the rest have 0 values\n",
    "    kpi_host_lists_10_or_more:  bnb complete, the rest nan\n",
    "    2021-10_available_days: only bnb need to be converted to float {3,14}\n",
    "    :)reviews_count : bnb,verb complete, book,exp empty, trip all 0.0\n",
    "    \n",
    "    ALMOST REDY TO USE:\n",
    "    postalcode: complete for all however for bnb almost half of the entries after correcting for oukbend as nan\n",
    "    Neighborhood: complete (maybe use for blooking)\n",
    "    \n",
    "    Lat,Lng : some nan but ready to use\n",
    "    Picture_url: trip advisor, expedia empty the rest looks good (is link not pic already)\n",
    "    listing_url : compelete \n",
    "    Host_picture_url:  bnb and vrbp only  ; Trip advisor, booking, expedia empty \n",
    "    \n",
    "    kpi_host_lists_multiple: bnb only {-1,0}\n",
    "    \n",
    "    Host_thumbnail_url = only bnb picture of host small!\n",
    "    \n",
    "    Room_type_category: bnb only, the rest are nan\n",
    "    Room_type: bnb only in ducth, the rest are nan\n",
    "    Space_type: bnb only in ducth, the rest are nan\n",
    "    booking_count: bnb complete rest nan\n",
    "     \n",
    "    host_listings_count_hist: bnb complete rest nan\n",
    "    days_active: bnb complete rest nan\n",
    "    host_start_month:  bnb complete rest nan\n",
    "    host_start_year: bnb complete rest nan\n",
    "    reviews_year,reviews_6\\4\\1_months,rating_avg,bad_ratings_count: bnb complete rest nan\n",
    "\"\"\"\n",
    "\n",
    "set(list(df_merged['site']))\n"
   ]
  },
  {
   "cell_type": "code",
   "execution_count": 20,
   "metadata": {},
   "outputs": [
    {
     "name": "stderr",
     "output_type": "stream",
     "text": [
      "<ipython-input-20-9fcaa4091c06>:35: SettingWithCopyWarning: \n",
      "A value is trying to be set on a copy of a slice from a DataFrame\n",
      "\n",
      "See the caveats in the documentation: https://pandas.pydata.org/pandas-docs/stable/user_guide/indexing.html#returning-a-view-versus-a-copy\n",
      "  df_merged['Bedrooms'][df_merged['site']=='Booking'] = df_merged['Bedrooms'][df_merged['site']=='Booking'].replace(1.0,float(\"nan\"))\n",
      "<ipython-input-20-9fcaa4091c06>:36: SettingWithCopyWarning: \n",
      "A value is trying to be set on a copy of a slice from a DataFrame\n",
      "\n",
      "See the caveats in the documentation: https://pandas.pydata.org/pandas-docs/stable/user_guide/indexing.html#returning-a-view-versus-a-copy\n",
      "  df_merged['Bedrooms'][df_merged['site']=='Tripadvisor'] = df_merged['Bedrooms'][df_merged['site']=='Tripadvisor'].replace(0,float(\"nan\"))\n",
      "<ipython-input-20-9fcaa4091c06>:37: SettingWithCopyWarning: \n",
      "A value is trying to be set on a copy of a slice from a DataFrame\n",
      "\n",
      "See the caveats in the documentation: https://pandas.pydata.org/pandas-docs/stable/user_guide/indexing.html#returning-a-view-versus-a-copy\n",
      "  df_merged['Bathrooms'][df_merged['site']!='AIRBNB']= df_merged['Bathrooms'][df_merged['site']!='AIRBNB'].replace(0,float(\"nan\"))\n",
      "<ipython-input-20-9fcaa4091c06>:40: SettingWithCopyWarning: \n",
      "A value is trying to be set on a copy of a slice from a DataFrame\n",
      "\n",
      "See the caveats in the documentation: https://pandas.pydata.org/pandas-docs/stable/user_guide/indexing.html#returning-a-view-versus-a-copy\n",
      "  df_merged['kpi_instant_bookable'][df_merged['site']!='AIRBNB'] =df_merged['kpi_instant_bookable'][df_merged['site']!='AIRBNB'].replace(0,float(\"nan\"))\n",
      "<ipython-input-20-9fcaa4091c06>:41: SettingWithCopyWarning: \n",
      "A value is trying to be set on a copy of a slice from a DataFrame\n",
      "\n",
      "See the caveats in the documentation: https://pandas.pydata.org/pandas-docs/stable/user_guide/indexing.html#returning-a-view-versus-a-copy\n",
      "  df_merged['reviews_count'][df_merged['site']=='Tripadvisor']= df_merged['reviews_count'][df_merged['site']=='Tripadvisor'].replace(0,float(\"nan\"))\n"
     ]
    }
   ],
   "source": [
    "#drop Nan names? mostly incomplete check again after deciding which feautures to take 1285 Nan\n",
    "# Columns which are mainly empty or have similar information that other columns \n",
    "drop = ['wsa_listing_id','city','City','2021-06_available_days','registration_number',\n",
    "        '2021-07_available_days', '2022-01_available_days','Host_id','first_found_date','listing_published',\n",
    "        'listing_can_book','Listing_id_str', 'Public_address','Localized_city',\n",
    "        'User_Id','User_First_name','User_Smart_name','Host_smart_name','User_Thumbnail_url','Is_business_travel_ready','Is_family_preferred','User_Is_superhost','User_Has_profile_pic',\n",
    "        'Property_type']\n",
    "df_merged.drop(columns = drop ,inplace=True)\n",
    "\n",
    "# Cleaning Postalcode\n",
    "df_merged['postalcode'] = df_merged['postalcode'].map(lambda x: float(\"NaN\") if x =='Onbekend' else x)\n",
    "\n",
    "#Cleaning negatives ones , false and true entries\n",
    "for column in df_merged.columns:\n",
    "    try:\n",
    "        df_merged[column] = df_merged[column].astype('int64')\n",
    "    except ValueError:\n",
    "        if column in  ['Host_is_superhost','Host_has_profile_pic']:\n",
    "            df_merged[column] = df_merged[column].map(helper_negative_ones)\n",
    "              \n",
    "#Replace int by floats 198,00\n",
    "week_days = ['2021-08_available_days',\n",
    "       '2021-09_available_days', '2021-10_available_days',\n",
    "       '2021-11_available_days', '2021-12_available_days',\n",
    "       '2022-02_available_days', '2022-03_available_days',\n",
    "       '2022-04_available_days']\n",
    "\n",
    "for column in week_days:\n",
    "       df_merged[column] = df_merged[column].str.replace(',', '.').astype('float64')\n",
    "\n",
    "\n",
    "#Cleaning of data\n",
    "df_merged['Name'] = df_merged['Name'].str.replace('Apartments\\r\\n', '').str.replace('Apartment\\r\\n', '').str.replace('Aparthotel\\r\\n', '')\n",
    "df_merged['Name'] = df_merged['Name'].str.replace('\\x92', '').str.replace('\\x91', '').str.replace('\\x96', '').str.replace('w/', '')\n",
    "df_merged['Bedrooms'][df_merged['site']=='Booking'] = df_merged['Bedrooms'][df_merged['site']=='Booking'].replace(1.0,float(\"nan\")) \n",
    "df_merged['Bedrooms'][df_merged['site']=='Tripadvisor'] = df_merged['Bedrooms'][df_merged['site']=='Tripadvisor'].replace(0,float(\"nan\")) \n",
    "df_merged['Bathrooms'][df_merged['site']!='AIRBNB']= df_merged['Bathrooms'][df_merged['site']!='AIRBNB'].replace(0,float(\"nan\"))\n",
    "df_merged['Beds']= df_merged['Beds'].replace(0,float(\"nan\"))\n",
    "df_merged['Host_first_name'] = df_merged['Host_first_name'].replace('unknown', float(\"nan\"))\n",
    "df_merged['kpi_instant_bookable'][df_merged['site']!='AIRBNB'] =df_merged['kpi_instant_bookable'][df_merged['site']!='AIRBNB'].replace(0,float(\"nan\"))\n",
    "df_merged['reviews_count'][df_merged['site']=='Tripadvisor']= df_merged['reviews_count'][df_merged['site']=='Tripadvisor'].replace(0,float(\"nan\"))\n",
    "df_merged['days_active'] = df_merged['days_active'].str.replace(',', '.').astype('float64')\n",
    "df_merged['reviews_year'] = df_merged['reviews_year'].str.replace(',', '.').astype('float64')\n",
    "df_merged['reviews_6_months'] = df_merged['reviews_6_months'].str.replace(',', '.').astype('float64')\n",
    "df_merged['reviews_3_months'] = df_merged['reviews_3_months'].str.replace(',', '.').astype('float64')\n",
    "df_merged['reviews_1_month'] = df_merged['reviews_1_month'].str.replace(',', '.').astype('float64')\n",
    "df_merged['bad_ratings_count'] = df_merged['bad_ratings_count'].str.replace(',', '.').astype('float64')\n",
    "df_merged['year_total_available'] = df_merged['year_total_available'].str.replace(',', '.').astype('float64')\n",
    "\n",
    "#df_merged['Property_type'] = df_merged['Property_type'].str.replace('\\r\\n1', '').str.replace('\\r\\n2', '').str.replace('\\r\\n4', '')\n",
    "\n",
    "#Clean remove punctuation lowercase Neighborhood, string like values\n",
    "df_merged['Neighborhood'] = df_merged['Neighborhood'].map(clean_string) \n",
    "df_merged['Name']= df_merged['Name'].map(clean_string)\n",
    "df_merged['Room_type_category']= df_merged['Room_type_category'].map(clean_string)\n",
    "df_merged['Room_type']= df_merged['Room_type'].map(clean_string)\n",
    "df_merged['Space_type']= df_merged['Space_type'].map(clean_string) \n",
    "df_merged['Host_first_name']= df_merged['Host_first_name'].map(clean_string)"
   ]
  },
  {
   "cell_type": "code",
   "execution_count": 196,
   "metadata": {},
   "outputs": [],
   "source": [
    "#df_merged[df_merged['last_found_date'].isna()]"
   ]
  },
  {
   "cell_type": "code",
   "execution_count": 195,
   "metadata": {},
   "outputs": [
    {
     "data": {
      "text/plain": [
       "'authentic ground floor house in the lively neighbourhood  de pijp  de ruimtethe dining room has a huge window makes you feel like sitting on the sidewalk  and the same is at the  orangery  at the back where you have a good connection with the garden  south  and a lot of light  a lot of the original  details are still there  supplementary to the modern warm design of the interior and furniture  most of the furniture is hand made the house is perfect for a couple with two kids   there are two children bedrooms with high sleepers for children age  onwards and a lot of toys and a pleasant playing field at the orangery there is one double sofabed   m wide  in the living room  i can also put a queensize bed in the orangery  the dining room has a huge window makes you feel like sitting on the sidewalk  and the same is at the  orangery  at the back where you have a good connection with the garden  south  and a lot of light  a lot of the original  details are still there  supplementary to the modern warm design of the interior and furniture  most of the furniture is hand made the house is perfect for a couple with two kids   there are two children bedrooms with high sleepers for children age  onwards and a lot of toys and a pleasant playing field at the orangery there is one double sofabed   m wide  in the living room  i can also put a queensize bed in the orangery  hulpdieren mogen mee en hoeven niet als huisdier te worden toegevoegd      '"
      ]
     },
     "execution_count": 195,
     "metadata": {},
     "output_type": "execute_result"
    }
   ],
   "source": [
    "clean_descrp(df_extra['Description'][df_extra['listingid'] == 10008030][0])\n",
    "\n",
    "def join(strings):\n",
    "    final_string = ''\n",
    "    for x in strings:\n",
    "        x = clean_descrp(x)\n",
    "        if not re.match(x,final_string):\n",
    "            final_string += x\n",
    "            final_string += ' '\n",
    "    return final_string\n",
    "check = [x for x in df_extra['Description'][df_extra['listingid'] == 10008030]]\n",
    "join(check)"
   ]
  },
  {
   "cell_type": "code",
   "execution_count": 193,
   "metadata": {},
   "outputs": [
    {
     "data": {
      "text/plain": [
       "0    Authentic ground floor house in the lively nei...\n",
       "1    Authentic ground floor house in the lively nei...\n",
       "2    Authentic ground floor house in the lively nei...\n",
       "3    The dining room has a huge window makes you fe...\n",
       "4    Hulpdieren mogen mee en hoeven niet als huisdi...\n",
       "5    Authentic ground floor house in the lively nei...\n",
       "Name: Description, dtype: object"
      ]
     },
     "execution_count": 193,
     "metadata": {},
     "output_type": "execute_result"
    }
   ],
   "source": [
    "def clean_string(string):\n",
    "    if type(string) == str:\n",
    "        res = re.sub(r'[^\\w\\s]', ' ', string)\n",
    "        res = res.lower()\n",
    "        return res\n",
    "    else:\n",
    "        return np.nan\n",
    "        \n",
    "df_extra['Description'][df_extra['listingid'] == 10008030]"
   ]
  },
  {
   "cell_type": "code",
   "execution_count": 194,
   "metadata": {},
   "outputs": [],
   "source": [
    "def clean_descrp(string):\n",
    "    string = string.replace('<br />', '').replace('<b>', '').replace('</b>', '').replace('Registratienummer', '')\n",
    "    string = string.replace('\\x80', '').replace('\\x92', '').replace('\\x94', '').replace('\\x91', '')\n",
    "    string = re.sub('[0-9][0-9][0-9][0-9] [0-9][0-9][0-9][A-Z] [0-9][A-Z][0-9][0-9] [0-9][0-9][A-Z][0-9] [A-Z][0-9][A-Z][A-Z]','',string)\n",
    "    string = re.sub('[0-9]','',string)\n",
    "    \n",
    "    string= clean_string(string)\n",
    "    string =string.replace('br', '')\n",
    "    return(string)"
   ]
  },
  {
   "cell_type": "code",
   "execution_count": 174,
   "metadata": {},
   "outputs": [
    {
     "data": {
      "text/plain": [
       "'hotel jansen is gelegen in amsterdam zuid dicht bij zuid wtc stationhet dichtstbijzijnde station  vannaar amsterdam zuid station naar hotel jansensnelste route  minuten   loop naar het metrostation zuid ongeveer  minuut van de treinen neem metro  naar isolatorweg uw halte na   minuten is henk sneevlietwegvanaf de henk sneevlietweg is het  minuten lopen naar het hotelkortste wandelroute  minuten  loop naar bustramstation zuid ongeveer  minuten van de treinen neem bus  naar station lelylaan na   minuten stop je op het aalsmeerpleinvanaf het aalsmeerplein is het  minuten lopen naar het hotel loop naar het tbwagebouw'"
      ]
     },
     "execution_count": 174,
     "metadata": {},
     "output_type": "execute_result"
    }
   ],
   "source": [
    "x = df_extra['Description'][df_extra['listingid'] == 10025641].iloc[7]\n",
    "clean_descrp(x)"
   ]
  },
  {
   "cell_type": "code",
   "execution_count": 21,
   "metadata": {},
   "outputs": [
    {
     "name": "stdout",
     "output_type": "stream",
     "text": [
      "Total longitude 21921\n",
      "Total latitude 21921\n",
      "Total AirBnB longitude 19921\n",
      "Total AirBnB latitude 19921\n",
      "Total Booking longitude 621\n",
      "Total Booking latitude 621\n",
      "Total Expedia longitude 168\n",
      "Total Expedia latitude 168\n",
      "Total TripAD longitude 523\n",
      "Total TripAD latitude 523\n",
      "Total VRBO longitude 688\n",
      "Total VRBO latitude 688\n"
     ]
    }
   ],
   "source": [
    "print('Total longitude',tot_nan_column(df_frame,'Lng'))\n",
    "print('Total latitude',tot_nan_column(df_frame,'Lat'))\n",
    "print('Total AirBnB longitude',tot_nan_column(df_bnb,'Lng'))\n",
    "print('Total AirBnB latitude',tot_nan_column(df_bnb,'Lat'))\n",
    "print('Total Booking longitude',tot_nan_column(df_book,'Lng'))\n",
    "print('Total Booking latitude',tot_nan_column(df_book,'Lat'))\n",
    "print('Total Expedia longitude',tot_nan_column(df_exp,'Lng'))\n",
    "print('Total Expedia latitude',tot_nan_column(df_exp,'Lat'))\n",
    "print('Total TripAD longitude',tot_nan_column(df_trip,'Lng'))\n",
    "print('Total TripAD latitude',tot_nan_column(df_trip,'Lat'))\n",
    "print('Total VRBO longitude',tot_nan_column(df_verb,'Lng'))\n",
    "print('Total VRBO latitude',tot_nan_column(df_verb,'Lat'))"
   ]
  },
  {
   "cell_type": "code",
   "execution_count": 22,
   "metadata": {},
   "outputs": [
    {
     "name": "stdout",
     "output_type": "stream",
     "text": [
      "Total non nan Lat 23173\n",
      "Total non nan Lon 23173\n",
      "Total non nan Lat non null 21921\n",
      "Total non nan Lon non null 21921\n"
     ]
    }
   ],
   "source": [
    "print('Total non nan Lat',len(df_merged['Lat']))\n",
    "print('Total non nan Lon',len(df_merged['Lng']))\n",
    "print('Total non nan Lat non null',len(df_merged['Lat'].dropna()))\n",
    "print('Total non nan Lon non null',len(df_merged['Lng'].dropna()))"
   ]
  },
  {
   "cell_type": "code",
   "execution_count": 23,
   "metadata": {},
   "outputs": [
    {
     "name": "stdout",
     "output_type": "stream",
     "text": [
      "Total Postal codes 8789 out of 23173\n",
      "Total AirBnB Postal codes 21171 21173\n",
      "Total Booking Postal codes 619 621\n",
      "Total Expedia Postal codes 168 168\n",
      "Total TripAD Postal codes 523 523\n",
      "Total VRBO Postal codes 687 688\n"
     ]
    }
   ],
   "source": [
    "print('Total Postal codes',tot_nan_column(df_merged,'postalcode'),'out of', len(df_merged))\n",
    "print('Total AirBnB Postal codes',tot_nan_column(df_bnb,'postalcode'),len(df_bnb))\n",
    "print('Total Booking Postal codes',tot_nan_column(df_book,'postalcode'),len(df_book))\n",
    "print('Total Expedia Postal codes',tot_nan_column(df_exp,'postalcode'),len(df_exp))\n",
    "print('Total TripAD Postal codes',tot_nan_column(df_trip,'postalcode'),len(df_trip))\n",
    "print('Total VRBO Postal codes',tot_nan_column(df_verb,'postalcode'),len(df_verb))"
   ]
  },
  {
   "cell_type": "code",
   "execution_count": 27,
   "metadata": {},
   "outputs": [
    {
     "name": "stdout",
     "output_type": "stream",
     "text": [
      "16613041\n"
     ]
    }
   ],
   "source": [
    "#indexer = recordlinkage.Index()\n",
    "indexer = rl.BlockIndex(on='Neighborhood')\n",
    "candidate_links = indexer.index(df_merged)\n",
    "\n",
    "print (len(candidate_links))"
   ]
  },
  {
   "cell_type": "code",
   "execution_count": 28,
   "metadata": {},
   "outputs": [
    {
     "name": "stdout",
     "output_type": "stream",
     "text": [
      "MultiIndex([( 2, 0),\n",
      "            (31, 0),\n",
      "            (31, 2)],\n",
      "           )\n",
      "zuid\n",
      "zuid\n"
     ]
    }
   ],
   "source": [
    "print(candidate_links[0:3])\n",
    "print(df_merged['Neighborhood'].loc[2])\n",
    "print(df_merged['Neighborhood'].loc[0])"
   ]
  },
  {
   "cell_type": "code",
   "execution_count": 29,
   "metadata": {},
   "outputs": [],
   "source": [
    "compare_cl = rl.Compare()\n",
    "\n",
    "compare_cl.exact('Neighborhood','Neighborhood', label='Neighborhood')\n",
    "compare_cl.geo('Lat','Lng','Lat','Lng',method='linear',label='Distance')\n",
    "\n",
    "features = compare_cl.compute(candidate_links, df_merged)"
   ]
  },
  {
   "cell_type": "code",
   "execution_count": 30,
   "metadata": {},
   "outputs": [
    {
     "data": {
      "text/html": [
       "<div>\n",
       "<style scoped>\n",
       "    .dataframe tbody tr th:only-of-type {\n",
       "        vertical-align: middle;\n",
       "    }\n",
       "\n",
       "    .dataframe tbody tr th {\n",
       "        vertical-align: top;\n",
       "    }\n",
       "\n",
       "    .dataframe thead th {\n",
       "        text-align: right;\n",
       "    }\n",
       "</style>\n",
       "<table border=\"1\" class=\"dataframe\">\n",
       "  <thead>\n",
       "    <tr style=\"text-align: right;\">\n",
       "      <th></th>\n",
       "      <th></th>\n",
       "      <th>Neighborhood</th>\n",
       "      <th>Distance</th>\n",
       "    </tr>\n",
       "  </thead>\n",
       "  <tbody>\n",
       "    <tr>\n",
       "      <th>2</th>\n",
       "      <th>0</th>\n",
       "      <td>1</td>\n",
       "      <td>0.032854</td>\n",
       "    </tr>\n",
       "    <tr>\n",
       "      <th rowspan=\"2\" valign=\"top\">31</th>\n",
       "      <th>0</th>\n",
       "      <td>1</td>\n",
       "      <td>0.000000</td>\n",
       "    </tr>\n",
       "    <tr>\n",
       "      <th>2</th>\n",
       "      <td>1</td>\n",
       "      <td>0.703605</td>\n",
       "    </tr>\n",
       "    <tr>\n",
       "      <th rowspan=\"2\" valign=\"top\">49</th>\n",
       "      <th>0</th>\n",
       "      <td>1</td>\n",
       "      <td>0.108769</td>\n",
       "    </tr>\n",
       "    <tr>\n",
       "      <th>2</th>\n",
       "      <td>1</td>\n",
       "      <td>0.604510</td>\n",
       "    </tr>\n",
       "    <tr>\n",
       "      <th>...</th>\n",
       "      <th>...</th>\n",
       "      <td>...</td>\n",
       "      <td>...</td>\n",
       "    </tr>\n",
       "    <tr>\n",
       "      <th rowspan=\"5\" valign=\"top\">16614</th>\n",
       "      <th>5302</th>\n",
       "      <td>1</td>\n",
       "      <td>0.937829</td>\n",
       "    </tr>\n",
       "    <tr>\n",
       "      <th>10587</th>\n",
       "      <td>1</td>\n",
       "      <td>0.986317</td>\n",
       "    </tr>\n",
       "    <tr>\n",
       "      <th>10961</th>\n",
       "      <td>1</td>\n",
       "      <td>0.971189</td>\n",
       "    </tr>\n",
       "    <tr>\n",
       "      <th>12671</th>\n",
       "      <td>1</td>\n",
       "      <td>0.957603</td>\n",
       "    </tr>\n",
       "    <tr>\n",
       "      <th>16097</th>\n",
       "      <td>1</td>\n",
       "      <td>0.915112</td>\n",
       "    </tr>\n",
       "  </tbody>\n",
       "</table>\n",
       "<p>16613041 rows × 2 columns</p>\n",
       "</div>"
      ],
      "text/plain": [
       "             Neighborhood  Distance\n",
       "2     0                 1  0.032854\n",
       "31    0                 1  0.000000\n",
       "      2                 1  0.703605\n",
       "49    0                 1  0.108769\n",
       "      2                 1  0.604510\n",
       "...                   ...       ...\n",
       "16614 5302              1  0.937829\n",
       "      10587             1  0.986317\n",
       "      10961             1  0.971189\n",
       "      12671             1  0.957603\n",
       "      16097             1  0.915112\n",
       "\n",
       "[16613041 rows x 2 columns]"
      ]
     },
     "execution_count": 30,
     "metadata": {},
     "output_type": "execute_result"
    }
   ],
   "source": [
    "features"
   ]
  },
  {
   "cell_type": "code",
   "execution_count": 32,
   "metadata": {},
   "outputs": [],
   "source": [
    "matches_blocking = features[features['Distance'] > 0.95] # which threshold to use? \n",
    "\n",
    "pairs_tuples =list(matches_blocking.index) #list with all the possible matching pairs 150k"
   ]
  },
  {
   "cell_type": "code",
   "execution_count": 109,
   "metadata": {},
   "outputs": [],
   "source": [
    "\n",
    "df_merged.to_csv('merged_clean_df.csv')"
   ]
  },
  {
   "cell_type": "code",
   "execution_count": 61,
   "metadata": {},
   "outputs": [],
   "source": [
    "check = []\n",
    "for x,y in matches_blocking.index:\n",
    "    check.append(x) \n",
    "    check.append(y)\n",
    "check = set(check)"
   ]
  },
  {
   "cell_type": "code",
   "execution_count": 31,
   "metadata": {},
   "outputs": [],
   "source": [
    "\n",
    "rl.write_annotation_file(\n",
    "    \"annotation_bnb_vrb.json\",\n",
    "    features[features.sum(axis=1) > 2.999982  ].index,\n",
    "    df_bnb[['wsa_listing_id', 'customer_name', 'site', 'listing_id', 'house_name', 'city', 'postalcode', 'bedrooms', 'bathrooms', 'beds', 'person_capacity', 'host_name', 'host_picture', 'instant_bookable', 'is_new_listing', 'region', 'lat', 'lng', 'picture_url', 'reviews_count', 'property_type', 'kpi_instant_bookable', 'listing_url', 'first_found_date', 'listing_published', 'listing_can_book']],\n",
    "    df_verb[['wsa_listing_id', 'customer_name', 'site', 'listing_id', 'house_name', 'city', 'postalcode', 'bedrooms', 'bathrooms', 'beds', 'person_capacity', 'host_name', 'host_picture', 'instant_bookable', 'is_new_listing', 'region', 'lat', 'lng', 'picture_url', 'reviews_count', 'property_type', 'kpi_instant_bookable', 'listing_url', 'first_found_date', 'listing_published', 'listing_can_book']],\n",
    "    dataset_a_name=\"AirBnb\",\n",
    "    dataset_b_name=\"VRBO\"\n",
    ")"
   ]
  },
  {
   "cell_type": "code",
   "execution_count": 23,
   "metadata": {},
   "outputs": [
    {
     "name": "stdout",
     "output_type": "stream",
     "text": [
      "Matches in AirBnB and VRBO with Postal code Lat, Ln: 19\n",
      "Non-matches in AirBnB and VRBO with Postal code Lat, Ln: 87\n"
     ]
    }
   ],
   "source": [
    "result = rl.read_annotation_file('result_bnb_vrb.json')\n",
    "print('Matches in AirBnB and VRBO with Postal code Lat, Ln:',len(result.links))\n",
    "print('Non-matches in AirBnB and VRBO with Postal code Lat, Ln:',len(result.distinct))"
   ]
  },
  {
   "cell_type": "code",
   "execution_count": 26,
   "metadata": {},
   "outputs": [
    {
     "data": {
      "text/plain": [
       "MultiIndex([(12125, 22515),\n",
       "            (12125, 22517),\n",
       "            ( 8290, 22920),\n",
       "            ( 4475, 23032),\n",
       "            ( 4561, 23078),\n",
       "            ( 8704, 23077),\n",
       "            ( 9012, 23079),\n",
       "            ( 9013, 22558),\n",
       "            ( 9016, 22559),\n",
       "            ( 9017, 22560),\n",
       "            ( 9019, 23080),\n",
       "            ( 9023, 22561),\n",
       "            ( 9077, 23076),\n",
       "            ( 7959, 22677),\n",
       "            ( 7948, 22764),\n",
       "            (14879, 22633),\n",
       "            (10766, 22780),\n",
       "            (10797, 23085),\n",
       "            (20196, 22985)],\n",
       "           )"
      ]
     },
     "execution_count": 26,
     "metadata": {},
     "output_type": "execute_result"
    }
   ],
   "source": [
    "result.links"
   ]
  },
  {
   "cell_type": "code",
   "execution_count": 24,
   "metadata": {},
   "outputs": [
    {
     "name": "stdout",
     "output_type": "stream",
     "text": [
      "783\n"
     ]
    }
   ],
   "source": [
    "#indexer = recordlinkage.Index()\n",
    "indexer = rl.BlockIndex(on='postalcode')\n",
    "candidate_links = indexer.index(df_bnb, df_trip)\n",
    "\n",
    "print (len(candidate_links))"
   ]
  },
  {
   "cell_type": "code",
   "execution_count": 81,
   "metadata": {},
   "outputs": [],
   "source": [
    "compare_cl = rl.Compare()\n",
    "\n",
    "compare_cl.exact('postalcode', 'postalcode', label='postalcode')\n",
    "compare_cl.numeric('lat', 'lat', label='lat')\n",
    "compare_cl.numeric('lng', 'lng', label='lng')\n",
    "\n",
    "\n",
    "features = compare_cl.compute(candidate_links, df_bnb, df_trip)"
   ]
  },
  {
   "cell_type": "code",
   "execution_count": 82,
   "metadata": {},
   "outputs": [
    {
     "data": {
      "text/plain": [
       "2.999904    1\n",
       "2.999903    1\n",
       "2.999903    1\n",
       "2.999903    2\n",
       "2.999903    2\n",
       "2.999902    1\n",
       "2.999902    1\n",
       "2.999900    1\n",
       "2.999900    1\n",
       "2.999899    1\n",
       "2.999898    1\n",
       "2.999898    1\n",
       "2.999897    2\n",
       "2.999897    1\n",
       "2.999896    1\n",
       "2.999895    1\n",
       "2.999895    1\n",
       "2.999893    6\n",
       "2.999893    1\n",
       "2.999892    1\n",
       "dtype: int64"
      ]
     },
     "execution_count": 82,
     "metadata": {},
     "output_type": "execute_result"
    }
   ],
   "source": [
    "features.sum(axis=1).value_counts().sort_index(ascending=False).iloc[80:100]"
   ]
  },
  {
   "cell_type": "code",
   "execution_count": 83,
   "metadata": {},
   "outputs": [
    {
     "data": {
      "text/html": [
       "<div>\n",
       "<style scoped>\n",
       "    .dataframe tbody tr th:only-of-type {\n",
       "        vertical-align: middle;\n",
       "    }\n",
       "\n",
       "    .dataframe tbody tr th {\n",
       "        vertical-align: top;\n",
       "    }\n",
       "\n",
       "    .dataframe thead th {\n",
       "        text-align: right;\n",
       "    }\n",
       "</style>\n",
       "<table border=\"1\" class=\"dataframe\">\n",
       "  <thead>\n",
       "    <tr style=\"text-align: right;\">\n",
       "      <th></th>\n",
       "      <th></th>\n",
       "      <th>postalcode</th>\n",
       "      <th>lat</th>\n",
       "      <th>lng</th>\n",
       "    </tr>\n",
       "  </thead>\n",
       "  <tbody>\n",
       "    <tr>\n",
       "      <th>86</th>\n",
       "      <th>22424</th>\n",
       "      <td>1</td>\n",
       "      <td>0.999997</td>\n",
       "      <td>0.999951</td>\n",
       "    </tr>\n",
       "    <tr>\n",
       "      <th>293</th>\n",
       "      <th>22009</th>\n",
       "      <td>1</td>\n",
       "      <td>0.999962</td>\n",
       "      <td>0.999945</td>\n",
       "    </tr>\n",
       "    <tr>\n",
       "      <th>3681</th>\n",
       "      <th>22009</th>\n",
       "      <td>1</td>\n",
       "      <td>0.999978</td>\n",
       "      <td>0.999970</td>\n",
       "    </tr>\n",
       "    <tr>\n",
       "      <th>458</th>\n",
       "      <th>22302</th>\n",
       "      <td>1</td>\n",
       "      <td>0.999995</td>\n",
       "      <td>0.999931</td>\n",
       "    </tr>\n",
       "    <tr>\n",
       "      <th>461</th>\n",
       "      <th>22075</th>\n",
       "      <td>1</td>\n",
       "      <td>0.999976</td>\n",
       "      <td>0.999987</td>\n",
       "    </tr>\n",
       "    <tr>\n",
       "      <th>...</th>\n",
       "      <th>...</th>\n",
       "      <td>...</td>\n",
       "      <td>...</td>\n",
       "      <td>...</td>\n",
       "    </tr>\n",
       "    <tr>\n",
       "      <th rowspan=\"2\" valign=\"top\">18094</th>\n",
       "      <th>22176</th>\n",
       "      <td>1</td>\n",
       "      <td>0.999969</td>\n",
       "      <td>0.999960</td>\n",
       "    </tr>\n",
       "    <tr>\n",
       "      <th>22239</th>\n",
       "      <td>1</td>\n",
       "      <td>0.999969</td>\n",
       "      <td>0.999960</td>\n",
       "    </tr>\n",
       "    <tr>\n",
       "      <th>19168</th>\n",
       "      <th>22011</th>\n",
       "      <td>1</td>\n",
       "      <td>0.999997</td>\n",
       "      <td>0.999898</td>\n",
       "    </tr>\n",
       "    <tr>\n",
       "      <th rowspan=\"2\" valign=\"top\">20799</th>\n",
       "      <th>22408</th>\n",
       "      <td>1</td>\n",
       "      <td>0.999994</td>\n",
       "      <td>0.999947</td>\n",
       "    </tr>\n",
       "    <tr>\n",
       "      <th>22421</th>\n",
       "      <td>1</td>\n",
       "      <td>0.999992</td>\n",
       "      <td>0.999951</td>\n",
       "    </tr>\n",
       "  </tbody>\n",
       "</table>\n",
       "<p>129 rows × 3 columns</p>\n",
       "</div>"
      ],
      "text/plain": [
       "             postalcode       lat       lng\n",
       "86    22424           1  0.999997  0.999951\n",
       "293   22009           1  0.999962  0.999945\n",
       "3681  22009           1  0.999978  0.999970\n",
       "458   22302           1  0.999995  0.999931\n",
       "461   22075           1  0.999976  0.999987\n",
       "...                 ...       ...       ...\n",
       "18094 22176           1  0.999969  0.999960\n",
       "      22239           1  0.999969  0.999960\n",
       "19168 22011           1  0.999997  0.999898\n",
       "20799 22408           1  0.999994  0.999947\n",
       "      22421           1  0.999992  0.999951\n",
       "\n",
       "[129 rows x 3 columns]"
      ]
     },
     "execution_count": 83,
     "metadata": {},
     "output_type": "execute_result"
    }
   ],
   "source": [
    "features[features.sum(axis=1) > 2.999892 ]"
   ]
  },
  {
   "cell_type": "code",
   "execution_count": 84,
   "metadata": {},
   "outputs": [],
   "source": [
    "rl.write_annotation_file(\n",
    "    \"annotation_bnb_trip.json\",\n",
    "    features[features.sum(axis=1) > 2.999892 ].index,\n",
    "    df_bnb[nan_trip.keys()],\n",
    "    df_trip[nan_trip.keys()],\n",
    "    dataset_a_name=\"AirBnb\",\n",
    "    dataset_b_name=\"Trip\"\n",
    ")"
   ]
  },
  {
   "cell_type": "code",
   "execution_count": 86,
   "metadata": {},
   "outputs": [
    {
     "data": {
      "text/plain": [
       "nan"
      ]
     },
     "execution_count": 86,
     "metadata": {},
     "output_type": "execute_result"
    }
   ],
   "source": [
    "df_trip['picture_url'].loc[22009]\n"
   ]
  },
  {
   "cell_type": "code",
   "execution_count": 106,
   "metadata": {},
   "outputs": [
    {
     "name": "stdout",
     "output_type": "stream",
     "text": [
      "Matches in AirBnB and VRBO with Postal code Lat, Ln: 28\n",
      "Non-matches in AirBnB and VRBO with Postal code Lat, Ln: 101\n"
     ]
    }
   ],
   "source": [
    "result = rl.read_annotation_file('result_bnb_trip.json')\n",
    "print('Matches in AirBnB and VRBO with Postal code Lat, Ln:',len(result.links))\n",
    "print('Non-matches in AirBnB and VRBO with Postal code Lat, Ln:',len(result.distinct))"
   ]
  }
 ],
 "metadata": {
  "interpreter": {
   "hash": "88a2f7f577888eb2710e0d5d9756c4025ff3188af31a1b3845b611b72892981c"
  },
  "kernelspec": {
   "display_name": "Python 3",
   "language": "python",
   "name": "python3"
  },
  "language_info": {
   "codemirror_mode": {
    "name": "ipython",
    "version": 3
   },
   "file_extension": ".py",
   "mimetype": "text/x-python",
   "name": "python",
   "nbconvert_exporter": "python",
   "pygments_lexer": "ipython3",
   "version": "3.8.5"
  }
 },
 "nbformat": 4,
 "nbformat_minor": 2
}
