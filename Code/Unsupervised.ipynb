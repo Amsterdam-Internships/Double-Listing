{
 "cells": [
  {
   "cell_type": "code",
   "execution_count": 1,
   "metadata": {},
   "outputs": [],
   "source": [
    "import pandas as pd\n",
    "import numpy as np\n",
    "import matplotlib.pyplot as plt\n",
    "from numpy import matlib\n",
    "from thresholding import*\n",
    "import random\n",
    "import re"
   ]
  },
  {
   "cell_type": "code",
   "execution_count": 2,
   "metadata": {},
   "outputs": [],
   "source": [
    "df_sim = pd.read_csv(r'C:\\Users\\Invitado\\Documents\\Python\\DS_MASTER\\City_Adam_Intern\\df_sim.csv')\n",
    "df_sim['ids'] = list(zip(df_sim.ListingId_1, df_sim.ListingId_2))\n",
    "df_full = pd.read_csv(r'C:\\Users\\Invitado\\Documents\\Python\\DS_MASTER\\City_Adam_Intern\\merged_clean_df.csv')\n",
    "df_full.drop('Unnamed: 0',axis=1,inplace=True)"
   ]
  },
  {
   "cell_type": "code",
   "execution_count": 3,
   "metadata": {},
   "outputs": [
    {
     "name": "stdout",
     "output_type": "stream",
     "text": [
      "15339    https://www.airbnb.nl/rooms/41709087\n",
      "Name: listing_url, dtype: object\n",
      "15209    https://www.airbnb.nl/rooms/41339519\n",
      "Name: listing_url, dtype: object\n"
     ]
    }
   ],
   "source": [
    "def compare(df,id_1,id_2):\n",
    "    #Compare URLS\n",
    "    print(df['listing_url'][df['ListingId']==id_1])\n",
    "    #print(df[df['ListingId']==id_1].values)\n",
    "    print(df['listing_url'][df['ListingId']==id_2])\n",
    "    #print(df[df['ListingId']==id_2].values)\n",
    "    return \n",
    "compare(df_full,41709087,41339519)"
   ]
  },
  {
   "cell_type": "code",
   "execution_count": 4,
   "metadata": {},
   "outputs": [],
   "source": [
    "sorted_dataset = scoring_unsupervised(df_sim)"
   ]
  },
  {
   "cell_type": "code",
   "execution_count": 25,
   "metadata": {},
   "outputs": [
    {
     "data": {
      "image/png": "[encoded data removed]",
      "text/plain": [
       "<Figure size 432x288 with 1 Axes>"
      ]
     },
     "metadata": {
      "needs_background": "light"
     },
     "output_type": "display_data"
    },
    {
     "name": "stdout",
     "output_type": "stream",
     "text": [
      "Knee of the curve is at index = 147708\n",
      "Knee value = 0.6665915406733495\n"
     ]
    }
   ],
   "source": [
    "threshold,index = elbow_threshold(sorted_dataset) "
   ]
  },
  {
   "cell_type": "code",
   "execution_count": 26,
   "metadata": {},
   "outputs": [],
   "source": [
    "matches_score_weight, nonmatches_score_weight = unsupervised_labels(sorted_dataset,threshold)"
   ]
  },
  {
   "cell_type": "code",
   "execution_count": 30,
   "metadata": {},
   "outputs": [
    {
     "data": {
      "text/html": [
       "<div>\n",
       "<style scoped>\n",
       "    .dataframe tbody tr th:only-of-type {\n",
       "        vertical-align: middle;\n",
       "    }\n",
       "\n",
       "    .dataframe tbody tr th {\n",
       "        vertical-align: top;\n",
       "    }\n",
       "\n",
       "    .dataframe thead th {\n",
       "        text-align: right;\n",
       "    }\n",
       "</style>\n",
       "<table border=\"1\" class=\"dataframe\">\n",
       "  <thead>\n",
       "    <tr style=\"text-align: right;\">\n",
       "      <th></th>\n",
       "      <th>ids</th>\n",
       "      <th>agg_score</th>\n",
       "      <th>weights</th>\n",
       "      <th>uns_label</th>\n",
       "    </tr>\n",
       "  </thead>\n",
       "  <tbody>\n",
       "    <tr>\n",
       "      <th>0</th>\n",
       "      <td>(9451726, 35863069)</td>\n",
       "      <td>0.666592</td>\n",
       "      <td>0.000000</td>\n",
       "      <td>1.0</td>\n",
       "    </tr>\n",
       "    <tr>\n",
       "      <th>1</th>\n",
       "      <td>(4276796, 26779777)</td>\n",
       "      <td>0.666600</td>\n",
       "      <td>0.000026</td>\n",
       "      <td>1.0</td>\n",
       "    </tr>\n",
       "    <tr>\n",
       "      <th>2</th>\n",
       "      <td>(34050698, 2879050)</td>\n",
       "      <td>0.666625</td>\n",
       "      <td>0.000100</td>\n",
       "      <td>1.0</td>\n",
       "    </tr>\n",
       "    <tr>\n",
       "      <th>3</th>\n",
       "      <td>(2247902, 16622510)</td>\n",
       "      <td>0.666629</td>\n",
       "      <td>0.000113</td>\n",
       "      <td>1.0</td>\n",
       "    </tr>\n",
       "    <tr>\n",
       "      <th>4</th>\n",
       "      <td>(26418034, 22374354)</td>\n",
       "      <td>0.666633</td>\n",
       "      <td>0.000124</td>\n",
       "      <td>1.0</td>\n",
       "    </tr>\n",
       "    <tr>\n",
       "      <th>...</th>\n",
       "      <td>...</td>\n",
       "      <td>...</td>\n",
       "      <td>...</td>\n",
       "      <td>...</td>\n",
       "    </tr>\n",
       "    <tr>\n",
       "      <th>150593</th>\n",
       "      <td>(20916514, 16747165)</td>\n",
       "      <td>0.666576</td>\n",
       "      <td>0.000024</td>\n",
       "      <td>0.0</td>\n",
       "    </tr>\n",
       "    <tr>\n",
       "      <th>150594</th>\n",
       "      <td>(18746453, 13824148)</td>\n",
       "      <td>0.666578</td>\n",
       "      <td>0.000021</td>\n",
       "      <td>0.0</td>\n",
       "    </tr>\n",
       "    <tr>\n",
       "      <th>150595</th>\n",
       "      <td>(9412502, 21760247)</td>\n",
       "      <td>0.666582</td>\n",
       "      <td>0.000014</td>\n",
       "      <td>0.0</td>\n",
       "    </tr>\n",
       "    <tr>\n",
       "      <th>150596</th>\n",
       "      <td>(46369237, 46368959)</td>\n",
       "      <td>0.666586</td>\n",
       "      <td>0.000009</td>\n",
       "      <td>0.0</td>\n",
       "    </tr>\n",
       "    <tr>\n",
       "      <th>150597</th>\n",
       "      <td>(22189826, 21502112)</td>\n",
       "      <td>0.666586</td>\n",
       "      <td>0.000008</td>\n",
       "      <td>0.0</td>\n",
       "    </tr>\n",
       "  </tbody>\n",
       "</table>\n",
       "<p>150598 rows × 4 columns</p>\n",
       "</div>"
      ],
      "text/plain": [
       "                         ids  agg_score   weights  uns_label\n",
       "0        (9451726, 35863069)   0.666592  0.000000        1.0\n",
       "1        (4276796, 26779777)   0.666600  0.000026        1.0\n",
       "2        (34050698, 2879050)   0.666625  0.000100        1.0\n",
       "3        (2247902, 16622510)   0.666629  0.000113        1.0\n",
       "4       (26418034, 22374354)   0.666633  0.000124        1.0\n",
       "...                      ...        ...       ...        ...\n",
       "150593  (20916514, 16747165)   0.666576  0.000024        0.0\n",
       "150594  (18746453, 13824148)   0.666578  0.000021        0.0\n",
       "150595   (9412502, 21760247)   0.666582  0.000014        0.0\n",
       "150596  (46369237, 46368959)   0.666586  0.000009        0.0\n",
       "150597  (22189826, 21502112)   0.666586  0.000008        0.0\n",
       "\n",
       "[150598 rows x 4 columns]"
      ]
     },
     "execution_count": 30,
     "metadata": {},
     "output_type": "execute_result"
    }
   ],
   "source": [
    "columns = ['ids','agg_score','weights','uns_label']\n",
    "uns_labels = matches_score_weight+nonmatches_score_weight\n",
    "df_uns = pd.DataFrame(uns_labels,columns=columns)\n",
    "df_uns "
   ]
  },
  {
   "cell_type": "code",
   "execution_count": 38,
   "metadata": {},
   "outputs": [],
   "source": [
    "df_uns_label= df_sim.merge(df_uns,on='ids')\n",
    "df_uns_label.to_csv('df_uns_label.csv',index=False)"
   ]
  },
  {
   "cell_type": "code",
   "execution_count": null,
   "metadata": {},
   "outputs": [],
   "source": []
  },
  {
   "cell_type": "code",
   "execution_count": null,
   "metadata": {},
   "outputs": [],
   "source": []
  },
  {
   "cell_type": "code",
   "execution_count": null,
   "metadata": {},
   "outputs": [],
   "source": []
  },
  {
   "cell_type": "code",
   "execution_count": null,
   "metadata": {},
   "outputs": [],
   "source": []
  },
  {
   "cell_type": "code",
   "execution_count": null,
   "metadata": {},
   "outputs": [],
   "source": []
  }
 ],
 "metadata": {
  "interpreter": {
   "hash": "88a2f7f577888eb2710e0d5d9756c4025ff3188af31a1b3845b611b72892981c"
  },
  "kernelspec": {
   "display_name": "Python 3.8.5 ('base')",
   "language": "python",
   "name": "python3"
  },
  "language_info": {
   "codemirror_mode": {
    "name": "ipython",
    "version": 3
   },
   "file_extension": ".py",
   "mimetype": "text/x-python",
   "name": "python",
   "nbconvert_exporter": "python",
   "pygments_lexer": "ipython3",
   "version": "3.8.5"
  },
  "orig_nbformat": 4
 },
 "nbformat": 4,
 "nbformat_minor": 2
}
