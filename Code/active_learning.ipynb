{
 "cells": [
  {
   "cell_type": "code",
   "execution_count": 1,
   "metadata": {},
   "outputs": [],
   "source": [
    "import numpy as np\n",
    "import pandas as pd\n",
    "\n",
    "from modAL.models import ActiveLearner\n",
    "from modAL.uncertainty import uncertainty_sampling\n",
    "#from modAL.models import Committee\n",
    "#from modAL.disagreement import vote_entropy_sampling\n",
    "\n",
    "from sklearn.ensemble import RandomForestClassifier\n",
    "from sklearn.ensemble import RandomForestClassifier, GradientBoostingClassifier\n",
    "from sklearn.linear_model import LogisticRegression\n",
    "import sklearn.linear_model\n",
    "from sklearn.tree import DecisionTreeClassifier\n",
    "from sklearn.neighbors import KNeighborsClassifier\n",
    "from sklearn.svm import SVC\n",
    "from sklearn.metrics import precision_recall_fscore_support\n",
    "import xgboost as xgb\n",
    "from sklearn.model_selection import GridSearchCV\n",
    "\n",
    "import recordlinkage as rl\n",
    "from active_learn import*\n",
    "\n",
    "from IPython import display\n",
    "from matplotlib import pyplot as plt\n",
    "%matplotlib inline\n",
    "\n",
    "import warnings\n",
    "warnings.filterwarnings(\"ignore\")\n",
    "from importlib import reload\n",
    "#reload(spam)"
   ]
  },
  {
   "cell_type": "code",
   "execution_count": 2,
   "metadata": {},
   "outputs": [],
   "source": [
    "df_uns = pd.read_csv(r'C:\\Users\\Invitado\\Documents\\Python\\DS_MASTER\\City_Adam_Intern\\df_uns_label_img_1.csv')\n",
    "df_full = pd.read_csv(r'C:\\Users\\Invitado\\Documents\\Python\\DS_MASTER\\City_Adam_Intern\\merged_clean_df.csv')\n",
    "df_full.drop('Unnamed: 0',axis=1,inplace=True)\n",
    "\n",
    "#Manually annotated data\n",
    "test_1 = rl.read_annotation_file(r'C:\\Users\\Invitado\\Documents\\Python\\DS_MASTER\\City_Adam_Intern\\result_bnb_trip.json')\n",
    "test_2 = rl.read_annotation_file(r'C:\\Users\\Invitado\\Documents\\Python\\DS_MASTER\\City_Adam_Intern\\result_bnb_vrb.json')\n",
    "\n",
    "#Baselines fully labeled\n",
    "#df_base_train = pd.read_csv(r'C:\\Users\\Invitado\\Documents\\Python\\DS_MASTER\\City_Adam_Intern\\UnsupervisedBootAL-master\\datasets\\wdc_product\\features_phones_phones_catalog_train')\n",
    "#df_base_test = pd.read_csv(r'C:\\Users\\Invitado\\Documents\\Python\\DS_MASTER\\City_Adam_Intern\\UnsupervisedBootAL-master\\datasets\\wdc_product\\features_phones_phones_catalog_test')\n",
    "#Baseline with unsupervised\n",
    "df_full_base = pd.read_csv(r'C:\\Users\\Invitado\\Documents\\Python\\DS_MASTER\\City_Adam_Intern\\df_uns_label_base_train.csv')\n",
    "df_full_base['label'] = df_full_base['label'].map(to_bin)"
   ]
  },
  {
   "cell_type": "code",
   "execution_count": null,
   "metadata": {},
   "outputs": [],
   "source": []
  },
  {
   "cell_type": "code",
   "execution_count": 3,
   "metadata": {},
   "outputs": [],
   "source": [
    "df_base_train = df_full_base.loc[:1761]\n",
    "df_base_test = df_full_base.loc[1762:]"
   ]
  },
  {
   "cell_type": "code",
   "execution_count": 4,
   "metadata": {},
   "outputs": [
    {
     "name": "stdout",
     "output_type": "stream",
     "text": [
      "https://www.airbnb.nl/rooms/10161202\n",
      "https://www.airbnb.nl/rooms/10161074\n"
     ]
    },
    {
     "data": {
      "text/plain": [
       "'Links retreived'"
      ]
     },
     "execution_count": 4,
     "metadata": {},
     "output_type": "execute_result"
    }
   ],
   "source": [
    "compare(df_full,10161202, 10161074,full=False)"
   ]
  },
  {
   "cell_type": "code",
   "execution_count": 5,
   "metadata": {},
   "outputs": [],
   "source": [
    "#Take out the labeled data for making a test set \n",
    "manual_labeled = []\n",
    "\n",
    "#Getting the Listing Ids bc the files is in index \n",
    "for x,y in test_1.links:\n",
    "    tuple_1 = (df_full['ListingId'].iloc[x],df_full['ListingId'].iloc[y])\n",
    "    tuple_2 = (df_full['ListingId'].iloc[y],df_full['ListingId'].iloc[x])\n",
    "    manual_labeled.append([str(tuple_1),1])\n",
    "    manual_labeled.append([str(tuple_2),1])\n",
    "    \n",
    "for x,y in test_2.links:\n",
    "    tuple_1 = (df_full['ListingId'].iloc[x],df_full['ListingId'].iloc[y])\n",
    "    tuple_2 = (df_full['ListingId'].iloc[y],df_full['ListingId'].iloc[x])\n",
    "    manual_labeled.append([str(tuple_1),1])\n",
    "    manual_labeled.append([str(tuple_2),1])\n",
    "for x,y in test_1.distinct:\n",
    "    tuple_1 = (df_full['ListingId'].iloc[x],df_full['ListingId'].iloc[y])\n",
    "    tuple_2 = (df_full['ListingId'].iloc[y],df_full['ListingId'].iloc[x])\n",
    "    manual_labeled.append([str(tuple_1),0])\n",
    "    manual_labeled.append([str(tuple_2),0])\n",
    "    \n",
    "for x,y in test_2.distinct:\n",
    "    tuple_1 = (df_full['ListingId'].iloc[x],df_full['ListingId'].iloc[y])\n",
    "    tuple_2 = (df_full['ListingId'].iloc[y],df_full['ListingId'].iloc[x])\n",
    "    manual_labeled.append([str(tuple_1),0])\n",
    "    manual_labeled.append([str(tuple_2),0])\n",
    "\n",
    " #Merging to have it with the full data   \n",
    "df_labeled = pd.DataFrame(manual_labeled,columns=['ids','labels'])\n",
    "df_labeled\n",
    "with_labels =df_uns.merge(df_labeled,on='ids',how='left')\n"
   ]
  },
  {
   "cell_type": "code",
   "execution_count": 6,
   "metadata": {},
   "outputs": [
    {
     "data": {
      "text/html": [
       "<div>\n",
       "<style scoped>\n",
       "    .dataframe tbody tr th:only-of-type {\n",
       "        vertical-align: middle;\n",
       "    }\n",
       "\n",
       "    .dataframe tbody tr th {\n",
       "        vertical-align: top;\n",
       "    }\n",
       "\n",
       "    .dataframe thead th {\n",
       "        text-align: right;\n",
       "    }\n",
       "</style>\n",
       "<table border=\"1\" class=\"dataframe\">\n",
       "  <thead>\n",
       "    <tr style=\"text-align: right;\">\n",
       "      <th></th>\n",
       "      <th>ids</th>\n",
       "      <th>labels</th>\n",
       "    </tr>\n",
       "  </thead>\n",
       "  <tbody>\n",
       "    <tr>\n",
       "      <th>0</th>\n",
       "      <td>(11252596, 21319730)</td>\n",
       "      <td>1</td>\n",
       "    </tr>\n",
       "    <tr>\n",
       "      <th>1</th>\n",
       "      <td>(21319730, 11252596)</td>\n",
       "      <td>1</td>\n",
       "    </tr>\n",
       "    <tr>\n",
       "      <th>2</th>\n",
       "      <td>(14548324, 18113908)</td>\n",
       "      <td>1</td>\n",
       "    </tr>\n",
       "    <tr>\n",
       "      <th>3</th>\n",
       "      <td>(18113908, 14548324)</td>\n",
       "      <td>1</td>\n",
       "    </tr>\n",
       "    <tr>\n",
       "      <th>4</th>\n",
       "      <td>(14548324, 18285070)</td>\n",
       "      <td>1</td>\n",
       "    </tr>\n",
       "    <tr>\n",
       "      <th>...</th>\n",
       "      <td>...</td>\n",
       "      <td>...</td>\n",
       "    </tr>\n",
       "    <tr>\n",
       "      <th>465</th>\n",
       "      <td>(10917883, 43763917)</td>\n",
       "      <td>0</td>\n",
       "    </tr>\n",
       "    <tr>\n",
       "      <th>466</th>\n",
       "      <td>(21198240, 7662177)</td>\n",
       "      <td>0</td>\n",
       "    </tr>\n",
       "    <tr>\n",
       "      <th>467</th>\n",
       "      <td>(7662177, 21198240)</td>\n",
       "      <td>0</td>\n",
       "    </tr>\n",
       "    <tr>\n",
       "      <th>468</th>\n",
       "      <td>(9530785, 1037906)</td>\n",
       "      <td>0</td>\n",
       "    </tr>\n",
       "    <tr>\n",
       "      <th>469</th>\n",
       "      <td>(1037906, 9530785)</td>\n",
       "      <td>0</td>\n",
       "    </tr>\n",
       "  </tbody>\n",
       "</table>\n",
       "<p>470 rows × 2 columns</p>\n",
       "</div>"
      ],
      "text/plain": [
       "                      ids  labels\n",
       "0    (11252596, 21319730)       1\n",
       "1    (21319730, 11252596)       1\n",
       "2    (14548324, 18113908)       1\n",
       "3    (18113908, 14548324)       1\n",
       "4    (14548324, 18285070)       1\n",
       "..                    ...     ...\n",
       "465  (10917883, 43763917)       0\n",
       "466   (21198240, 7662177)       0\n",
       "467   (7662177, 21198240)       0\n",
       "468    (9530785, 1037906)       0\n",
       "469    (1037906, 9530785)       0\n",
       "\n",
       "[470 rows x 2 columns]"
      ]
     },
     "execution_count": 6,
     "metadata": {},
     "output_type": "execute_result"
    }
   ],
   "source": [
    "df_labeled"
   ]
  },
  {
   "cell_type": "code",
   "execution_count": 7,
   "metadata": {},
   "outputs": [],
   "source": [
    "#Baseline models data\n",
    "not_train = ['source_id','target_id','ids', 'agg_score', 'weights','uns_label','label']\n",
    "X_train = df_base_train.drop(not_train, axis=1).values\n",
    "y_train = df_base_train['label'].values\n",
    "X_test = df_base_test.drop(not_train, axis=1).values\n",
    "y_test = df_base_test['label'].values"
   ]
  },
  {
   "cell_type": "code",
   "execution_count": 8,
   "metadata": {},
   "outputs": [
    {
     "name": "stdout",
     "output_type": "stream",
     "text": [
      "Fitting 3 folds for each of 2940 candidates, totalling 8820 fits\n"
     ]
    },
    {
     "name": "stderr",
     "output_type": "stream",
     "text": [
      "[Parallel(n_jobs=1)]: Using backend SequentialBackend with 1 concurrent workers.\n",
      "[Parallel(n_jobs=1)]: Done 8820 out of 8820 | elapsed:  2.5min finished\n"
     ]
    },
    {
     "name": "stdout",
     "output_type": "stream",
     "text": [
      "{'criterion': 'gini', 'max_depth': None, 'max_leaf_nodes': 7, 'min_samples_leaf': 3}\n",
      "Precision: 0.7884615384615384 Recall: 0.803921568627451 Fscore: 0.7961165048543688\n"
     ]
    }
   ],
   "source": [
    "#Decision Tress serach for hyperparameters\n",
    "params = {'max_leaf_nodes': list(range(2, 100)),'max_depth' : [None, 3, 5, 10, 15], \n",
    "        'min_samples_leaf' : [3, 5, 10], 'criterion' : ['gini', 'entropy']}\n",
    "\n",
    "grid_search_cv = GridSearchCV(DecisionTreeClassifier(random_state=42), params, verbose=1, cv=3)\n",
    "grid_search_cv.fit(X_train, y_train)\n",
    "#Best parameters\n",
    "print(grid_search_cv.best_params_)\n",
    "#Get the perd metrics of the model \n",
    "y_pred = grid_search_cv.predict(X_test)\n",
    "precision_recall_fscore=precision_recall_fscore_support(y_test,y_pred,average='binary',zero_division=0)\n",
    "print('Precision:',precision_recall_fscore[0],\n",
    "      'Recall:',precision_recall_fscore[1],\n",
    "      'Fscore:',precision_recall_fscore[2])"
   ]
  },
  {
   "cell_type": "code",
   "execution_count": 9,
   "metadata": {},
   "outputs": [
    {
     "name": "stdout",
     "output_type": "stream",
     "text": [
      "Fitting 3 folds for each of 24 candidates, totalling 72 fits\n"
     ]
    },
    {
     "name": "stderr",
     "output_type": "stream",
     "text": [
      "[Parallel(n_jobs=1)]: Using backend SequentialBackend with 1 concurrent workers.\n",
      "[Parallel(n_jobs=1)]: Done  72 out of  72 | elapsed:   29.7s finished\n"
     ]
    },
    {
     "name": "stdout",
     "output_type": "stream",
     "text": [
      "{'fit_intercept': True, 'max_iter': 150, 'penalty': 'l1', 'solver': 'saga'}\n",
      "Precision: 0.7959183673469388 Recall: 0.7647058823529411 Fscore: 0.7799999999999999\n"
     ]
    }
   ],
   "source": [
    "# Logistic Reg search for hyperparameters\n",
    "params = {'penalty' :['l1', 'l2'],'fit_intercept' : [True, False],\n",
    "        'solver' :['liblinear', 'saga'],'max_iter' : [50, 100, 150]}\n",
    "\n",
    "grid_search_cv = GridSearchCV(LogisticRegression(random_state=42), params, verbose=1, cv=3)\n",
    "grid_search_cv.fit(X_train, y_train)\n",
    "#Best parameters\n",
    "print(grid_search_cv.best_params_)\n",
    "#Get the perd metrics of the model \n",
    "y_pred = grid_search_cv.predict(X_test)\n",
    "precision_recall_fscore=precision_recall_fscore_support(y_test,y_pred,average='binary',zero_division=0)\n",
    "print('Precision:',precision_recall_fscore[0],\n",
    "      'Recall:',precision_recall_fscore[1],\n",
    "      'Fscore:',precision_recall_fscore[2])"
   ]
  },
  {
   "cell_type": "code",
   "execution_count": 193,
   "metadata": {},
   "outputs": [
    {
     "name": "stdout",
     "output_type": "stream",
     "text": [
      "Fitting 3 folds for each of 32 candidates, totalling 96 fits\n"
     ]
    },
    {
     "name": "stderr",
     "output_type": "stream",
     "text": [
      "[Parallel(n_jobs=1)]: Using backend SequentialBackend with 1 concurrent workers.\n"
     ]
    },
    {
     "name": "stdout",
     "output_type": "stream",
     "text": [
      "{'C': 1, 'gamma': 0.1, 'kernel': 'linear'}\n",
      "Precision: 0.7884615384615384 Recall: 0.803921568627451 Fscore: 0.7961165048543688\n"
     ]
    },
    {
     "name": "stderr",
     "output_type": "stream",
     "text": [
      "[Parallel(n_jobs=1)]: Done  96 out of  96 | elapsed:   26.7s finished\n"
     ]
    }
   ],
   "source": [
    "# SVM search for hyperparameters\n",
    "params = {'kernel':['linear', 'rbf'], 'gamma':[0.1, 1, 5, 10] ,'C' : [0.5, 1, 5, 10]}\n",
    "\n",
    "grid_search_cv = GridSearchCV(SVC(random_state=42), params, verbose=1, cv=3)\n",
    "grid_search_cv.fit(X_train, y_train)\n",
    "#Best parameters\n",
    "print(grid_search_cv.best_params_)\n",
    "#Get the perd metrics of the model \n",
    "y_pred = grid_search_cv.predict(X_test)\n",
    "precision_recall_fscore=precision_recall_fscore_support(y_test,y_pred,average='binary',zero_division=0)\n",
    "print('Precision:',precision_recall_fscore[0],\n",
    "      'Recall:',precision_recall_fscore[1],\n",
    "      'Fscore:',precision_recall_fscore[2])\n"
   ]
  },
  {
   "cell_type": "code",
   "execution_count": 195,
   "metadata": {},
   "outputs": [
    {
     "name": "stdout",
     "output_type": "stream",
     "text": [
      "Fitting 3 folds for each of 27 candidates, totalling 81 fits\n"
     ]
    },
    {
     "name": "stderr",
     "output_type": "stream",
     "text": [
      "[Parallel(n_jobs=1)]: Using backend SequentialBackend with 1 concurrent workers.\n",
      "[Parallel(n_jobs=1)]: Done  81 out of  81 | elapsed:  1.2min finished\n"
     ]
    },
    {
     "name": "stdout",
     "output_type": "stream",
     "text": [
      "{'learning_rate': 0.1, 'max_depth': 7, 'n_estimators': 150}\n",
      "Precision: 0.8461538461538461 Recall: 0.8627450980392157 Fscore: 0.854368932038835\n"
     ]
    }
   ],
   "source": [
    "# XGBoost search for hyperparameters\n",
    "params = {'n_estimators':[100, 150, 200],'learning_rate':[0.05, 0.1, 0.15],'max_depth':[3, 5, 7]}\n",
    "\n",
    "\n",
    "grid_search_cv = GridSearchCV(xgb.XGBClassifier(random_state=42), params, verbose=1, cv=3)\n",
    "grid_search_cv.fit(X_train, y_train)\n",
    "#Best parameters\n",
    "print(grid_search_cv.best_params_)\n",
    "#Get the perd metrics of the model \n",
    "y_pred = grid_search_cv.predict(X_test)\n",
    "precision_recall_fscore=precision_recall_fscore_support(y_test,y_pred,average='binary',zero_division=0)\n",
    "print('Precision:',precision_recall_fscore[0],\n",
    "      'Recall:',precision_recall_fscore[1],\n",
    "      'Fscore:',precision_recall_fscore[2])\n"
   ]
  },
  {
   "cell_type": "code",
   "execution_count": 196,
   "metadata": {},
   "outputs": [
    {
     "name": "stdout",
     "output_type": "stream",
     "text": [
      "Fitting 3 folds for each of 45 candidates, totalling 135 fits\n"
     ]
    },
    {
     "name": "stderr",
     "output_type": "stream",
     "text": [
      "[Parallel(n_jobs=1)]: Using backend SequentialBackend with 1 concurrent workers.\n"
     ]
    },
    {
     "name": "stdout",
     "output_type": "stream",
     "text": [
      "{'max_depth': 5, 'min_samples_leaf': 5, 'n_estimators': 50}\n",
      "Precision: 0.8297872340425532 Recall: 0.7647058823529411 Fscore: 0.7959183673469387\n"
     ]
    },
    {
     "name": "stderr",
     "output_type": "stream",
     "text": [
      "[Parallel(n_jobs=1)]: Done 135 out of 135 | elapsed:   26.5s finished\n"
     ]
    }
   ],
   "source": [
    "# Random Forest search for hyperparameters\n",
    "params = {'n_estimators':[10, 50, 100] ,'max_depth':[None, 3, 5, 10, 15],'min_samples_leaf':[3, 5, 10]}\n",
    "\n",
    "grid_search_cv = GridSearchCV(RandomForestClassifier(random_state=42), params, verbose=1, cv=3)\n",
    "grid_search_cv.fit(X_train, y_train)\n",
    "#Best parameters\n",
    "print(grid_search_cv.best_params_)\n",
    "#Get the perd metrics of the model \n",
    "y_pred = grid_search_cv.predict(X_test)\n",
    "precision_recall_fscore=precision_recall_fscore_support(y_test,y_pred,average='binary',zero_division=0)\n",
    "print('Precision:',precision_recall_fscore[0],\n",
    "      'Recall:',precision_recall_fscore[1],\n",
    "      'Fscore:',precision_recall_fscore[2])"
   ]
  },
  {
   "cell_type": "code",
   "execution_count": 8,
   "metadata": {},
   "outputs": [],
   "source": [
    "#Comitee of models\n",
    "def randomforest_com():\n",
    "    clf = RandomForestClassifier()#n_estimators=10,min_samples_split=2,warm_start=False,max_depth=5\n",
    "    return clf\n",
    "\n",
    "def desiciontree():\n",
    "    clf= DecisionTreeClassifier()#criterion ='gini', max_depth= None,max_leaf_nodes= 7,min_samples_leaf= 3\n",
    "    return clf\n",
    "def logisticreg():\n",
    "    clf = LogisticRegression()#fit_intercept= True,max_iter=150, penalty= 'l1',solver= 'saga'\n",
    "    return clf\n",
    "def xbg_class():\n",
    "    clf = xgb.XGBClassifier() #learning_rate=0.1,max_depth= 7,n_estimators = 150\n",
    "    return clf\n",
    "def svm():\n",
    "    clf = SVC(probability=True)#,C= 1,gamma= 0.1, kernel= 'linear'\n",
    "    return clf\n",
    "\n",
    "#Main model\n",
    "def randomforest_main():\n",
    "    clf = RandomForestClassifier(n_estimators=10,min_samples_split=2,warm_start=True,max_depth=5)\n",
    "    return clf"
   ]
  },
  {
   "cell_type": "code",
   "execution_count": 9,
   "metadata": {},
   "outputs": [
    {
     "data": {
      "text/plain": [
       "(440,)"
      ]
     },
     "execution_count": 9,
     "metadata": {},
     "output_type": "execute_result"
    }
   ],
   "source": [
    "np.ones(y_test.shape[0]).shape\n",
    "y_test.shape"
   ]
  },
  {
   "cell_type": "code",
   "execution_count": 82,
   "metadata": {},
   "outputs": [],
   "source": [
    "def al(df,df_test = False,queries = 20,baseline=False,committee_pred=False,incremental_comitee = False,boostrap = False,warm =False):\n",
    "    if incremental_comitee == True:\n",
    "        #Commitee of models\n",
    "        members = [randomforest_main,desiciontree,logisticreg,xbg_class,svm]\n",
    "    if incremental_comitee == False:\n",
    "         members = [randomforest_com,desiciontree,logisticreg,xbg_class,svm]\n",
    "\n",
    "    #List with comitee object\n",
    "    learner_list = list()\n",
    "    \n",
    "    if baseline == False:\n",
    "        #Only use the data corresponding to the features to train\n",
    "        not_train = ['ListingId_1','ListingId_2','ids', 'agg_score', 'weights','uns_label','labels']\n",
    "    if baseline == True:\n",
    "        #Only use the data corresponding to the features to train\n",
    "        not_train = ['source_id','target_id','ids', 'agg_score', 'weights','uns_label','label']\n",
    "        \n",
    "    ids = df['ids'].values\n",
    "    X_pool = df.drop(not_train, axis=1).values\n",
    "    y_uns_label = df['uns_label'].values\n",
    "    y_uns_weight = df['weights'].values\n",
    "    \n",
    "    if baseline == False:\n",
    "        #Create the test set , select the not nan values\n",
    "        y_test_1= df['labels'].values\n",
    "        idx = np.argwhere(~np.isnan(y_test_1)).reshape(-1)\n",
    "        y_test= y_test_1[idx]\n",
    "        X_test = X_pool[idx]\n",
    "        #Eliminate from the main data variables the test data extracted\n",
    "        X_pool = np.delete(X_pool, np.argwhere(~np.isnan(y_test_1)), axis=0)\n",
    "        y_uns_label = np.delete(y_uns_label, np.argwhere(~np.isnan(y_test_1)), axis=0)\n",
    "        y_uns_weight = np.delete(y_uns_weight, np.argwhere(~np.isnan(y_test_1)), axis=0)\n",
    "        ids = np.delete(ids, np.argwhere(~np.isnan(y_test_1)), axis=0)\n",
    "    if baseline == True:\n",
    "        y_pool_labels = df['label'].values\n",
    "        y_test = df_test['label'].values\n",
    "        X_test = df_test.drop(not_train, axis=1).values\n",
    "     \n",
    "\n",
    "    if boostrap == True:\n",
    "        # Selecting the 2 most confident labels, a positive a negative with weight 1\n",
    "        train_idx = np.where(y_uns_weight> 0.99998)\n",
    "        #This is the labeled pool it starts with 2 examples \n",
    "        X_train_lb = X_pool[train_idx]\n",
    "        y_train_lb = y_uns_label[train_idx]\n",
    "        #Delete used results\n",
    "        X_pool = np.delete(X_pool, train_idx, axis=0)\n",
    "        ids = np.delete(ids, train_idx, axis=0)\n",
    "        y_uns_label = np.delete(y_uns_label, train_idx, axis=0) \n",
    "        y_uns_weight = np.delete(y_uns_weight, train_idx, axis=0) \n",
    "        if baseline == True:\n",
    "            #For the baseline we need to delete the label learned from the pool\n",
    "            y_pool_labels = np.delete(y_pool_labels, train_idx, axis=0)    \n",
    "    else:\n",
    "        #If no boostrapping the model is initialized with random instances until there is one positive and negative\n",
    "        train_idx = np.random.choice(X_pool.shape[0], 1, replace=False)\n",
    "        X_train_lb = X_pool[train_idx]\n",
    "        y_train_lb = y_pool_labels[train_idx]\n",
    "        #Delete instances moved\n",
    "        X_pool = np.delete(X_pool, train_idx, axis=0)\n",
    "        ids = np.delete(ids, train_idx, axis=0)\n",
    "        y_uns_label = np.delete(y_uns_label, train_idx, axis=0)\n",
    "        y_uns_weight = np.delete(y_uns_weight, train_idx, axis=0)\n",
    "        if baseline == True:\n",
    "            #For the baseline we need to delete the label learned from the pool\n",
    "            y_pool_labels = np.delete(y_pool_labels, train_idx, axis=0)\n",
    "        \n",
    "        while 1 not in y_train_lb or 0 not in y_train_lb :\n",
    "            \n",
    "            train_idx = np.random.choice(X_pool.shape[0], 1, replace=False) \n",
    "            X_train_lb = np.concatenate((X_train_lb,X_pool[train_idx]),axis=0)\n",
    "            y_train_lb = np.concatenate((y_train_lb,y_pool_labels[train_idx]),axis =0)\n",
    "            #Delete from unlabeled pool\n",
    "            X_pool = np.delete(X_pool, train_idx, axis=0)\n",
    "            ids = np.delete(ids, train_idx, axis=0)\n",
    "            y_uns_label = np.delete(y_uns_label, train_idx, axis=0)\n",
    "            y_uns_weight = np.delete(y_uns_weight, train_idx, axis=0)\n",
    "            if baseline == True:\n",
    "                #For the baseline we need to delete the label learned from the pool\n",
    "                y_pool_labels = np.delete(y_pool_labels, train_idx, axis=0)\n",
    "            \n",
    "\n",
    "        print(X_train_lb.shape,y_train_lb.shape)\n",
    "    \n",
    "    if warm == True and boostrap == True:\n",
    "        # initializing main random forest\n",
    "        model_main = randomforest_main()\n",
    "        model_main.fit(X_pool,y_uns_label,sample_weight= y_uns_weight) \n",
    "        \n",
    "    if warm == True and boostrap == False:\n",
    "        # initializing main random forest\n",
    "        model_main = randomforest_main()\n",
    "        model_main.fit(X_train_lb,y_train_lb) \n",
    "        \n",
    "    if warm ==False:\n",
    "        model_main = randomforest_com()\n",
    "        model_main.fit(X_train_lb,y_train_lb) \n",
    "    \n",
    "    for clf in members:\n",
    "        # initializing learner\n",
    "        learner = ActiveLearner(\n",
    "            estimator=clf(),\n",
    "            X_training=X_train_lb, y_training=y_train_lb\n",
    "            )\n",
    "        learner_list.append(learner)\n",
    "        \n",
    "\n",
    "    # assembling the committee\n",
    "    committee = Committee(learner_list=learner_list,query_strategy=vote_entropy_sampling,boots=boostrap)\n",
    "    \n",
    "    #Will save the new labels being labeled\n",
    "    new_labels = []\n",
    "    \n",
    "    # we want to only use the prediction of the random forest which will be incrementally built\n",
    "    \n",
    "    #Get predictions of test set\n",
    "    if committee_pred == False: \n",
    "        y_pred = model_main.predict(X_test)\n",
    "    if committee_pred == True:\n",
    "        y_pred = committee.predict(X_test)\n",
    "\n",
    "    #Calculate evaluation metrics\n",
    "    precision_recall_fscore= precision_recall_fscore_support(y_test,y_pred,average='binary',zero_division=0)\n",
    "    precision_scores = [precision_recall_fscore[0]]\n",
    "    recall_scores=  [precision_recall_fscore[1]]\n",
    "    f_score = [precision_recall_fscore[2]]\n",
    "\n",
    "   \n",
    "    \n",
    "    # query by committee\n",
    "    n_queries = queries\n",
    "    #Active Learning Loop\n",
    "    for idx in range(n_queries):\n",
    "        # Committee models gives the instance to be labeled\n",
    "        query_idx, query_instance = committee.query(X_pool)\n",
    "        \n",
    "        if boostrap == True:\n",
    "            #Get the predictions of the most informative instances\n",
    "            preds =committee.predict(X_pool)\n",
    "            #idx_new = np.array([np.argwhere(ids_main == ids[x])[0] for x in query_idx]).squeeze()\n",
    "            \n",
    "            #Only chose the instances which disagree with the unsupervised labels\n",
    "            idx_reduced_bool = preds[query_idx] != y_uns_label[query_idx]\n",
    "            \n",
    "            if sum(idx_reduced_bool) > 1:\n",
    "                #If there is more than one prediction disagreement chose the first one\n",
    "                idx_reduced = query_idx[idx_reduced_bool][0]\n",
    "                idx_reduced = np.expand_dims(idx_reduced, axis=0)\n",
    "            \n",
    "            else:\n",
    "                #If there is not disgreement just chose the first instance which is gotten by vote entropy\n",
    "                print('Beware querying not returning')\n",
    "                idx_reduced = query_idx[0]\n",
    "                idx_reduced = np.expand_dims(idx_reduced, axis=0)\n",
    "        else:\n",
    "            #If no boostrapping use the most informative instance by vote entropy only\n",
    "            idx_reduced = query_idx[0]\n",
    "            idx_reduced = np.expand_dims(idx_reduced, axis=0)\n",
    "            \n",
    "        \n",
    "        #For AMS data we need to query the user directly \n",
    "        if baseline == False:\n",
    "            #This asks for a label\n",
    "            print(\"Are this two listings the same one? 1-match , 0-nonmatch, 2-more=info\")\n",
    "            ids_int = [int(x) for x in ids[idx_reduced][1:-1].split(',')]\n",
    "            print(compare(df_full,ids_int[0],ids_int[1]))\n",
    "            label = int(input())\n",
    "            if label == 2:\n",
    "                print(compare(df_full,ids_int[0],ids_int[1],full=True))\n",
    "                label = int(input())\n",
    "            y_new = np.array([label], dtype=float)\n",
    "            \n",
    "        if baseline == True:\n",
    "            #For baseline we can access the true labels no need to ask just retreive\n",
    "            label = y_pool_labels[idx_reduced[0]]\n",
    "            y_new = np.array([label], dtype=float)\n",
    "            \n",
    "        \n",
    "        \n",
    "        #This will add the labeled data into the same arrays\n",
    "        X_train_lb = np.concatenate((X_train_lb,X_pool[idx_reduced]),axis=0)\n",
    "        y_train_lb = np.concatenate((y_train_lb,y_new),axis =0)\n",
    "        \n",
    "\n",
    "        for model in committee:\n",
    "            #Train the random forest in incremental way with the labeled instance\n",
    "            if incremental_comitee == True:\n",
    "                if type(model.get_params()['estimator'])== sklearn.ensemble._forest.RandomForestClassifier:\n",
    "                    \n",
    "                    n_estimators = model.get_params()['estimator__n_estimators'] +2 \n",
    "                    params_rf = {'estimator__n_estimators':n_estimators} #,'estimator__max_depth': n_estimators\n",
    "                    model.set_params(**params_rf)\n",
    "                    #Teach the random forest , boostrap true is incremental\n",
    "                    model.teach(X_train_lb, y_train_lb)\n",
    "                    \n",
    "                    #Predict with the new instance \n",
    "                    # we want to only use the prediction of the random forest which will be incrementally built\n",
    "                else:\n",
    "                    \n",
    "                    model.teach(X_train_lb, y_train_lb)\n",
    "            else:\n",
    "                model.teach(X_train_lb, y_train_lb)\n",
    "        \n",
    "        if warm == True and boostrap == True:\n",
    "            #Teach the random forest Increase estimators for incremental learning \n",
    "            model_main.n_estimators += 2 \n",
    "            #model_main.fit(X_pool_main,y_uns_label,sample_weight=y_uns_weight) \n",
    "            model_main.fit(X_train_lb,y_train_lb,sample_weight =np.ones(y_train_lb.shape[0]))\n",
    "        if warm == True and boostrap == False:\n",
    "            #Teach the random forest Increase estimators for incremental learning \n",
    "            model_main.n_estimators += 2 \n",
    "            #model_main.fit(X_pool_main,y_uns_label,sample_weight=y_uns_weight) \n",
    "            model_main.fit(X_train_lb,y_train_lb)\n",
    "            \n",
    "        if warm ==False:\n",
    "            model_main.fit(X_train_lb,y_train_lb)\n",
    "        #Predict with the new instance \n",
    "        # we want to only use the prediction of the random forest which will be incrementally built\n",
    "        \n",
    "        if committee_pred == False: \n",
    "            y_pred = model_main.predict(X_test)\n",
    "        else:\n",
    "            y_pred = committee.predict(X_test)\n",
    "        \n",
    "        #Get evaluation scores\n",
    "        precision_recall_fscore=precision_recall_fscore_support(y_test,y_pred,average='binary',zero_division=0)\n",
    "        precision_scores.append(precision_recall_fscore[0])\n",
    "        recall_scores.append(precision_recall_fscore[1])\n",
    "        f_score.append(precision_recall_fscore[2])    \n",
    "        \n",
    "        dict_results = {'precision_scores':precision_scores,'recall_scores':recall_scores,\n",
    "                        'f_score':f_score}\n",
    "        \n",
    "        #Delete the queried instance from the pool\n",
    "        X_pool = np.delete(X_pool, idx_reduced, axis=0)\n",
    "        ids = np.delete(ids, idx_reduced, axis=0)\n",
    "        y_uns_label = np.delete(y_uns_label, idx_reduced, axis=0)\n",
    "        if baseline == True:\n",
    "            #For the baseline we need to delete the label learned from the pool\n",
    "            y_pool_labels = np.delete(y_pool_labels, idx_reduced, axis=0)\n",
    "            \n",
    "    \n",
    "        if baseline ==False:\n",
    "            new_labels.append([(ids_int[0],ids_int[1]),label])\n",
    "    \n",
    "    \"\"\"#Graph to check the learning process\n",
    "    with plt.style.context('seaborn-white'):\n",
    "        plt.figure(figsize=(5, 5))\n",
    "        plt.subplot(1, 1, 1)\n",
    "        plt.title('Precision of your model')\n",
    "        plt.plot(range(n_queries+1), precision_scores)\n",
    "        #plt.scatter(range(n_queries+1), precision_scores)\n",
    "        plt.xlabel('number of queries')\n",
    "        plt.ylabel('Precision')\n",
    "        display.display(plt.gcf())\n",
    "        plt.close('all')\n",
    "    with plt.style.context('seaborn-white'):\n",
    "        plt.figure(figsize=(5, 5))\n",
    "        plt.subplot(1, 1, 1)\n",
    "        plt.title('recall_scores of your model')\n",
    "        plt.plot(range(n_queries+1), recall_scores)\n",
    "        #plt.scatter(range(n_queries+1), recall_scores)\n",
    "        plt.xlabel('number of queries')\n",
    "        plt.ylabel('recall_scores')\n",
    "        display.display(plt.gcf())\n",
    "        plt.close('all')\n",
    "    with plt.style.context('seaborn-white'):\n",
    "        plt.figure(figsize=(5, 5))\n",
    "        plt.subplot(1, 1, 1)\n",
    "        plt.title('f_score of your model')\n",
    "        plt.plot(range(n_queries+1), f_score)\n",
    "        #plt.scatter(range(n_queries+1), f_score)\n",
    "        plt.xlabel('number of queries')\n",
    "        plt.ylabel('f_score')\n",
    "        display.display(plt.gcf())\n",
    "        plt.close('all')\"\"\"\n",
    "    return new_labels, dict_results"
   ]
  },
  {
   "cell_type": "code",
   "execution_count": null,
   "metadata": {},
   "outputs": [],
   "source": []
  },
  {
   "cell_type": "code",
   "execution_count": 21,
   "metadata": {},
   "outputs": [
    {
     "name": "stdout",
     "output_type": "stream",
     "text": [
      "Beware querying not returning\n",
      "Beware querying not returning\n",
      "Beware querying not returning\n",
      "Beware querying not returning\n",
      "Beware querying not returning\n",
      "Beware querying not returning\n",
      "Beware querying not returning\n",
      "Beware querying not returning\n",
      "Beware querying not returning\n",
      "Beware querying not returning\n",
      "Beware querying not returning\n",
      "Beware querying not returning\n",
      "Beware querying not returning\n",
      "Beware querying not returning\n",
      "Beware querying not returning\n",
      "Beware querying not returning\n",
      "Beware querying not returning\n",
      "Beware querying not returning\n",
      "Beware querying not returning\n",
      "Beware querying not returning\n",
      "Beware querying not returning\n",
      "Beware querying not returning\n",
      "Beware querying not returning\n",
      "Beware querying not returning\n",
      "Beware querying not returning\n",
      "Beware querying not returning\n",
      "Beware querying not returning\n",
      "Beware querying not returning\n",
      "Beware querying not returning\n",
      "Beware querying not returning\n",
      "Beware querying not returning\n",
      "Beware querying not returning\n",
      "Beware querying not returning\n",
      "Beware querying not returning\n",
      "Beware querying not returning\n",
      "Beware querying not returning\n",
      "Beware querying not returning\n",
      "Beware querying not returning\n",
      "Beware querying not returning\n",
      "Beware querying not returning\n",
      "Beware querying not returning\n",
      "Beware querying not returning\n",
      "Beware querying not returning\n",
      "Beware querying not returning\n",
      "Beware querying not returning\n",
      "Beware querying not returning\n",
      "Beware querying not returning\n"
     ]
    }
   ],
   "source": [
    "resuts_full_comitte = []\n",
    "for i in range(5):    \n",
    "    _,dict_results_com = al(df_base_train,df_test = df_base_test ,queries=100,\n",
    "                                        baseline=True,committee_pred= True,\n",
    "                                        incremental_comitee = True,boostrap = True,\n",
    "                                        warm= True)\n",
    "    resuts_full_comitte.append(dict_results_com)\n"
   ]
  },
  {
   "cell_type": "code",
   "execution_count": 34,
   "metadata": {},
   "outputs": [
    {
     "data": {
      "text/plain": [
       "'open_file = open(file_name, \"rb\")\\nloaded_list = pickle.load(open_file)\\nopen_file.close()'"
      ]
     },
     "execution_count": 34,
     "metadata": {},
     "output_type": "execute_result"
    }
   ],
   "source": [
    "import pickle \n",
    "\n",
    "file_name = \"resuts_full_comitte.pkl\"\n",
    "\n",
    "open_file = open(file_name, \"wb\")\n",
    "pickle.dump(resuts_full_comitte, open_file)\n",
    "open_file.close()\n",
    "\n",
    "\"\"\"open_file = open(file_name, \"rb\")\n",
    "loaded_list = pickle.load(open_file)\n",
    "open_file.close()\"\"\""
   ]
  },
  {
   "cell_type": "code",
   "execution_count": 38,
   "metadata": {},
   "outputs": [
    {
     "name": "stdout",
     "output_type": "stream",
     "text": [
      "Beware querying not returning\n",
      "Beware querying not returning\n",
      "Beware querying not returning\n",
      "Beware querying not returning\n",
      "Beware querying not returning\n",
      "Beware querying not returning\n",
      "Beware querying not returning\n",
      "Beware querying not returning\n",
      "Beware querying not returning\n",
      "Beware querying not returning\n",
      "Beware querying not returning\n",
      "Beware querying not returning\n",
      "Beware querying not returning\n",
      "Beware querying not returning\n",
      "Beware querying not returning\n",
      "Beware querying not returning\n",
      "Beware querying not returning\n",
      "Beware querying not returning\n",
      "Beware querying not returning\n",
      "Beware querying not returning\n",
      "Beware querying not returning\n",
      "Beware querying not returning\n",
      "Beware querying not returning\n",
      "Beware querying not returning\n",
      "Beware querying not returning\n",
      "Beware querying not returning\n",
      "Beware querying not returning\n",
      "Beware querying not returning\n",
      "Beware querying not returning\n",
      "Beware querying not returning\n",
      "Beware querying not returning\n",
      "Beware querying not returning\n",
      "Beware querying not returning\n",
      "Beware querying not returning\n",
      "Beware querying not returning\n"
     ]
    }
   ],
   "source": [
    "resuts_full_rf = []\n",
    "for i in range(5):   \n",
    "    _,dict_results_main = al(df_base_train,df_test = df_base_test ,queries=100,\n",
    "                                        baseline=True,committee_pred= False,\n",
    "                                        incremental_comitee = False,boostrap = True,\n",
    "                                        warm=True)\n",
    "    resuts_full_rf.append(dict_results_main)\n"
   ]
  },
  {
   "cell_type": "code",
   "execution_count": 35,
   "metadata": {},
   "outputs": [],
   "source": [
    "file_name = \"resuts_full_rf.pkl\"\n",
    "\n",
    "open_file = open(file_name, \"wb\")\n",
    "pickle.dump(resuts_full_rf, open_file)\n",
    "open_file.close()"
   ]
  },
  {
   "cell_type": "code",
   "execution_count": 83,
   "metadata": {},
   "outputs": [
    {
     "name": "stdout",
     "output_type": "stream",
     "text": [
      "(4, 131) (4,)\n",
      "(4, 131) (4,)\n",
      "(7, 131) (7,)\n",
      "(2, 131) (2,)\n",
      "(8, 131) (8,)\n"
     ]
    }
   ],
   "source": [
    "resuts_rf_no_boot = []\n",
    "for i in range(5): \n",
    "    _,dict_results_main_no_boot = al(df_base_train,df_test = df_base_test ,queries=100,\n",
    "                                        baseline=True,committee_pred= False,\n",
    "                                        incremental_comitee = False,boostrap = False,\n",
    "                                        warm=True)\n",
    "    resuts_rf_no_boot.append(dict_results_main_no_boot)"
   ]
  },
  {
   "cell_type": "code",
   "execution_count": 93,
   "metadata": {},
   "outputs": [],
   "source": [
    "file_name = \"resuts_rf_no_boot.pkl\"\n",
    "\n",
    "open_file = open(file_name, \"wb\")\n",
    "pickle.dump(resuts_rf_no_boot, open_file)\n",
    "open_file.close()"
   ]
  },
  {
   "cell_type": "code",
   "execution_count": 24,
   "metadata": {},
   "outputs": [
    {
     "name": "stdout",
     "output_type": "stream",
     "text": [
      "(2, 131) (2,)\n",
      "(10, 131) (10,)\n",
      "(3, 131) (3,)\n",
      "(29, 131) (29,)\n",
      "(2, 131) (2,)\n"
     ]
    }
   ],
   "source": [
    "resuts_rf_noboot_nowarm = []\n",
    "for i in range(5):\n",
    "    _,dict_results_main_no_boot_no_warm = al(df_base_train,df_test = df_base_test ,queries=100,\n",
    "                                        baseline=True,committee_pred= False,\n",
    "                                        incremental_comitee = False,boostrap=False,\n",
    "                                        warm=False)\n",
    "    resuts_rf_noboot_nowarm.append(dict_results_main_no_boot_no_warm)"
   ]
  },
  {
   "cell_type": "code",
   "execution_count": 37,
   "metadata": {},
   "outputs": [],
   "source": [
    "file_name = \"resuts_rf_noboot_nowarm.pkl\"\n",
    "\n",
    "open_file = open(file_name, \"wb\")\n",
    "pickle.dump(resuts_rf_noboot_nowarm, open_file)\n",
    "open_file.close()"
   ]
  },
  {
   "cell_type": "code",
   "execution_count": null,
   "metadata": {
    "scrolled": false
   },
   "outputs": [],
   "source": []
  },
  {
   "cell_type": "code",
   "execution_count": null,
   "metadata": {},
   "outputs": [],
   "source": []
  },
  {
   "cell_type": "code",
   "execution_count": 46,
   "metadata": {},
   "outputs": [],
   "source": [
    "file_name = 'resuts_full_rf.pkl'\n",
    "open_file = open(file_name, \"rb\")\n",
    "resuts_full_rf = pickle.load(open_file)\n",
    "open_file.close()\n",
    "\n",
    "file_name = 'resuts_full_comitte.pkl'\n",
    "open_file = open(file_name, \"rb\")\n",
    "resuts_full_comitte = pickle.load(open_file)\n",
    "open_file.close()\n",
    "\n",
    "file_name = 'resuts_rf_no_boot.pkl'\n",
    "open_file = open(file_name, \"rb\")\n",
    "resuts_rf_no_boot = pickle.load(open_file)\n",
    "open_file.close()\n",
    "\n",
    "file_name = 'resuts_rf_noboot_nowarm.pkl'\n",
    "open_file = open(file_name, \"rb\")\n",
    "resuts_noboot_nowarm = pickle.load(open_file)\n",
    "open_file.close()"
   ]
  },
  {
   "cell_type": "code",
   "execution_count": 84,
   "metadata": {},
   "outputs": [],
   "source": [
    "precision_full_rf = []\n",
    "recall_full_rf = []\n",
    "f_score_full_rf = []\n",
    "\n",
    "precision_full_cmt = []\n",
    "recall_full_cmt = []\n",
    "f_score_full_cmt = []\n",
    "\n",
    "precision_no_boot_rf = []\n",
    "recall_no_boot_rf = []\n",
    "f_score_no_boot_rf = []\n",
    "\n",
    "precision_rf_noboot_nowarm = []\n",
    "recall_rf_noboot_nowarm = []\n",
    "f_score_rf_noboot_nowarm = []\n",
    "\n",
    "for dicts in resuts_full_rf:\n",
    "    precision_full_rf.append(dicts['precision_scores'])\n",
    "    recall_full_rf.append(dicts['recall_scores'])\n",
    "    f_score_full_rf.append(dicts['f_score'])\n",
    "\n",
    "precision_full_rf_mean =np.mean(precision_full_rf,axis=0)\n",
    "recall_full_rf_mean =np.mean(recall_full_rf,axis=0)\n",
    "f_score_full_rf_mean = np.mean(f_score_full_rf,axis=0)\n",
    "\n",
    "precision_full_rf_sd =np.std(precision_full_rf,axis=0)\n",
    "recall_full_rf_sd =np.std(recall_full_rf,axis=0)\n",
    "f_score_full_rf_sd = np.std(f_score_full_rf,axis=0)\n",
    "\n",
    "for dicts in resuts_full_comitte:\n",
    "    precision_full_cmt.append(dicts['precision_scores'])\n",
    "    recall_full_cmt.append(dicts['recall_scores'])\n",
    "    f_score_full_cmt.append(dicts['f_score'])\n",
    "\n",
    "precision_full_cmt_mean =np.mean(precision_full_cmt,axis=0)\n",
    "recall_full_cmt_mean =np.mean(recall_full_cmt,axis=0)\n",
    "f_score_full_cmt_mean = np.mean(f_score_full_cmt,axis=0)\n",
    "\n",
    "precision_full_cmt_sd =np.std(precision_full_cmt,axis=0)\n",
    "recall_full_cmt_sd =np.std(recall_full_cmt,axis=0)\n",
    "f_score_full_cmt_sd = np.std(f_score_full_cmt,axis=0)\n",
    "\n",
    "for dicts in resuts_rf_no_boot:\n",
    "    precision_no_boot_rf.append(dicts['precision_scores'])\n",
    "    recall_no_boot_rf.append(dicts['recall_scores'])\n",
    "    f_score_no_boot_rf.append(dicts['f_score'])\n",
    "\n",
    "precision_no_boot_rf_mean =np.mean(precision_no_boot_rf,axis=0)\n",
    "recall_no_boot_rf_mean =np.mean(recall_no_boot_rf,axis=0)\n",
    "f_score_no_boot_rf_mean = np.mean(f_score_no_boot_rf,axis=0)\n",
    "\n",
    "precision_no_boot_rf_sd =np.std(precision_no_boot_rf,axis=0)\n",
    "recall_no_boot_rf_sd =np.std(recall_no_boot_rf,axis=0)\n",
    "f_score_no_boot_rf_sd = np.std(f_score_no_boot_rf,axis=0)\n",
    "\n",
    "for dicts in resuts_rf_noboot_nowarm:\n",
    "    precision_rf_noboot_nowarm.append(dicts['precision_scores'])\n",
    "    recall_rf_noboot_nowarm.append(dicts['recall_scores'])\n",
    "    f_score_rf_noboot_nowarm.append(dicts['f_score'])\n",
    "\n",
    "precision_rf_noboot_nowarm_mean =np.mean(precision_rf_noboot_nowarm,axis=0)\n",
    "recall_rf_noboot_nowarm_mean =np.mean(recall_rf_noboot_nowarm,axis=0)\n",
    "f_score_rf_noboot_nowarm_mean = np.mean(f_score_rf_noboot_nowarm,axis=0)\n",
    "\n",
    "precision_rf_noboot_nowarm_sd =np.std(precision_rf_noboot_nowarm,axis=0)\n",
    "recall_rf_noboot_nowarm_mean =np.std(recall_rf_noboot_nowarm,axis=0)\n",
    "f_score_rf_noboot_nowarm_sd = np.std(f_score_rf_noboot_nowarm,axis=0)"
   ]
  },
  {
   "cell_type": "code",
   "execution_count": null,
   "metadata": {},
   "outputs": [],
   "source": []
  },
  {
   "cell_type": "code",
   "execution_count": 92,
   "metadata": {},
   "outputs": [
    {
     "data": {
      "image/png": "[encoded data removed]",
      "text/plain": [
       "<Figure size 720x576 with 1 Axes>"
      ]
     },
     "metadata": {
      "needs_background": "light"
     },
     "output_type": "display_data"
    }
   ],
   "source": [
    "from matplotlib.pyplot import figure\n",
    "fig, ax = plt.subplots(1)\n",
    "fig.set_size_inches(10,8)\n",
    "ax.plot(np.arange(101), f_score_full_rf_mean, lw=1, label='boot rf', color='blue')\n",
    "#ax.plot(np.arange(101), f_score_full_cmt_mean, lw=1, label='boot committee', color='red')\n",
    "ax.plot(np.arange(101), f_score_no_boot_rf_mean, lw=1, label=' no boot rf', color='green')\n",
    "ax.plot(np.arange(101), f_score_rf_noboot_nowarm_mean, lw=1, label='no boot no warm rf', color='purple')\n",
    "ax.fill_between(np.arange(101), f_score_full_rf_mean + f_score_full_rf_sd, f_score_full_rf_mean-f_score_full_rf_sd\n",
    "                ,facecolor='blue', alpha=0.2)\n",
    "#ax.fill_between(np.arange(101), f_score_full_cmt_mean + f_score_full_cmt_sd, f_score_full_cmt_mean-f_score_full_cmt_sd\n",
    "#                ,facecolor='red', alpha=0.2)\n",
    "ax.fill_between(np.arange(101), f_score_no_boot_rf_mean + f_score_no_boot_rf_sd, f_score_no_boot_rf_mean-f_score_no_boot_rf_sd\n",
    "                ,facecolor='green', alpha=0.1)\n",
    "ax.fill_between(np.arange(101), f_score_rf_noboot_nowarm_mean + f_score_rf_noboot_nowarm_sd, f_score_rf_noboot_nowarm_mean-f_score_rf_noboot_nowarm_sd\n",
    "                ,facecolor='purple', alpha=0.1)                                \n",
    "ax.set_title('F score')\n",
    "ax.legend(loc='lower right')\n",
    "ax.set_xlabel('Iterations')\n",
    "ax.set_ylabel('F_score')\n",
    "\n",
    "ax.grid()"
   ]
  },
  {
   "cell_type": "code",
   "execution_count": 42,
   "metadata": {},
   "outputs": [
    {
     "data": {
      "image/png": "[encoded data removed]",
      "text/plain": [
       "<Figure size 432x288 with 1 Axes>"
      ]
     },
     "metadata": {
      "needs_background": "light"
     },
     "output_type": "display_data"
    }
   ],
   "source": [
    "fig, ax = plt.subplots(1)\n",
    "ax.plot(np.arange(101), f_score_full_rf_mean, lw=1, label='boot rf', color='blue')\n",
    "ax.plot(np.arange(101), f_score_full_cmt_mean, lw=1, label='boot committee', color='red')\n",
    "#ax.plot(np.arange(101), f_score_no_boot_rf_mean, lw=1, label=' no boot rf', color='green')\n",
    "#ax.plot(np.arange(101), f_score_rf_noboot_nowarm_mean, lw=1, label='no boot no warm rf', color='purple')\n",
    "ax.fill_between(np.arange(101), f_score_full_rf_mean + f_score_full_rf_sd, f_score_full_rf_mean-f_score_full_rf_sd\n",
    "                ,facecolor='blue', alpha=0.1)\n",
    "#ax.fill_between(np.arange(101), f_score_full_cmt_mean + f_score_full_cmt_sd, f_score_full_cmt_mean-f_score_full_cmt_sd\n",
    "#                ,facecolor='blue', alpha=0.2)\n",
    "#ax.fill_between(np.arange(101), f_score_no_boot_rf_mean + f_score_no_boot_rf_sd, f_score_no_boot_rf_mean-f_score_no_boot_rf_sd\n",
    "#                ,facecolor='blue', alpha=0.2)\n",
    "#ax.fill_between(np.arange(101), f_score_rf_noboot_nowarm_mean + f_score_rf_noboot_nowarm_sd, f_score_rf_noboot_nowarm_mean-f_score_rf_noboot_nowarm_sd\n",
    "#                ,facecolor='purple', alpha=0.1)                                \n",
    "ax.set_title('F score')\n",
    "ax.legend(loc='lower right')\n",
    "ax.set_xlabel('Iterations')\n",
    "ax.set_ylabel('F_score')\n",
    "ax.grid()"
   ]
  },
  {
   "cell_type": "code",
   "execution_count": null,
   "metadata": {},
   "outputs": [],
   "source": []
  },
  {
   "cell_type": "code",
   "execution_count": null,
   "metadata": {},
   "outputs": [],
   "source": []
  },
  {
   "cell_type": "code",
   "execution_count": null,
   "metadata": {},
   "outputs": [],
   "source": []
  }
 ],
 "metadata": {
  "interpreter": {
   "hash": "bc9e0a135ba6f5ed53de0042d65bc7b4266590385bf12c893a972c5e28ec494f"
  },
  "kernelspec": {
   "display_name": "Python 3",
   "language": "python",
   "name": "python3"
  },
  "language_info": {
   "codemirror_mode": {
    "name": "ipython",
    "version": 3
   },
   "file_extension": ".py",
   "mimetype": "text/x-python",
   "name": "python",
   "nbconvert_exporter": "python",
   "pygments_lexer": "ipython3",
   "version": "3.8.5"
  }
 },
 "nbformat": 4,
 "nbformat_minor": 2
}
