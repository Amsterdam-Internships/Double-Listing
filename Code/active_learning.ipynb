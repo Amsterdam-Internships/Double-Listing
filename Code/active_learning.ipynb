{
 "cells": [
  {
   "cell_type": "code",
   "execution_count": 1,
   "metadata": {},
   "outputs": [],
   "source": [
    "import numpy as np\n",
    "import pandas as pd\n",
    "\n",
    "from modAL.models import ActiveLearner\n",
    "from modAL.uncertainty import uncertainty_sampling\n",
    "#from modAL.models import Committee\n",
    "#from modAL.disagreement import vote_entropy_sampling\n",
    "\n",
    "from sklearn.ensemble import RandomForestClassifier\n",
    "from sklearn.ensemble import RandomForestClassifier, GradientBoostingClassifier\n",
    "from sklearn.linear_model import LogisticRegression\n",
    "import sklearn.linear_model\n",
    "from sklearn.tree import DecisionTreeClassifier\n",
    "from sklearn.neighbors import KNeighborsClassifier\n",
    "from sklearn.svm import SVC\n",
    "from sklearn.metrics import precision_recall_fscore_support\n",
    "import xgboost as xgb\n",
    "from sklearn.model_selection import GridSearchCV\n",
    "\n",
    "import recordlinkage as rl\n",
    "from active_learn import*\n",
    "\n",
    "from IPython import display\n",
    "from matplotlib import pyplot as plt\n",
    "%matplotlib inline\n",
    "\n",
    "import warnings\n",
    "warnings.filterwarnings(\"ignore\")\n",
    "from importlib import reload\n",
    "#reload(spam)"
   ]
  },
  {
   "cell_type": "code",
   "execution_count": 2,
   "metadata": {},
   "outputs": [],
   "source": [
    "df_uns = pd.read_csv(r'C:\\Users\\Invitado\\Documents\\Python\\DS_MASTER\\City_Adam_Intern\\df_uns_label_img_1.csv')\n",
    "df_full = pd.read_csv(r'C:\\Users\\Invitado\\Documents\\Python\\DS_MASTER\\City_Adam_Intern\\merged_clean_df.csv')\n",
    "df_full.drop('Unnamed: 0',axis=1,inplace=True)\n",
    "\n",
    "#Manually annotated data\n",
    "test_1 = rl.read_annotation_file(r'C:\\Users\\Invitado\\Documents\\Python\\DS_MASTER\\City_Adam_Intern\\result_bnb_trip.json')\n",
    "test_2 = rl.read_annotation_file(r'C:\\Users\\Invitado\\Documents\\Python\\DS_MASTER\\City_Adam_Intern\\result_bnb_vrb.json')\n",
    "\n",
    "#Baselines fully labeled\n",
    "#df_base_train = pd.read_csv(r'C:\\Users\\Invitado\\Documents\\Python\\DS_MASTER\\City_Adam_Intern\\UnsupervisedBootAL-master\\datasets\\wdc_product\\features_phones_phones_catalog_train')\n",
    "#df_base_test = pd.read_csv(r'C:\\Users\\Invitado\\Documents\\Python\\DS_MASTER\\City_Adam_Intern\\UnsupervisedBootAL-master\\datasets\\wdc_product\\features_phones_phones_catalog_test')\n",
    "#Baseline with unsupervised\n",
    "df_full_base = pd.read_csv(r'C:\\Users\\Invitado\\Documents\\Python\\DS_MASTER\\City_Adam_Intern\\df_uns_label_base_train.csv')\n",
    "df_full_base['label'] = df_full_base['label'].map(to_bin)"
   ]
  },
  {
   "cell_type": "code",
   "execution_count": 3,
   "metadata": {},
   "outputs": [],
   "source": [
    "df_base_train = df_full_base.loc[:1761]\n",
    "df_base_test = df_full_base.loc[1762:]"
   ]
  },
  {
   "cell_type": "code",
   "execution_count": 4,
   "metadata": {},
   "outputs": [
    {
     "name": "stdout",
     "output_type": "stream",
     "text": [
      "https://www.airbnb.nl/rooms/10161202\n",
      "https://www.airbnb.nl/rooms/10161074\n"
     ]
    },
    {
     "data": {
      "text/plain": [
       "'Links retreived'"
      ]
     },
     "execution_count": 4,
     "metadata": {},
     "output_type": "execute_result"
    }
   ],
   "source": [
    "compare(df_full,10161202, 10161074,full=False)"
   ]
  },
  {
   "cell_type": "code",
   "execution_count": 5,
   "metadata": {},
   "outputs": [],
   "source": [
    "#Take out the labeled data for making a test set \n",
    "manual_labeled = []\n",
    "\n",
    "#Getting the Listing Ids bc the files is in index \n",
    "for x,y in test_1.links:\n",
    "    tuple_1 = (df_full['ListingId'].iloc[x],df_full['ListingId'].iloc[y])\n",
    "    tuple_2 = (df_full['ListingId'].iloc[y],df_full['ListingId'].iloc[x])\n",
    "    manual_labeled.append([str(tuple_1),1])\n",
    "    manual_labeled.append([str(tuple_2),1])\n",
    "    \n",
    "for x,y in test_2.links:\n",
    "    tuple_1 = (df_full['ListingId'].iloc[x],df_full['ListingId'].iloc[y])\n",
    "    tuple_2 = (df_full['ListingId'].iloc[y],df_full['ListingId'].iloc[x])\n",
    "    manual_labeled.append([str(tuple_1),1])\n",
    "    manual_labeled.append([str(tuple_2),1])\n",
    "for x,y in test_1.distinct:\n",
    "    tuple_1 = (df_full['ListingId'].iloc[x],df_full['ListingId'].iloc[y])\n",
    "    tuple_2 = (df_full['ListingId'].iloc[y],df_full['ListingId'].iloc[x])\n",
    "    manual_labeled.append([str(tuple_1),0])\n",
    "    manual_labeled.append([str(tuple_2),0])\n",
    "    \n",
    "for x,y in test_2.distinct:\n",
    "    tuple_1 = (df_full['ListingId'].iloc[x],df_full['ListingId'].iloc[y])\n",
    "    tuple_2 = (df_full['ListingId'].iloc[y],df_full['ListingId'].iloc[x])\n",
    "    manual_labeled.append([str(tuple_1),0])\n",
    "    manual_labeled.append([str(tuple_2),0])\n",
    "\n",
    " #Merging to have it with the full data   \n",
    "df_labeled = pd.DataFrame(manual_labeled,columns=['ids','labels'])\n",
    "df_labeled\n",
    "with_labels =df_uns.merge(df_labeled,on='ids',how='left')\n"
   ]
  },
  {
   "cell_type": "code",
   "execution_count": 6,
   "metadata": {},
   "outputs": [
    {
     "data": {
      "text/html": [
       "<div>\n",
       "<style scoped>\n",
       "    .dataframe tbody tr th:only-of-type {\n",
       "        vertical-align: middle;\n",
       "    }\n",
       "\n",
       "    .dataframe tbody tr th {\n",
       "        vertical-align: top;\n",
       "    }\n",
       "\n",
       "    .dataframe thead th {\n",
       "        text-align: right;\n",
       "    }\n",
       "</style>\n",
       "<table border=\"1\" class=\"dataframe\">\n",
       "  <thead>\n",
       "    <tr style=\"text-align: right;\">\n",
       "      <th></th>\n",
       "      <th>ids</th>\n",
       "      <th>labels</th>\n",
       "    </tr>\n",
       "  </thead>\n",
       "  <tbody>\n",
       "    <tr>\n",
       "      <th>0</th>\n",
       "      <td>(11252596, 21319730)</td>\n",
       "      <td>1</td>\n",
       "    </tr>\n",
       "    <tr>\n",
       "      <th>1</th>\n",
       "      <td>(21319730, 11252596)</td>\n",
       "      <td>1</td>\n",
       "    </tr>\n",
       "    <tr>\n",
       "      <th>2</th>\n",
       "      <td>(14548324, 18113908)</td>\n",
       "      <td>1</td>\n",
       "    </tr>\n",
       "    <tr>\n",
       "      <th>3</th>\n",
       "      <td>(18113908, 14548324)</td>\n",
       "      <td>1</td>\n",
       "    </tr>\n",
       "    <tr>\n",
       "      <th>4</th>\n",
       "      <td>(14548324, 18285070)</td>\n",
       "      <td>1</td>\n",
       "    </tr>\n",
       "    <tr>\n",
       "      <th>...</th>\n",
       "      <td>...</td>\n",
       "      <td>...</td>\n",
       "    </tr>\n",
       "    <tr>\n",
       "      <th>465</th>\n",
       "      <td>(10917883, 43763917)</td>\n",
       "      <td>0</td>\n",
       "    </tr>\n",
       "    <tr>\n",
       "      <th>466</th>\n",
       "      <td>(21198240, 7662177)</td>\n",
       "      <td>0</td>\n",
       "    </tr>\n",
       "    <tr>\n",
       "      <th>467</th>\n",
       "      <td>(7662177, 21198240)</td>\n",
       "      <td>0</td>\n",
       "    </tr>\n",
       "    <tr>\n",
       "      <th>468</th>\n",
       "      <td>(9530785, 1037906)</td>\n",
       "      <td>0</td>\n",
       "    </tr>\n",
       "    <tr>\n",
       "      <th>469</th>\n",
       "      <td>(1037906, 9530785)</td>\n",
       "      <td>0</td>\n",
       "    </tr>\n",
       "  </tbody>\n",
       "</table>\n",
       "<p>470 rows × 2 columns</p>\n",
       "</div>"
      ],
      "text/plain": [
       "                      ids  labels\n",
       "0    (11252596, 21319730)       1\n",
       "1    (21319730, 11252596)       1\n",
       "2    (14548324, 18113908)       1\n",
       "3    (18113908, 14548324)       1\n",
       "4    (14548324, 18285070)       1\n",
       "..                    ...     ...\n",
       "465  (10917883, 43763917)       0\n",
       "466   (21198240, 7662177)       0\n",
       "467   (7662177, 21198240)       0\n",
       "468    (9530785, 1037906)       0\n",
       "469    (1037906, 9530785)       0\n",
       "\n",
       "[470 rows x 2 columns]"
      ]
     },
     "execution_count": 6,
     "metadata": {},
     "output_type": "execute_result"
    }
   ],
   "source": [
    "df_labeled"
   ]
  },
  {
   "cell_type": "code",
   "execution_count": 7,
   "metadata": {},
   "outputs": [],
   "source": [
    "#Baseline models data\n",
    "not_train = ['source_id','target_id','ids', 'agg_score', 'weights','uns_label','label']\n",
    "X_train = df_base_train.drop(not_train, axis=1).values\n",
    "y_train = df_base_train['label'].values\n",
    "X_test = df_base_test.drop(not_train, axis=1).values\n",
    "y_test = df_base_test['label'].values"
   ]
  },
  {
   "cell_type": "code",
   "execution_count": 8,
   "metadata": {},
   "outputs": [
    {
     "name": "stdout",
     "output_type": "stream",
     "text": [
      "Fitting 3 folds for each of 2940 candidates, totalling 8820 fits\n"
     ]
    },
    {
     "name": "stderr",
     "output_type": "stream",
     "text": [
      "[Parallel(n_jobs=1)]: Using backend SequentialBackend with 1 concurrent workers.\n",
      "[Parallel(n_jobs=1)]: Done 8820 out of 8820 | elapsed:  2.5min finished\n"
     ]
    },
    {
     "name": "stdout",
     "output_type": "stream",
     "text": [
      "{'criterion': 'gini', 'max_depth': None, 'max_leaf_nodes': 7, 'min_samples_leaf': 3}\n",
      "Precision: 0.7884615384615384 Recall: 0.803921568627451 Fscore: 0.7961165048543688\n"
     ]
    }
   ],
   "source": [
    "#Decision Tress serach for hyperparameters\n",
    "params = {'max_leaf_nodes': list(range(2, 100)),'max_depth' : [None, 3, 5, 10, 15], \n",
    "        'min_samples_leaf' : [3, 5, 10], 'criterion' : ['gini', 'entropy']}\n",
    "\n",
    "grid_search_cv = GridSearchCV(DecisionTreeClassifier(random_state=42), params, verbose=1, cv=3)\n",
    "grid_search_cv.fit(X_train, y_train)\n",
    "#Best parameters\n",
    "print(grid_search_cv.best_params_)\n",
    "#Get the perd metrics of the model \n",
    "y_pred = grid_search_cv.predict(X_test)\n",
    "precision_recall_fscore=precision_recall_fscore_support(y_test,y_pred,average='binary',zero_division=0)\n",
    "print('Precision:',precision_recall_fscore[0],\n",
    "      'Recall:',precision_recall_fscore[1],\n",
    "      'Fscore:',precision_recall_fscore[2])"
   ]
  },
  {
   "cell_type": "code",
   "execution_count": 9,
   "metadata": {},
   "outputs": [
    {
     "name": "stdout",
     "output_type": "stream",
     "text": [
      "Fitting 3 folds for each of 24 candidates, totalling 72 fits\n"
     ]
    },
    {
     "name": "stderr",
     "output_type": "stream",
     "text": [
      "[Parallel(n_jobs=1)]: Using backend SequentialBackend with 1 concurrent workers.\n",
      "[Parallel(n_jobs=1)]: Done  72 out of  72 | elapsed:   29.7s finished\n"
     ]
    },
    {
     "name": "stdout",
     "output_type": "stream",
     "text": [
      "{'fit_intercept': True, 'max_iter': 150, 'penalty': 'l1', 'solver': 'saga'}\n",
      "Precision: 0.7959183673469388 Recall: 0.7647058823529411 Fscore: 0.7799999999999999\n"
     ]
    }
   ],
   "source": [
    "# Logistic Reg search for hyperparameters\n",
    "params = {'penalty' :['l1', 'l2'],'fit_intercept' : [True, False],\n",
    "        'solver' :['liblinear', 'saga'],'max_iter' : [50, 100, 150]}\n",
    "\n",
    "grid_search_cv = GridSearchCV(LogisticRegression(random_state=42), params, verbose=1, cv=3)\n",
    "grid_search_cv.fit(X_train, y_train)\n",
    "#Best parameters\n",
    "print(grid_search_cv.best_params_)\n",
    "#Get the perd metrics of the model \n",
    "y_pred = grid_search_cv.predict(X_test)\n",
    "precision_recall_fscore=precision_recall_fscore_support(y_test,y_pred,average='binary',zero_division=0)\n",
    "print('Precision:',precision_recall_fscore[0],\n",
    "      'Recall:',precision_recall_fscore[1],\n",
    "      'Fscore:',precision_recall_fscore[2])"
   ]
  },
  {
   "cell_type": "code",
   "execution_count": 193,
   "metadata": {},
   "outputs": [
    {
     "name": "stdout",
     "output_type": "stream",
     "text": [
      "Fitting 3 folds for each of 32 candidates, totalling 96 fits\n"
     ]
    },
    {
     "name": "stderr",
     "output_type": "stream",
     "text": [
      "[Parallel(n_jobs=1)]: Using backend SequentialBackend with 1 concurrent workers.\n"
     ]
    },
    {
     "name": "stdout",
     "output_type": "stream",
     "text": [
      "{'C': 1, 'gamma': 0.1, 'kernel': 'linear'}\n",
      "Precision: 0.7884615384615384 Recall: 0.803921568627451 Fscore: 0.7961165048543688\n"
     ]
    },
    {
     "name": "stderr",
     "output_type": "stream",
     "text": [
      "[Parallel(n_jobs=1)]: Done  96 out of  96 | elapsed:   26.7s finished\n"
     ]
    }
   ],
   "source": [
    "# SVM search for hyperparameters\n",
    "params = {'kernel':['linear', 'rbf'], 'gamma':[0.1, 1, 5, 10] ,'C' : [0.5, 1, 5, 10]}\n",
    "\n",
    "grid_search_cv = GridSearchCV(SVC(random_state=42), params, verbose=1, cv=3)\n",
    "grid_search_cv.fit(X_train, y_train)\n",
    "#Best parameters\n",
    "print(grid_search_cv.best_params_)\n",
    "#Get the perd metrics of the model \n",
    "y_pred = grid_search_cv.predict(X_test)\n",
    "precision_recall_fscore=precision_recall_fscore_support(y_test,y_pred,average='binary',zero_division=0)\n",
    "print('Precision:',precision_recall_fscore[0],\n",
    "      'Recall:',precision_recall_fscore[1],\n",
    "      'Fscore:',precision_recall_fscore[2])\n"
   ]
  },
  {
   "cell_type": "code",
   "execution_count": 195,
   "metadata": {},
   "outputs": [
    {
     "name": "stdout",
     "output_type": "stream",
     "text": [
      "Fitting 3 folds for each of 27 candidates, totalling 81 fits\n"
     ]
    },
    {
     "name": "stderr",
     "output_type": "stream",
     "text": [
      "[Parallel(n_jobs=1)]: Using backend SequentialBackend with 1 concurrent workers.\n",
      "[Parallel(n_jobs=1)]: Done  81 out of  81 | elapsed:  1.2min finished\n"
     ]
    },
    {
     "name": "stdout",
     "output_type": "stream",
     "text": [
      "{'learning_rate': 0.1, 'max_depth': 7, 'n_estimators': 150}\n",
      "Precision: 0.8461538461538461 Recall: 0.8627450980392157 Fscore: 0.854368932038835\n"
     ]
    }
   ],
   "source": [
    "# XGBoost search for hyperparameters\n",
    "params = {'n_estimators':[100, 150, 200],'learning_rate':[0.05, 0.1, 0.15],'max_depth':[3, 5, 7]}\n",
    "\n",
    "\n",
    "grid_search_cv = GridSearchCV(xgb.XGBClassifier(random_state=42), params, verbose=1, cv=3)\n",
    "grid_search_cv.fit(X_train, y_train)\n",
    "#Best parameters\n",
    "print(grid_search_cv.best_params_)\n",
    "#Get the perd metrics of the model \n",
    "y_pred = grid_search_cv.predict(X_test)\n",
    "precision_recall_fscore=precision_recall_fscore_support(y_test,y_pred,average='binary',zero_division=0)\n",
    "print('Precision:',precision_recall_fscore[0],\n",
    "      'Recall:',precision_recall_fscore[1],\n",
    "      'Fscore:',precision_recall_fscore[2])\n"
   ]
  },
  {
   "cell_type": "code",
   "execution_count": 196,
   "metadata": {},
   "outputs": [
    {
     "name": "stdout",
     "output_type": "stream",
     "text": [
      "Fitting 3 folds for each of 45 candidates, totalling 135 fits\n"
     ]
    },
    {
     "name": "stderr",
     "output_type": "stream",
     "text": [
      "[Parallel(n_jobs=1)]: Using backend SequentialBackend with 1 concurrent workers.\n"
     ]
    },
    {
     "name": "stdout",
     "output_type": "stream",
     "text": [
      "{'max_depth': 5, 'min_samples_leaf': 5, 'n_estimators': 50}\n",
      "Precision: 0.8297872340425532 Recall: 0.7647058823529411 Fscore: 0.7959183673469387\n"
     ]
    },
    {
     "name": "stderr",
     "output_type": "stream",
     "text": [
      "[Parallel(n_jobs=1)]: Done 135 out of 135 | elapsed:   26.5s finished\n"
     ]
    }
   ],
   "source": [
    "# Random Forest search for hyperparameters\n",
    "params = {'n_estimators':[10, 50, 100] ,'max_depth':[None, 3, 5, 10, 15],'min_samples_leaf':[3, 5, 10]}\n",
    "\n",
    "grid_search_cv = GridSearchCV(RandomForestClassifier(random_state=42), params, verbose=1, cv=3)\n",
    "grid_search_cv.fit(X_train, y_train)\n",
    "#Best parameters\n",
    "print(grid_search_cv.best_params_)\n",
    "#Get the perd metrics of the model \n",
    "y_pred = grid_search_cv.predict(X_test)\n",
    "precision_recall_fscore=precision_recall_fscore_support(y_test,y_pred,average='binary',zero_division=0)\n",
    "print('Precision:',precision_recall_fscore[0],\n",
    "      'Recall:',precision_recall_fscore[1],\n",
    "      'Fscore:',precision_recall_fscore[2])"
   ]
  },
  {
   "cell_type": "code",
   "execution_count": 23,
   "metadata": {},
   "outputs": [],
   "source": [
    "#Comitee of models\n",
    "def randomforest_com():\n",
    "    clf = RandomForestClassifier(min_samples_leaf = 5, n_estimators= 50,\n",
    "                                min_samples_split=2,max_depth=5,warm_start=True)\n",
    "    return clf\n",
    "\n",
    "def desiciontree():\n",
    "    clf= DecisionTreeClassifier(criterion ='gini', max_depth= None,max_leaf_nodes= 7,\n",
    "                              min_samples_leaf= 3)\n",
    "    return clf\n",
    "def logisticreg():\n",
    "    clf = LogisticRegression(fit_intercept= True,max_iter=150,\n",
    "                             penalty= 'l1',solver= 'saga')\n",
    "    return clf\n",
    "def xbg_class():\n",
    "    clf = xgb.XGBClassifier(learning_rate=0.1,max_depth= 7,n_estimators = 150)\n",
    "    return clf\n",
    "def svm():\n",
    "    clf = SVC(probability=True,C= 1,gamma= 0.1, kernel= 'linear')\n",
    "    return clf\n",
    "\n",
    "#Main model\n",
    "def randomforest_main():\n",
    "    clf = RandomForestClassifier(n_estimators=10,min_samples_split=2,warm_start=True,max_depth=5)\n",
    "    return clf"
   ]
  },
  {
   "cell_type": "code",
   "execution_count": 24,
   "metadata": {},
   "outputs": [],
   "source": []
  },
  {
   "cell_type": "code",
   "execution_count": 25,
   "metadata": {},
   "outputs": [],
   "source": []
  },
  {
   "cell_type": "code",
   "execution_count": 26,
   "metadata": {},
   "outputs": [],
   "source": []
  },
  {
   "cell_type": "code",
   "execution_count": 27,
   "metadata": {},
   "outputs": [],
   "source": [
    "def al(df,df_test = False,queries = 20,baseline=False,committee_pred=False):\n",
    "    \n",
    "    #Commitee of models\n",
    "    members = [randomforest_main,desiciontree,logisticreg,xbg_class,svm]\n",
    "    #List with comitee object\n",
    "    learner_list = list()\n",
    "    \n",
    "    if baseline == False:\n",
    "        #Only use the data corresponding to the features to train\n",
    "        not_train = ['ListingId_1','ListingId_2','ids', 'agg_score', 'weights','uns_label','labels']\n",
    "    if baseline == True:\n",
    "        #Only use the data corresponding to the features to train\n",
    "        not_train = ['source_id','target_id','ids', 'agg_score', 'weights','uns_label','label']\n",
    "        \n",
    "    ids = df['ids'].values\n",
    "    ids_main = df['ids'].values\n",
    "    X_pool_main = df.drop(not_train, axis=1).values\n",
    "    X_pool = df.drop(not_train, axis=1).values\n",
    "    y_uns_label = df['uns_label'].values\n",
    "    y_uns_weight = df['weights'].values\n",
    "    \n",
    "    if baseline == False:\n",
    "        #Create the test set , select the not nan values\n",
    "        y_test_1= df['labels'].values\n",
    "        idx = np.argwhere(~np.isnan(y_test_1)).reshape(-1)\n",
    "        y_test= y_test_1[idx]\n",
    "        X_test = X_pool[idx]\n",
    "        #Eliminate from the main data variables the test data extracted\n",
    "        X_pool = np.delete(X_pool, np.argwhere(~np.isnan(y_test_1)), axis=0)\n",
    "        y_uns_label = np.delete(y_uns_label, np.argwhere(~np.isnan(y_test_1)), axis=0)\n",
    "        y_uns_weight = np.delete(y_uns_weight, np.argwhere(~np.isnan(y_test_1)), axis=0)\n",
    "        ids = np.delete(ids, np.argwhere(~np.isnan(y_test_1)), axis=0)\n",
    "    if baseline == True:\n",
    "        y_pool_labels = df['label'].values\n",
    "        y_test = df_test['label'].values\n",
    "        X_test = df_test.drop(not_train, axis=1).values\n",
    "     \n",
    "    X_train = X_pool\n",
    "    y_train = y_uns_label\n",
    "    train_idx = np.where(y_uns_weight> 0.99998) #> 0.99998\n",
    "    X_train_lb = X_pool[train_idx]\n",
    "    y_train_lb = y_uns_label[train_idx]      \n",
    "    # initializing learner\n",
    "    model_main = randomforest_main()\n",
    "    model_main.fit(X_train,y_train,sample_weight= y_uns_weight) \n",
    "    #model_main.fit(X_train_lb,y_train_lb) \n",
    "    \n",
    "    \n",
    "    for clf in members:\n",
    "        if clf == randomforest_main:\n",
    "            \n",
    "            train_idx = np.where(y_uns_weight> 0.99998)\n",
    "            X_train = X_pool[train_idx]\n",
    "            y_train = y_uns_label[train_idx]\n",
    "           \n",
    "            # initializing learner\n",
    "            learner = ActiveLearner(\n",
    "                estimator=clf(),\n",
    "                X_training=X_train, y_training=y_train\n",
    "                #sample_weight= y_uns_weight\n",
    "            )\n",
    "            learner_list.append(learner)\n",
    "\n",
    "        else:\n",
    "            \n",
    "            \"\"\"X_train = X_pool\n",
    "            y_train = y_uns_label\"\"\"\n",
    "            \n",
    "            train_idx = np.where(y_uns_weight> 0.99998)\n",
    "            X_train = X_pool[train_idx]\n",
    "            y_train = y_uns_label[train_idx]\n",
    "            \n",
    "            # initializing learner\n",
    "            learner = ActiveLearner(\n",
    "                estimator=clf(),\n",
    "                X_training=X_train, y_training=y_train\n",
    "            )\n",
    "            learner_list.append(learner)\n",
    "        \"\"\"# initial training data\n",
    "        #Selcting the most confident unsupervised labels for initial training\n",
    "        train_idx = np.where(y_uns_weight> 0.99998) #> 0.99998\n",
    "        X_train_lb = X_pool[train_idx]\n",
    "        y_train_lb = y_uns_label[train_idx]\n",
    "        \n",
    "        # initializing learner\n",
    "        learner = ActiveLearner(\n",
    "                estimator=clf(),\n",
    "                X_training=X_train_lb, y_training=y_train_lb\n",
    "            )\n",
    "        learner_list.append(learner)\"\"\"\n",
    "\n",
    "    # assembling the committee\n",
    "    committee = Committee(learner_list=learner_list,query_strategy=vote_entropy_sampling, boots= True)\n",
    "    #committee.rebag()\n",
    "    #Will save the new labels being labeled\n",
    "    new_labels = []\n",
    "    \n",
    "    # we want to only use the prediction of the random forest which will be incrementally built\n",
    "    \n",
    "    #Get predictions of test set\n",
    "    if committee_pred == False: \n",
    "        y_pred = model_main.predict(X_test)\n",
    "    else:\n",
    "        y_pred = committee.predict(X_test)\n",
    "    precision_recall_fscore= precision_recall_fscore_support(y_test,y_pred,average='binary',zero_division=0)\n",
    "    #Calculate metrics\n",
    "    precision_scores = [precision_recall_fscore[0]]\n",
    "    recall_scores=  [precision_recall_fscore[1]]\n",
    "    f_score = [precision_recall_fscore[2]]\n",
    "\n",
    "   \n",
    "    \n",
    "    # query by committee\n",
    "    n_queries = queries\n",
    "    #Active Learning Loop\n",
    "    for idx in range(n_queries):\n",
    "        # Committee models gives the instance to be labeled\n",
    "        query_idx, query_instance = committee.query(X_pool)\n",
    "        preds =committee.predict(X_pool)\n",
    "        \n",
    "        \n",
    "        #idx_new = np.array([np.argwhere(ids_main == ids[x])[0] for x in query_idx]).squeeze()\n",
    "        \n",
    "        idx_reduced_bool = preds[query_idx] != y_uns_label[query_idx]\n",
    "        \n",
    "        if sum(idx_reduced_bool) > 1:\n",
    "            \n",
    "            idx_reduced = query_idx[idx_reduced_bool][0]\n",
    "            idx_reduced = np.expand_dims(idx_reduced, axis=0)\n",
    "        \n",
    "        else:\n",
    "            print('Beware querying not returning')\n",
    "            idx_reduced = query_idx[0]\n",
    "            idx_reduced = np.expand_dims(idx_reduced, axis=0)\n",
    "            \n",
    "        \n",
    "        #For AMS data we need to query the user directly \n",
    "        if baseline == False:\n",
    "            #This asks for a label\n",
    "            print(\"Are this two listings the same one? 1-match , 0-nonmatch, 2-more=info\")\n",
    "            ids_int = [int(x) for x in ids[idx_reduced][1:-1].split(',')]\n",
    "            print(compare(df_full,ids_int[0],ids_int[1]))\n",
    "            label = int(input())\n",
    "            if label == 2:\n",
    "                print(compare(df_full,ids_int[0],ids_int[1],full=True))\n",
    "                label = int(input())\n",
    "            y_new = np.array([label], dtype=float)\n",
    "            \n",
    "        if baseline == True:\n",
    "            #For baseline we can access the true labels no need to ask just retreive\n",
    "            label = y_pool_labels[idx_reduced[0]]\n",
    "            y_new = np.array([label], dtype=float)\n",
    "            \n",
    "        \n",
    "        #y_uns_label[idx_reduced] = float(label)\n",
    "        #y_uns_weight[idx_reduced] = 2.0\n",
    "        #This will add the labeled data into the same arrays\n",
    "        X_train_lb = np.concatenate((X_train_lb,X_pool[idx_reduced]),axis=0)\n",
    "        y_train_lb = np.concatenate((y_train_lb,y_new),axis =0)\n",
    "        #y_weights_lb = np.array()\n",
    "        print(X_train_lb.shape,y_train_lb.shape)\n",
    "\n",
    "        for model in committee:\n",
    "            \"\"\"model.teach(query_instance.reshape(1, -1), y_new)\"\"\"\n",
    "            #Train the random forest in incremental way with the labeled instance\n",
    "            if type(model.get_params()['estimator'])== sklearn.ensemble._forest.RandomForestClassifier:\n",
    "                \n",
    "                n_estimators = model.get_params()['estimator__n_estimators'] +2 \n",
    "                params_rf = {'estimator__n_estimators':n_estimators} #,'estimator__max_depth': n_estimators\n",
    "                model.set_params(**params_rf)\n",
    "                #Teach the random forest , boostrap true is incremental\n",
    "                model.teach(X_train_lb, y_train_lb)\n",
    "                \n",
    "                #Predict with the new instance \n",
    "                # we want to only use the prediction of the random forest which will be incrementally built\n",
    "                \n",
    "                \"\"\"y_pred = model.predict(X_test)\n",
    "                precision_recall_fscore=precision_recall_fscore_support(y_test,y_pred,average='binary',zero_division=0)\n",
    "\n",
    "                precision_scores.append(precision_recall_fscore[0])\n",
    "                recall_scores.append(precision_recall_fscore[1])\n",
    "                f_score.append(precision_recall_fscore[2])\"\"\"\n",
    "            else:\n",
    "                \n",
    "                model.teach(X_train_lb, y_train_lb)\n",
    "        \n",
    "        model_main.n_estimators += 2\n",
    "        \n",
    "                \n",
    "        #Teach the random forest , boostrap true is incremental\n",
    "        \n",
    "       \n",
    "        \n",
    "        #model_main.fit(X_pool_main,y_uns_label,sample_weight=y_uns_weight) \n",
    "        model_main.fit(X_train_lb,y_train_lb) \n",
    "        \n",
    "        #Predict with the new instance \n",
    "        # we want to only use the prediction of the random forest which will be incrementally built\n",
    "        \n",
    "        if committee_pred == False: \n",
    "            y_pred = model_main.predict(X_test)\n",
    "        else:\n",
    "            y_pred = committee.predict(X_test)\n",
    "        \n",
    "        precision_recall_fscore=precision_recall_fscore_support(y_test,y_pred,average='binary',zero_division=0)\n",
    "        precision_scores.append(precision_recall_fscore[0])\n",
    "        recall_scores.append(precision_recall_fscore[1])\n",
    "        f_score.append(precision_recall_fscore[2])    \n",
    "        \n",
    "        \n",
    "        #Delete the queried instance from the pool\n",
    "        X_pool = np.delete(X_pool, idx_reduced, axis=0)\n",
    "        ids = np.delete(ids, idx_reduced, axis=0)\n",
    "        y_uns_label = np.delete(y_uns_label, idx_reduced, axis=0)\n",
    "        if baseline == True:\n",
    "            #For the baseline we need to delete the label learned from the pool\n",
    "            y_pool_labels = np.delete(y_pool_labels, idx_reduced, axis=0)\n",
    "            \n",
    "    \n",
    "        if baseline ==False:\n",
    "            new_labels.append([(ids_int[0],ids_int[1]),label])\n",
    "    \n",
    "    #Graph to check the learning process\n",
    "    with plt.style.context('seaborn-white'):\n",
    "        plt.figure(figsize=(5, 5))\n",
    "        plt.subplot(1, 1, 1)\n",
    "        plt.title('Precision of your model')\n",
    "        plt.plot(range(n_queries+1), precision_scores)\n",
    "        #plt.scatter(range(n_queries+1), precision_scores)\n",
    "        plt.xlabel('number of queries')\n",
    "        plt.ylabel('Precision')\n",
    "        display.display(plt.gcf())\n",
    "        plt.close('all')\n",
    "    with plt.style.context('seaborn-white'):\n",
    "        plt.figure(figsize=(5, 5))\n",
    "        plt.subplot(1, 1, 1)\n",
    "        plt.title('recall_scores of your model')\n",
    "        plt.plot(range(n_queries+1), recall_scores)\n",
    "        #plt.scatter(range(n_queries+1), recall_scores)\n",
    "        plt.xlabel('number of queries')\n",
    "        plt.ylabel('recall_scores')\n",
    "        display.display(plt.gcf())\n",
    "        plt.close('all')\n",
    "    with plt.style.context('seaborn-white'):\n",
    "        plt.figure(figsize=(5, 5))\n",
    "        plt.subplot(1, 1, 1)\n",
    "        plt.title('f_score of your model')\n",
    "        plt.plot(range(n_queries+1), f_score)\n",
    "        #plt.scatter(range(n_queries+1), f_score)\n",
    "        plt.xlabel('number of queries')\n",
    "        plt.ylabel('f_score')\n",
    "        display.display(plt.gcf())\n",
    "        plt.close('all')\n",
    "    return new_labels"
   ]
  },
  {
   "cell_type": "code",
   "execution_count": 21,
   "metadata": {},
   "outputs": [
    {
     "name": "stdout",
     "output_type": "stream",
     "text": [
      "(3, 131) (3,)\n",
      "(4, 131) (4,)\n",
      "(5, 131) (5,)\n",
      "(6, 131) (6,)\n",
      "(7, 131) (7,)\n",
      "(8, 131) (8,)\n",
      "(9, 131) (9,)\n",
      "(10, 131) (10,)\n",
      "(11, 131) (11,)\n",
      "(12, 131) (12,)\n",
      "(13, 131) (13,)\n",
      "(14, 131) (14,)\n",
      "(15, 131) (15,)\n",
      "(16, 131) (16,)\n",
      "(17, 131) (17,)\n",
      "(18, 131) (18,)\n",
      "(19, 131) (19,)\n",
      "(20, 131) (20,)\n",
      "(21, 131) (21,)\n",
      "(22, 131) (22,)\n",
      "(23, 131) (23,)\n",
      "(24, 131) (24,)\n",
      "(25, 131) (25,)\n",
      "(26, 131) (26,)\n",
      "(27, 131) (27,)\n",
      "(28, 131) (28,)\n",
      "(29, 131) (29,)\n",
      "(30, 131) (30,)\n",
      "(31, 131) (31,)\n",
      "(32, 131) (32,)\n",
      "(33, 131) (33,)\n",
      "(34, 131) (34,)\n",
      "(35, 131) (35,)\n",
      "(36, 131) (36,)\n",
      "(37, 131) (37,)\n",
      "(38, 131) (38,)\n",
      "(39, 131) (39,)\n",
      "(40, 131) (40,)\n",
      "(41, 131) (41,)\n",
      "(42, 131) (42,)\n",
      "(43, 131) (43,)\n",
      "(44, 131) (44,)\n",
      "(45, 131) (45,)\n",
      "(46, 131) (46,)\n",
      "(47, 131) (47,)\n",
      "(48, 131) (48,)\n",
      "(49, 131) (49,)\n",
      "(50, 131) (50,)\n",
      "(51, 131) (51,)\n",
      "(52, 131) (52,)\n",
      "(53, 131) (53,)\n",
      "(54, 131) (54,)\n",
      "(55, 131) (55,)\n",
      "(56, 131) (56,)\n",
      "(57, 131) (57,)\n",
      "(58, 131) (58,)\n",
      "(59, 131) (59,)\n",
      "(60, 131) (60,)\n",
      "(61, 131) (61,)\n",
      "(62, 131) (62,)\n",
      "(63, 131) (63,)\n",
      "(64, 131) (64,)\n",
      "(65, 131) (65,)\n",
      "(66, 131) (66,)\n",
      "(67, 131) (67,)\n",
      "(68, 131) (68,)\n",
      "(69, 131) (69,)\n",
      "(70, 131) (70,)\n",
      "(71, 131) (71,)\n",
      "(72, 131) (72,)\n",
      "(73, 131) (73,)\n",
      "(74, 131) (74,)\n",
      "(75, 131) (75,)\n",
      "(76, 131) (76,)\n",
      "(77, 131) (77,)\n",
      "(78, 131) (78,)\n",
      "(79, 131) (79,)\n",
      "(80, 131) (80,)\n",
      "(81, 131) (81,)\n",
      "(82, 131) (82,)\n",
      "(83, 131) (83,)\n",
      "(84, 131) (84,)\n",
      "(85, 131) (85,)\n",
      "(86, 131) (86,)\n",
      "(87, 131) (87,)\n",
      "(88, 131) (88,)\n",
      "(89, 131) (89,)\n",
      "(90, 131) (90,)\n",
      "(91, 131) (91,)\n",
      "(92, 131) (92,)\n",
      "(93, 131) (93,)\n",
      "(94, 131) (94,)\n",
      "(95, 131) (95,)\n",
      "(96, 131) (96,)\n",
      "(97, 131) (97,)\n",
      "(98, 131) (98,)\n",
      "(99, 131) (99,)\n",
      "(100, 131) (100,)\n",
      "(101, 131) (101,)\n",
      "(102, 131) (102,)\n"
     ]
    },
    {
     "data": {
      "image/png": "[encoded data removed]",
      "text/plain": [
       "<Figure size 360x360 with 1 Axes>"
      ]
     },
     "metadata": {},
     "output_type": "display_data"
    },
    {
     "data": {
      "image/png": "[encoded data removed]",
      "text/plain": [
       "<Figure size 360x360 with 1 Axes>"
      ]
     },
     "metadata": {},
     "output_type": "display_data"
    },
    {
     "data": {
      "image/png": "[encoded data removed]",
      "text/plain": [
       "<Figure size 360x360 with 1 Axes>"
      ]
     },
     "metadata": {},
     "output_type": "display_data"
    },
    {
     "data": {
      "text/plain": [
       "[]"
      ]
     },
     "execution_count": 21,
     "metadata": {},
     "output_type": "execute_result"
    }
   ],
   "source": [
    "al(df_base_train,df_test = df_base_test ,queries=100,baseline=True,committee_pred= True)"
   ]
  },
  {
   "cell_type": "code",
   "execution_count": 29,
   "metadata": {},
   "outputs": [
    {
     "name": "stdout",
     "output_type": "stream",
     "text": [
      "(3, 131) (3,)\n",
      "(4, 131) (4,)\n",
      "(5, 131) (5,)\n",
      "(6, 131) (6,)\n",
      "(7, 131) (7,)\n",
      "(8, 131) (8,)\n",
      "(9, 131) (9,)\n",
      "(10, 131) (10,)\n",
      "(11, 131) (11,)\n",
      "(12, 131) (12,)\n",
      "(13, 131) (13,)\n",
      "(14, 131) (14,)\n",
      "(15, 131) (15,)\n",
      "(16, 131) (16,)\n",
      "(17, 131) (17,)\n",
      "(18, 131) (18,)\n",
      "(19, 131) (19,)\n",
      "(20, 131) (20,)\n",
      "(21, 131) (21,)\n",
      "(22, 131) (22,)\n",
      "(23, 131) (23,)\n",
      "(24, 131) (24,)\n",
      "(25, 131) (25,)\n",
      "(26, 131) (26,)\n",
      "(27, 131) (27,)\n",
      "(28, 131) (28,)\n",
      "(29, 131) (29,)\n",
      "(30, 131) (30,)\n",
      "(31, 131) (31,)\n",
      "(32, 131) (32,)\n",
      "(33, 131) (33,)\n",
      "(34, 131) (34,)\n",
      "(35, 131) (35,)\n",
      "(36, 131) (36,)\n",
      "(37, 131) (37,)\n",
      "(38, 131) (38,)\n",
      "(39, 131) (39,)\n",
      "(40, 131) (40,)\n",
      "(41, 131) (41,)\n",
      "(42, 131) (42,)\n",
      "(43, 131) (43,)\n",
      "(44, 131) (44,)\n",
      "(45, 131) (45,)\n",
      "(46, 131) (46,)\n",
      "(47, 131) (47,)\n",
      "(48, 131) (48,)\n",
      "(49, 131) (49,)\n",
      "(50, 131) (50,)\n",
      "(51, 131) (51,)\n",
      "(52, 131) (52,)\n",
      "(53, 131) (53,)\n",
      "(54, 131) (54,)\n",
      "(55, 131) (55,)\n",
      "(56, 131) (56,)\n",
      "(57, 131) (57,)\n",
      "(58, 131) (58,)\n",
      "(59, 131) (59,)\n",
      "(60, 131) (60,)\n",
      "(61, 131) (61,)\n",
      "(62, 131) (62,)\n",
      "(63, 131) (63,)\n",
      "(64, 131) (64,)\n",
      "(65, 131) (65,)\n",
      "(66, 131) (66,)\n",
      "(67, 131) (67,)\n",
      "(68, 131) (68,)\n",
      "(69, 131) (69,)\n",
      "(70, 131) (70,)\n",
      "(71, 131) (71,)\n",
      "(72, 131) (72,)\n",
      "(73, 131) (73,)\n",
      "(74, 131) (74,)\n",
      "(75, 131) (75,)\n",
      "(76, 131) (76,)\n",
      "(77, 131) (77,)\n",
      "(78, 131) (78,)\n",
      "(79, 131) (79,)\n",
      "(80, 131) (80,)\n",
      "(81, 131) (81,)\n",
      "(82, 131) (82,)\n",
      "(83, 131) (83,)\n",
      "(84, 131) (84,)\n",
      "Beware querying not returning\n",
      "(85, 131) (85,)\n",
      "(86, 131) (86,)\n",
      "(87, 131) (87,)\n",
      "(88, 131) (88,)\n",
      "(89, 131) (89,)\n",
      "(90, 131) (90,)\n",
      "(91, 131) (91,)\n",
      "(92, 131) (92,)\n",
      "(93, 131) (93,)\n",
      "(94, 131) (94,)\n",
      "(95, 131) (95,)\n",
      "(96, 131) (96,)\n",
      "(97, 131) (97,)\n",
      "(98, 131) (98,)\n",
      "(99, 131) (99,)\n",
      "(100, 131) (100,)\n",
      "(101, 131) (101,)\n",
      "(102, 131) (102,)\n"
     ]
    },
    {
     "data": {
      "image/png": "[encoded data removed]",
      "text/plain": [
       "<Figure size 360x360 with 1 Axes>"
      ]
     },
     "metadata": {},
     "output_type": "display_data"
    },
    {
     "data": {
      "image/png": "[encoded data removed]",
      "text/plain": [
       "<Figure size 360x360 with 1 Axes>"
      ]
     },
     "metadata": {},
     "output_type": "display_data"
    },
    {
     "data": {
      "image/png": "[encoded data removed]",
      "text/plain": [
       "<Figure size 360x360 with 1 Axes>"
      ]
     },
     "metadata": {},
     "output_type": "display_data"
    },
    {
     "data": {
      "text/plain": [
       "[]"
      ]
     },
     "execution_count": 29,
     "metadata": {},
     "output_type": "execute_result"
    }
   ],
   "source": [
    "al(df_base_train,df_test = df_base_test,queries=100,baseline=True,committee_pred= False)"
   ]
  },
  {
   "cell_type": "code",
   "execution_count": null,
   "metadata": {},
   "outputs": [],
   "source": []
  },
  {
   "cell_type": "code",
   "execution_count": null,
   "metadata": {},
   "outputs": [],
   "source": []
  },
  {
   "cell_type": "code",
   "execution_count": null,
   "metadata": {},
   "outputs": [],
   "source": []
  },
  {
   "cell_type": "code",
   "execution_count": null,
   "metadata": {
    "scrolled": false
   },
   "outputs": [],
   "source": []
  },
  {
   "cell_type": "code",
   "execution_count": null,
   "metadata": {},
   "outputs": [],
   "source": []
  },
  {
   "cell_type": "code",
   "execution_count": null,
   "metadata": {},
   "outputs": [],
   "source": []
  },
  {
   "cell_type": "code",
   "execution_count": null,
   "metadata": {},
   "outputs": [],
   "source": []
  },
  {
   "cell_type": "code",
   "execution_count": null,
   "metadata": {},
   "outputs": [],
   "source": []
  },
  {
   "cell_type": "code",
   "execution_count": null,
   "metadata": {},
   "outputs": [],
   "source": []
  },
  {
   "cell_type": "code",
   "execution_count": null,
   "metadata": {},
   "outputs": [],
   "source": []
  },
  {
   "cell_type": "code",
   "execution_count": null,
   "metadata": {},
   "outputs": [],
   "source": []
  },
  {
   "cell_type": "code",
   "execution_count": null,
   "metadata": {},
   "outputs": [],
   "source": []
  }
 ],
 "metadata": {
  "interpreter": {
   "hash": "bc9e0a135ba6f5ed53de0042d65bc7b4266590385bf12c893a972c5e28ec494f"
  },
  "kernelspec": {
   "display_name": "Python 3.8.5 ('base')",
   "language": "python",
   "name": "python3"
  },
  "language_info": {
   "codemirror_mode": {
    "name": "ipython",
    "version": 3
   },
   "file_extension": ".py",
   "mimetype": "text/x-python",
   "name": "python",
   "nbconvert_exporter": "python",
   "pygments_lexer": "ipython3",
   "version": "3.8.5"
  }
 },
 "nbformat": 4,
 "nbformat_minor": 2
}
