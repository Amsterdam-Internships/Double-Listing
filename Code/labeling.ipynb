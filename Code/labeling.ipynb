{
 "cells": [
  {
   "cell_type": "code",
   "execution_count": null,
   "metadata": {},
   "outputs": [],
   "source": [
    "#!pip install recordlinkage==0.14\n",
    "import recordlinkage\n",
    "import pandas as pd\n",
    "import recordlinkage as rl \n",
    "from recordlinkage.index import Block\n",
    "from recordlinkage.algorithms.distance import _haversine_distance\n",
    "from recordlinkage.algorithms.numeric import _linear_sim\n",
    "import random\n",
    "import pickle \n",
    "import numpy as np"
   ]
  },
  {
   "cell_type": "code",
   "execution_count": null,
   "metadata": {},
   "outputs": [],
   "source": [
    "#Reading Data\n",
    "df_clean = pd.read_csv(r'C:\\Users\\Invitado\\Documents\\Python\\DS_MASTER\\City_Adam_Intern\\df_red.csv')\n",
    "#There was a duplicated entry in ListingId so delete\n",
    "df_clean[df_clean.duplicated(subset=['ListingId']) == True]\n",
    "df_clean.drop(132,axis=0,inplace=True)\n",
    "df_clean[df_clean['ListingId']==10217568]\n",
    "\n",
    "\n",
    "#To have tuples with LitingsId as index ,useful for later processing\n",
    "df_tuple = df_clean.set_index('ListingId')\n",
    "# To compare Harversine we need lat and ln in a tuple\n",
    "df_clean['Lat_Lng'] =list(zip(df_clean.Lat, df_clean.Lng))"
   ]
  },
  {
   "cell_type": "code",
   "execution_count": null,
   "metadata": {},
   "outputs": [],
   "source": [
    "#Read the feature embeddings df\n",
    "df_uns = pd.read_csv(r'C:\\Users\\Invitado\\Documents\\Python\\DS_MASTER\\City_Adam_Intern\\df_uns_label_img_red_hot.csv')\n",
    "#Stratified random sampling needs binning the agg score of both classes\n",
    "df_uns_high = df_uns[df_uns['agg_score'] > 0.50]\n",
    "df_uns_low = df_uns[df_uns['agg_score'] < 0.50]"
   ]
  },
  {
   "cell_type": "code",
   "execution_count": null,
   "metadata": {},
   "outputs": [],
   "source": [
    "# Indexes which may be selected\n",
    "top_pairs = list(zip(df_uns_high['ListingId_1'],df_uns_high['ListingId_2']))\n",
    "bottom_pairs = list(zip(df_uns_low['ListingId_1'],df_uns_low['ListingId_2']))"
   ]
  },
  {
   "cell_type": "code",
   "execution_count": null,
   "metadata": {},
   "outputs": [],
   "source": [
    "#Sampling\n",
    "rng =  np.random.default_rng(seed=2023)\n",
    "top_idx =  rng.integers(low=0, high=len(top_pairs), size=100)\n",
    "bottom_idx = rng.integers(low=0, high=len(bottom_pairs), size=100)\n",
    "#convert to arrays to select with array index\n",
    "top_pairs = np.array(top_pairs)\n",
    "bottom_pairs = np.array(bottom_pairs)\n",
    "#Slect random chosen index\n",
    "sample_top = top_pairs[top_idx]\n",
    "sample_bottom = bottom_pairs[bottom_idx]"
   ]
  },
  {
   "cell_type": "code",
   "execution_count": null,
   "metadata": {},
   "outputs": [],
   "source": [
    "df_clean_1 = df_clean.drop(['Host_picture_url','LaBSE_emb', 'Lat_Lng','Host_thumbnail_url'],axis=1)\n",
    "labels = []"
   ]
  },
  {
   "cell_type": "code",
   "execution_count": null,
   "metadata": {},
   "outputs": [],
   "source": [
    "#Labeling loop\n",
    "idx = 0\n",
    "for id_1,id_2 in sample_top:\n",
    "    print('Label:',idx)\n",
    "    url_1 =[x for x in df_clean_1['listing_url'][df_clean_1['ListingId'] == id_1]]\n",
    "    url_2 =[x for x in df_clean_1['listing_url'][df_clean_1['ListingId'] == id_2]]\n",
    "    print(\"Use 1 if the urls are of the same property, 0 if not, 3 for a full description, 2 for ambiguous, 9 for stopping\")\n",
    "    print(url_1[0])\n",
    "    print(url_2[0])\n",
    "    label = int(input())\n",
    "    if label == 1 or label==0:\n",
    "        labels.append(((id_1,id_2),label))\n",
    "        print('Saved!')\n",
    "    if label == 9:\n",
    "        break\n",
    "    if label == 3:\n",
    "        lista = [print(x,':',y,'==',z) for x,y,z in zip(df_clean_1.columns.tolist(),\n",
    "                                                        df_clean_1[df_clean_1['ListingId'] == id_1].values.tolist()[0],\n",
    "                                                        df_clean_1[df_clean_1['ListingId'] == id_2].values.tolist()[0])]\n",
    "        label = int(input())\n",
    "        labels.append(((id_1,id_2),label))\n",
    "        print('Saved!')\n",
    "    idx += 1\n",
    "\n",
    "#Labeling loop\n",
    "idx =0\n",
    "for id_1,id_2 in sample_bottom:\n",
    "    print('Label:',idx)\n",
    "    url_1 =[x for x in df_clean_1['listing_url'][df_clean_1['ListingId'] == id_1]]\n",
    "    url_2 =[x for x in df_clean_1['listing_url'][df_clean_1['ListingId'] == id_2]]\n",
    "    print(\"Use 1 if the urls are of the same property, 0 if not, 3 for a full description, 2 for ambiguous, 9 for stopping\")\n",
    "    print(url_1[0])\n",
    "    print(url_2[0])\n",
    "    label = int(input())\n",
    "    if label == 1 or label==0:\n",
    "        labels.append(((id_1,id_2),label))\n",
    "        print('Saved!')\n",
    "    if label == 9:\n",
    "        break\n",
    "    if label == 3:\n",
    "        lista = [print(x,':',y,'==',z) for x,y,z in zip(df_clean_1.columns.tolist(),\n",
    "                                                        df_clean_1[df_clean_1['ListingId'] == id_1].values.tolist()[0],\n",
    "                                                        df_clean_1[df_clean_1['ListingId'] == id_2].values.tolist()[0])]\n",
    "        label = int(input())\n",
    "        labels.append(((id_1,id_2),label))\n",
    "        print('Saved!')\n",
    "    idx +=1\n"
   ]
  },
  {
   "cell_type": "code",
   "execution_count": null,
   "metadata": {},
   "outputs": [],
   "source": [
    "# Saving labels as pickle\n",
    "file_name = \"labels_no_hotels.pkl\"\n",
    "open_file = open(file_name, \"wb\")\n",
    "pickle.dump(labels, open_file)\n",
    "open_file.close()"
   ]
  }
 ],
 "metadata": {
  "interpreter": {
   "hash": "88a2f7f577888eb2710e0d5d9756c4025ff3188af31a1b3845b611b72892981c"
  },
  "kernelspec": {
   "display_name": "Python 3",
   "language": "python",
   "name": "python3"
  },
  "language_info": {
   "codemirror_mode": {
    "name": "ipython",
    "version": 3
   },
   "file_extension": ".py",
   "mimetype": "text/x-python",
   "name": "python",
   "nbconvert_exporter": "python",
   "pygments_lexer": "ipython3",
   "version": "3.8.5"
  }
 },
 "nbformat": 4,
 "nbformat_minor": 2
}
