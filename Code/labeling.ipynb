{
 "cells": [
  {
   "cell_type": "code",
   "execution_count": 1,
   "metadata": {},
   "outputs": [],
   "source": [
    "#!pip install recordlinkage==0.14\n",
    "\n",
    "import recordlinkage\n",
    "import pandas as pd\n",
    "import recordlinkage as rl \n",
    "from recordlinkage.index import Block\n",
    "from recordlinkage.algorithms.distance import _haversine_distance\n",
    "from recordlinkage.algorithms.numeric import _linear_sim\n",
    "import random\n",
    "import pickle \n"
   ]
  },
  {
   "cell_type": "code",
   "execution_count": 2,
   "metadata": {},
   "outputs": [],
   "source": [
    "#Reading Data\n",
    "df_clean = pd.read_csv(r'C:\\Users\\Invitado\\Documents\\Python\\DS_MASTER\\City_Adam_Intern\\df_red.csv')\n",
    "\n",
    "#There was a duplicated entry in ListingId so delete\n",
    "df_clean[df_clean.duplicated(subset=['ListingId']) == True]\n",
    "df_clean.drop(132,axis=0,inplace=True)\n",
    "df_clean[df_clean['ListingId']==10217568]\n",
    "\n",
    "\n",
    "#To have tuples with LitingsId as index ,useful for later processing\n",
    "df_tuple = df_clean.set_index('ListingId')"
   ]
  },
  {
   "cell_type": "code",
   "execution_count": 3,
   "metadata": {},
   "outputs": [],
   "source": [
    "# To compare Harversine we need lat and ln in a tuple\n",
    "df_clean['Lat_Lng'] =list(zip(df_clean.Lat, df_clean.Lng))"
   ]
  },
  {
   "cell_type": "code",
   "execution_count": 4,
   "metadata": {},
   "outputs": [
    {
     "name": "stdout",
     "output_type": "stream",
     "text": [
      "Candidate links: 3470454\n"
     ]
    }
   ],
   "source": [
    "#Blocking of data , feature Neighborhood\n",
    "indexer = rl.BlockIndex(on='Neighborhood')\n",
    "candidate_links = indexer.index(df_tuple)\n",
    "\n",
    "print ('Candidate links:',len(candidate_links))"
   ]
  },
  {
   "cell_type": "code",
   "execution_count": 5,
   "metadata": {},
   "outputs": [
    {
     "data": {
      "text/html": [
       "<div>\n",
       "<style scoped>\n",
       "    .dataframe tbody tr th:only-of-type {\n",
       "        vertical-align: middle;\n",
       "    }\n",
       "\n",
       "    .dataframe tbody tr th {\n",
       "        vertical-align: top;\n",
       "    }\n",
       "\n",
       "    .dataframe thead th {\n",
       "        text-align: right;\n",
       "    }\n",
       "</style>\n",
       "<table border=\"1\" class=\"dataframe\">\n",
       "  <thead>\n",
       "    <tr style=\"text-align: right;\">\n",
       "      <th></th>\n",
       "      <th></th>\n",
       "      <th>Neighborhood</th>\n",
       "      <th>Distance</th>\n",
       "    </tr>\n",
       "    <tr>\n",
       "      <th>ListingId_1</th>\n",
       "      <th>ListingId_2</th>\n",
       "      <th></th>\n",
       "      <th></th>\n",
       "    </tr>\n",
       "  </thead>\n",
       "  <tbody>\n",
       "    <tr>\n",
       "      <th>10025641</th>\n",
       "      <th>10008030</th>\n",
       "      <td>1</td>\n",
       "      <td>0.000000</td>\n",
       "    </tr>\n",
       "    <tr>\n",
       "      <th rowspan=\"2\" valign=\"top\">10027284</th>\n",
       "      <th>10008030</th>\n",
       "      <td>1</td>\n",
       "      <td>0.331520</td>\n",
       "    </tr>\n",
       "    <tr>\n",
       "      <th>10025641</th>\n",
       "      <td>1</td>\n",
       "      <td>0.000000</td>\n",
       "    </tr>\n",
       "    <tr>\n",
       "      <th rowspan=\"2\" valign=\"top\">10043980</th>\n",
       "      <th>10008030</th>\n",
       "      <td>1</td>\n",
       "      <td>0.000000</td>\n",
       "    </tr>\n",
       "    <tr>\n",
       "      <th>10025641</th>\n",
       "      <td>1</td>\n",
       "      <td>0.972364</td>\n",
       "    </tr>\n",
       "    <tr>\n",
       "      <th>...</th>\n",
       "      <th>...</th>\n",
       "      <td>...</td>\n",
       "      <td>...</td>\n",
       "    </tr>\n",
       "    <tr>\n",
       "      <th>42112141</th>\n",
       "      <th>39267402</th>\n",
       "      <td>1</td>\n",
       "      <td>0.000000</td>\n",
       "    </tr>\n",
       "    <tr>\n",
       "      <th rowspan=\"3\" valign=\"top\">49161472</th>\n",
       "      <th>30077792</th>\n",
       "      <td>1</td>\n",
       "      <td>0.000000</td>\n",
       "    </tr>\n",
       "    <tr>\n",
       "      <th>39267402</th>\n",
       "      <td>1</td>\n",
       "      <td>0.000000</td>\n",
       "    </tr>\n",
       "    <tr>\n",
       "      <th>42112141</th>\n",
       "      <td>1</td>\n",
       "      <td>0.000000</td>\n",
       "    </tr>\n",
       "    <tr>\n",
       "      <th>40629039</th>\n",
       "      <th>3292084</th>\n",
       "      <td>1</td>\n",
       "      <td>0.000000</td>\n",
       "    </tr>\n",
       "  </tbody>\n",
       "</table>\n",
       "<p>3470454 rows × 2 columns</p>\n",
       "</div>"
      ],
      "text/plain": [
       "                         Neighborhood  Distance\n",
       "ListingId_1 ListingId_2                        \n",
       "10025641    10008030                1  0.000000\n",
       "10027284    10008030                1  0.331520\n",
       "            10025641                1  0.000000\n",
       "10043980    10008030                1  0.000000\n",
       "            10025641                1  0.972364\n",
       "...                               ...       ...\n",
       "42112141    39267402                1  0.000000\n",
       "49161472    30077792                1  0.000000\n",
       "            39267402                1  0.000000\n",
       "            42112141                1  0.000000\n",
       "40629039    3292084                 1  0.000000\n",
       "\n",
       "[3470454 rows x 2 columns]"
      ]
     },
     "execution_count": 5,
     "metadata": {},
     "output_type": "execute_result"
    }
   ],
   "source": [
    "#Further blocking include longitude and latitude\n",
    "compare_cl = rl.Compare()\n",
    "\n",
    "compare_cl.exact('Neighborhood','Neighborhood', label='Neighborhood')\n",
    "compare_cl.geo('Lat','Lng','Lat','Lng',method='linear',label='Distance')\n",
    "\n",
    "features = compare_cl.compute(candidate_links, df_tuple)\n",
    "features"
   ]
  },
  {
   "cell_type": "code",
   "execution_count": 6,
   "metadata": {},
   "outputs": [
    {
     "data": {
      "text/plain": [
       "44337"
      ]
     },
     "execution_count": 6,
     "metadata": {},
     "output_type": "execute_result"
    }
   ],
   "source": [
    "#Select possible matches\n",
    "matches_blocking = features[features['Distance'] > 0.925] # Threshold used accordig to bnb aprox distance\n",
    "len(matches_blocking)"
   ]
  },
  {
   "cell_type": "code",
   "execution_count": 7,
   "metadata": {},
   "outputs": [],
   "source": [
    "#Stratified sampling according to literaure, top 100 most similar , bottom 100 \n",
    "matches_blocking = matches_blocking.sort_values(by=['Distance'])\n",
    "top100_matches_blocking = matches_blocking.iloc[-100:]\n",
    "bottom100_matches_blocking = matches_blocking.iloc[:100]\n",
    "\n",
    "#list with all the possible matching pairs 150k\n",
    "top_pairs =list(top100_matches_blocking.index) \n",
    "bottom_pairs =list(bottom100_matches_blocking.index) "
   ]
  },
  {
   "cell_type": "code",
   "execution_count": 8,
   "metadata": {},
   "outputs": [],
   "source": [
    "#Sampling\n",
    "sample_top = random.sample(top_pairs,100)\n",
    "sample_bottom = random.sample(bottom_pairs,100)"
   ]
  },
  {
   "cell_type": "code",
   "execution_count": 9,
   "metadata": {},
   "outputs": [
    {
     "name": "stdout",
     "output_type": "stream",
     "text": [
      "Use 1 if the urls are od the same property, 0 if not, 3 for a full description, 2 for ambiguous\n",
      "https://www.airbnb.nl/rooms/25463991\n",
      "https://www.airbnb.nl/rooms/25336232\n",
      "3\n",
      "site : AIRBNB == AIRBNB\n",
      "ListingId : 25463991 == 25336232\n",
      "Name : karel appel apartment with canal view   terrace == frans hals apartment garden view\n",
      "postalcode : 1017 EN == 1017 EN\n",
      "Bedrooms : 3.0 == 1.0\n",
      "Bathrooms : 1.0 == 1.0\n",
      "Beds : 5.0 == 1.0\n",
      "Person_capacity : 6 == 2\n",
      "Host_first_name : anja == anja\n",
      "Instant_bookable : 0 == 0\n",
      "Is_new_listing : 0 == 0\n",
      "Neighborhood : amsterdam centrum == amsterdam centrum\n",
      "Lat : 52.3643 == 52.3643\n",
      "Lng : 4.8886699999999985 == 4.8886699999999985\n",
      "Picture_url : https://a0.muscache.com/im/pictures/a182b23c-ae21-40cb-a5b0-db79b7b1bb23.jpg?aki_policy=large == https://a0.muscache.com/im/pictures/641eb7a4-0d6d-45fb-9219-b02f1fb739ca.jpg?aki_policy=large\n",
      "reviews_count : 1.0 == 2.0\n",
      "Room_type_category : entire_home == entire_home\n",
      "Room_type : gehele woning appartement == gehele woning appartement\n",
      "Space_type : geheel appartement == geheel appartement\n",
      "booking_count : 3.0 == 3.0\n",
      "host_listings_count_hist : 9.0 == 9.0\n",
      "kpi_capacity_more_than_4 : -1.0 == 0.0\n",
      "kpi_capacity_more_than_6 : 0.0 == 0.0\n",
      "kpi_instant_bookable : 0.0 == 0.0\n",
      "kpi_host_lists_multiple : -1.0 == -1.0\n",
      "kpi_host_lists_10_or_more : 0.0 == 0.0\n",
      "days_active : 3099.0 == 3099.0\n",
      "host_start_year : 2013.0 == 2013.0\n",
      "host_start_month : 2013-07 == 2013-07\n",
      "reviews_year : 0.0 == 2.0\n",
      "reviews_6_months : 0.0 == 2.0\n",
      "reviews_3_months : 0.0 == 1.0\n",
      "reviews_1_month : 0.0 == 0.0\n",
      "rating_avg : 5.0 == 5.0\n",
      "bad_ratings_count : 0.0 == 0.0\n",
      "year_total_available : 848.0 == 929.0\n",
      "2021-08_available_days : 9.0 == 4.0\n",
      "2021-09_available_days : 60.0 == 49.0\n",
      "2021-10_available_days : 106.0 == 95.0\n",
      "2021-11_available_days : 137.0 == 109.0\n",
      "2021-12_available_days : 76.0 == 166.0\n",
      "2022-02_available_days : 168.0 == 168.0\n",
      "2022-03_available_days : 130.0 == 155.0\n",
      "2022-04_available_days : nan == nan\n",
      "2022-05_available_days : nan == nan\n",
      "first_bookable_date : 23-8-2021 == 7-11-2021\n",
      "host_popularity_score_percentage : 25.0 == 25.0\n",
      "host_reviews_per_listing : 0.0 == 0.0\n",
      "host_reviews_per_year : 0.0 == 0.0\n",
      "listing_url : https://www.airbnb.nl/rooms/25463991 == https://www.airbnb.nl/rooms/25336232\n",
      "last_found_date : nan == nan\n",
      "Picture_count : 24.0 == 20.0\n",
      "Host_has_profile_pic : 1.0 == 1.0\n",
      "Host_is_superhost : 0.0 == 0.0\n",
      "Property_type_id : 1.0 == 1.0\n",
      "Reviews_count : 1.0 == 2.0\n",
      "Star_rating : nan == nan\n",
      "Xl_picture_url : https://a0.muscache.com/im/pictures/a182b23c-ae21-40cb-a5b0-db79b7b1bb23.jpg?aki_policy=x_large == https://a0.muscache.com/im/pictures/641eb7a4-0d6d-45fb-9219-b02f1fb739ca.jpg?aki_policy=x_large\n",
      "Picture_url1 : https://a0.muscache.com/im/pictures/5a08df6a-196b-4d1d-9ccf-17de9ac67c11.jpg?aki_policy=large == https://a0.muscache.com/im/pictures/07642c84-d8df-4d54-bcdf-09fe3f5a4b3a.jpg?aki_policy=large\n",
      "Picture_url2 : https://a0.muscache.com/im/pictures/355c4889-ff62-4196-a252-2a30aed5cf6b.jpg?aki_policy=large == https://a0.muscache.com/im/pictures/7241e936-3fe4-4e11-8b33-e2ef42f33ce8.jpg?aki_policy=large\n",
      "Picture_url3 : https://a0.muscache.com/im/pictures/418478c8-ff6a-4d18-899e-00eedffbe746.jpg?aki_policy=large == https://a0.muscache.com/im/pictures/f5f168ba-5d36-4d80-b2b6-41cdfdd101ba.jpg?aki_policy=large\n",
      "Picture_url4 : https://a0.muscache.com/im/pictures/98c0cb57-f8ff-4e32-9e5a-aecfa379cdb2.jpg?aki_policy=large == https://a0.muscache.com/im/pictures/a1400681-e1a4-4667-8d06-c56cee7ff35a.jpg?aki_policy=large\n",
      "Picture_url5 : https://a0.muscache.com/im/pictures/875f309e-61b8-4d70-b87a-19ad4754e385.jpg?aki_policy=large == https://a0.muscache.com/im/pictures/a502e367-9d53-4a08-9b2d-d2941d2a4e21.jpg?aki_policy=large\n",
      "Picture_url6 : https://a0.muscache.com/im/pictures/fe60c411-0d6c-4b5f-9d0f-33c74026ab3b.jpg?aki_policy=large == https://a0.muscache.com/im/pictures/8eaea233-f595-468a-bf94-c686e3ce3f56.jpg?aki_policy=large\n",
      "Description : hulpdieren mogen mee en hoeven niet als huisdier te worden toegevoegd      spiegelkwartier het spiegelkwartier is de kunst  en antiekwijk in amsterdam hier vindt u meer dan  antiekhandelaren en kunstgaleries  samen met een prachtig scala aan mooie historische objecten  klassieke en hedendaagse kunst en exotische volkskunst  u vindt ook restaurants  informele eetgelegenheden en gezellige cafés op bijna elke hoek het spiegelkwartier ligt tussen de herengracht en het rijksmuseum www spiegelkwartier nl museumkwartier in het museumkwartier amsterdam vind je de drie belangrijkste musea van nederland  het rijksmuseum  het stedelijk museum en het van gogh museum het herbergt ook het majestueuze concertgebouw en een aantal prachtige cafés en restaurants  het museumplein heeft een groot grasveld en biedt voldoende ruimte om te picknicken of te ontspannen  het museumkwartier heeft zelfs een eigen overdekt zwembad  en een bezoekje is niet compleet zonder te poseren met of op het gigantische iamsterdam teken www museumquarter commodewijk amsterdamin de elegante p c  hooftstraat en van baerlestraat vind je veel van de meest exclusieve mode   sieraden  en andere luxe merken ter wereld  de  meter lange p c  hooftstraat staat in de top tien van de chicste winkelstraten ter wereld www pchooftstraat nl amsterdamse grachtengordelamsterdam heeft in totaal  grachten en  uggen de amsterdamse grachtengordel uit de e eeuw is een halfronde grachtengordel  ook wel de grachtengordel genoemd de herengracht is de meest elegante van de drie belangrijkste grachten in het centrum van amsterdam het meest modieuze deel wordt de gouden bocht genoemd  met veel dubbele ede herenhuizen  binnentuinen en koetshuizen aan de keizersgracht de keizersgracht is de eedste van de drie grote grachten in het centrum van amsterdam  het is vernoemd naar maximiliaan i  keizer van het heilige roomse rijk de prinsengracht is de langste van de belangrijkste grachten van amsterdam  de meeste grachtenpanden langs de gracht werden gebouwd tijdens de gouden eeuw van de verenigde provincies in  staat de amsterdamse grachtengordel op de unesco werelderfgoedlijst www amsterdamcanaldistrict nl spiegelkwartier het spiegelkwartier is de kunst  en antiekwijk in amsterdam hier vindt u meer dan  antiekhandelaren en kunstgaleries  samen met een prachtig scala aan mooie historische objecten  klassieke en hedendaagse kunst en exotische volkskunst  u vindt ook restaurants  informele eetgelegenheden en gezellige cafés op bijna elke hoek het spiegelkwartier ligt tussen de herengracht en het rijksmuseum www spiegelkwartier nl museumkwartier in het museumkwartier amsterdam vind je de drie belangrijkste musea van nederland  het rijksmuseum  het stedelijk museum en het van gogh museum het herbergt ook het majestueuze concertgebouw en een aantal prachtige cafés en restaurants  het museumplein heeft een groot grasveld en biedt voldoende ruimte om te picknicken of te ontspannen  het museumkwartier heeft zelfs een eigen overdekt zwembad  en een bezoekje is niet compleet zonder te poseren met of op het gigantische iamsterdam teken www museumquarter commodewijk amsterdamin de elegante p c  hooftstraat en van baerlestraat vind je veel van de meest exclusieve mode   sieraden  en andere luxe merken ter wereld  de  meter lange p c  hooftstraat staat in de top tien van de chicste winkelstraten ter wereld www pchooftstraat nl amsterdamse grachtengordelamsterdam heeft in totaal  grachten en  uggen de amsterdamse grachtengordel uit de e eeuw is een halfronde grachtengordel  ook wel de grachtengordel genoemd de herengracht is de meest elegante van de drie belangrijkste grachten in het centrum van amsterdam het meest modieuze deel wordt de gouden bocht genoemd  met veel dubbele ede herenhuizen  binnentuinen en koetshuizen aan de keizersgracht de keizersgracht is de eedste van de drie grote grachten in het centrum van amsterdam  het is vernoemd naar maximiliaan i  keizer van het heilige roomse rijk de prinsengracht is de langste van de belangrijkste grachten van amsterdam  de meeste grachtenpanden langs de gracht werden gebouwd tijdens de gouden eeuw van de verenigde provincies in  staat de amsterdamse grachtengordel op de unesco werelderfgoedlijst www amsterdamcanaldistrict nl hoe bereikt u het karel appel appartement bij dutch masters amsterdam luxury apartments transferdutch masters amsterdam biedt speciale tarieven  vaste prijs  voor privé transfers van en naar amsterdam airport schiphol van jongsma taxi services   personen      enkelereis    personen      enkele reis neem voor reserveringen contact op met het dutch masters  team voor meer informatie per e mail naar info dutch masters com met het openbaar vervoer   neem de trein van amsterdam airport schiphol naar amsterdam centraal station   vanaf amsterdam centraal station neemt u tram    of    stap uit bij halte   keizersgracht leidsestraat    sla linksaf op de keizersgracht en loop  meter tot nummer    minuten  voor meer informatie over het amsterdams openbaar vervoer kopieer en plak je de volgende url in de adresbalk van je webowser  http   maps gvb nl en  het karel appel appartement is gelegen in het dutch masters amsterdam luxury apartments gebouw  hoewel er geen receptie is  is het nederlands masters team   beschikbaar voor elke calamiteit  als je hulp nodig hebt bij het plannen van leuke activiteiten  kun je van maandag tot en met vrijdag van   tot   uur langs het kantoor van dutch masters aan de keizersgracht   we helpen je graag   f fad  f  f fad  f de titel van deze accommodatie is automatisch vertaald loggingdata  == spiegelkwartierhet spiegelkwartier is de kunst  en antiekwijk van amsterdam hier vind je meer dan  antiekhandelaren en kunstgaleries  die samen een schitterend aanbod van prachtige historische objecten  klassieke en hedendaagse kunst en exotische volkskunst bieden  op bijna elke hoek vindt u ook restaurants  informele eetgelegenheden en gezellige cafés het spiegelkwartier ligt tussen de herengracht en het rijksmuseum www spiegelkwartier nl museumkwartierin de amsterdam museumkwartier bevinden zich de drie belangrijkste musea van nederland  het rijksmuseum  het stedelijk museum en het van gogh museum het herbergt ook het majestueuze concertgebouw en een aantal uitstekende cafés en restaurants  met zijn grote grasrijke open ruimte biedt het museumplein volop ruimte om te picknicken of lekker te ontspannen  het museumkwartier heeft zelfs een eigen overdekt zwembad  en een bezoekje is niet compleet zonder te poseren met of op het reusachtige bordje van iamsterdam www museumquarter comfashion district amsterdamin de elegante p c  hooftstraat en van baerlestraat vindt u veel van de meest exclusieve mode   sieraden  en andere luxemerken ter wereld  de  meter lange p c  hooftstraat staat in de top tien van de meest chique winkelstraten ter wereld www pchooftstraat nl amsterdamse grachtengordelamsterdam heeft in totaal  grachten en  uggen de e eeuwse amsterdamse grachtengordel is een halfronde ring van grachten  ook wel de grachtengordel genoemd de herengracht is de meest elegante van de drie grote grachten in het centrum van amsterdam het meest modieuze deel heet de gouden bocht  met veel dubbele ede herenhuizen  binnentuinen en koetshuizen aan de keizersgracht de keizersgracht is de eedste van de drie grote grachten in het centrum van amsterdam  het is vernoemd naar maximiliaan i  keizer van het heilige roomse rijk de prinsengracht is de langste van de belangrijkste grachten van amsterdam  de meeste grachtenpanden langs het kanaal zijn gebouwd tijdens de gouden eeuw van de verenigde provinciën in  is de amsterdamse grachtengordel op de werelderfgoedlijst van unesco geplaatst www amsterdamcanaldistrict nl hoe bereik je het frans hals appartement bij dutch masters amsterdam luxury apartments transferdutch masters amsterdam biedt speciale tarieven  vaste prijs  voor privétransfers van en naar amsterdam airport schiphol van jongsma taxi services   personen      enkele reis   personen      enkele reis neem voor reserveringen contact op met het dutch masters  team voor meer informatie per e mail naar info dutch masters com met het openbaar vervoer   neem de trein vanaf amsterdam airport schiphol naar amsterdam centraal station   vanaf het amsterdam centraal station neemt u tram    of    uitstappen bij de vijfde halte  keizersgracht leidsestraat    sla linksaf de keizersgracht op en loop  meter tot nummer    minuten  voor meer informatie over het amsterdams openbaar vervoer kopieer en plak je de volgende url in de adresbalk van je webowser  http   maps gvb nl en  het frans hals appartement bevindt zich in het gebouw dutch masters amsterdam luxury apartments  hoewel er geen receptie aanwezig is  is het nederlands meesters team   beschikbaar voor elke calamiteit  als je gewoon wat hulp nodig hebt bij het plannen van leuke activiteiten kun je van maandag t m vrijdag tussen   en   uur langskomen bij het dutch masters kantoor aan de keizersgracht   waar we je graag helpen  de modern ingerichte  een slaapkamer  frans hals appartement heeft een uitzicht op de tuin  het frans hals appartement ligt aan de prachtige keizersgracht  in het centrum van amsterdam  het ligt in de buurt van de belangrijkste bezienswaardigheden  zoals het rijksmuseum en nog veel meer  hier vandaan kun je gemakkelijk naar het rai congrescentrum  f c d c de modern ingerichte  een slaapkamer  frans hals appartement heeft een uitzicht op de tuin  het frans hals appartement ligt aan de prachtige keizersgracht  in het centrum van amsterdam  het ligt in de buurt van de belangrijkste bezienswaardigheden  zoals het rijksmuseum en nog veel meer  hier vandaan kun je gemakkelijk naar het rai congrescentrum  f c d c de titel van deze accommodatie is automatisch vertaald loggingdata de modern ingerichte  een slaapkamer  frans hals appartement heeft een uitzicht op de tuin  het frans hals appartement ligt aan de prachtige keizersgracht  in het centrum van amsterdam  het ligt in de buurt van de belangrijkste bezienswaardigheden  zoals het rijksmuseum en nog veel meer  hier vandaan kun je gemakkelijk naar het rai congrescentrum  hulpdieren mogen mee en hoeven niet als huisdier te worden toegevoegd      de modern ingerichte  een slaapkamer  frans hals appartement heeft een uitzicht op de tuin  het frans hals appartement ligt aan de prachtige keizersgracht  in het centrum van amsterdam  het ligt in de buurt van de belangrijkste bezienswaardigheden  zoals het rijksmuseum en nog veel meer  hier vandaan kun je gemakkelijk naar het rai congrescentrum  \n"
     ]
    },
    {
     "name": "stdout",
     "output_type": "stream",
     "text": [
      "0\n",
      "Saved!\n",
      "Use 1 if the urls are od the same property, 0 if not, 3 for a full description, 2 for ambiguous\n",
      "https://www.tripadvisor.nl/VacationRentalReview-g188590-d13323008-NDSM_Apartment_11-Amsterdam_North_Holland_Province.html\n",
      "https://www.tripadvisor.nl/VacationRentalReview-g188590-d12845162-NDSM_Apartment_9-Amsterdam_North_Holland_Province.html\n",
      "1\n",
      "Saved!\n",
      "Use 1 if the urls are od the same property, 0 if not, 3 for a full description, 2 for ambiguous\n",
      "https://www.airbnb.nl/rooms/48127669\n",
      "https://www.airbnb.nl/rooms/48127625\n",
      "0\n",
      "Saved!\n",
      "Use 1 if the urls are od the same property, 0 if not, 3 for a full description, 2 for ambiguous\n",
      "https://www.vrbo.com/nl-nl/vakantiewoning/p8860335?noDates=true\n",
      "https://www.booking.com/hotel/nl/the-harlemstreet-suites-amsterdam.en-gb.html\n",
      "0\n",
      "Saved!\n",
      "Use 1 if the urls are od the same property, 0 if not, 3 for a full description, 2 for ambiguous\n",
      "https://www.airbnb.nl/rooms/45646002\n",
      "https://www.expedia.nl/Nederland.h2540525.Hotelinfo\n",
      "0\n",
      "Saved!\n",
      "Use 1 if the urls are od the same property, 0 if not, 3 for a full description, 2 for ambiguous\n",
      "https://www.airbnb.nl/rooms/40462091\n",
      "https://www.airbnb.nl/rooms/40461499\n",
      "0\n",
      "Saved!\n"
     ]
    }
   ],
   "source": [
    "df_clean_1 = df_clean.drop(['Host_picture_url','LaBSE_emb', 'Lat_Lng','Host_thumbnail_url'],axis=1)\n",
    "labels = []\n",
    "\n",
    "#Labeling loop\n",
    "for id_1,id_2 in sample_top:\n",
    "    url_1 =[x for x in df_clean_1['listing_url'][df_clean_1['ListingId'] == id_1]]\n",
    "    url_2 =[x for x in df_clean_1['listing_url'][df_clean_1['ListingId'] == id_2]]\n",
    "    print(\"Use 1 if the urls are od the same property, 0 if not, 3 for a full description, 2 for ambiguous\")\n",
    "    print(url_1[0])\n",
    "    print(url_2[0])\n",
    "    label = int(input())\n",
    "    if label <= 2:\n",
    "        labels.append(((id_1,id_2),label))\n",
    "        print('Saved!')\n",
    "    else:\n",
    "        lista = [print(x,':',y,'==',z) for x,y,z in zip(df_clean_1.columns.tolist(),\n",
    "                                                        df_clean_1[df_clean_1['ListingId'] == id_1].values.tolist()[0],\n",
    "                                                        df_clean_1[df_clean_1['ListingId'] == id_2].values.tolist()[0])]\n",
    "        label = int(input())\n",
    "        labels.append(((id_1,id_2),label))\n",
    "        print('Saved!')\n",
    "\n",
    "#Labeling loop\n",
    "for id_1,id_2 in sample_bottom:\n",
    "    url_1 =[x for x in df_clean_1['listing_url'][df_clean_1['ListingId'] == id_1]]\n",
    "    url_2 =[x for x in df_clean_1['listing_url'][df_clean_1['ListingId'] == id_2]]\n",
    "    print(\"Use 1 if the urls are od the same property, 0 if not, 3 for a full description, 2 for ambiguous\")\n",
    "    print(url_1[0])\n",
    "    print(url_2[0])\n",
    "    label = int(input())\n",
    "    if label <= 2:\n",
    "        labels.append(((id_1,id_2),label))\n",
    "        print('Saved!')\n",
    "    else:\n",
    "        lista = [print(x,':',y,'==',z) for x,y,z in zip(df_clean_1.columns.tolist(),\n",
    "                                                        df_clean_1[df_clean_1['ListingId'] == id_1].values.tolist()[0],\n",
    "                                                        df_clean_1[df_clean_1['ListingId'] == id_2].values.tolist()[0])]\n",
    "        label = int(input())\n",
    "        labels.append(((id_1,id_2),label))\n",
    "        print('Saved!')\n"
   ]
  },
  {
   "cell_type": "code",
   "execution_count": 16,
   "metadata": {},
   "outputs": [
    {
     "name": "stdout",
     "output_type": "stream",
     "text": [
      "\n"
     ]
    }
   ],
   "source": [
    "# Saving labels as pickle\n",
    "file_name = \"labels.pkl\"\n",
    "open_file = open(file_name, \"wb\")\n",
    "pickle.dump(labels, open_file)\n",
    "open_file.close()\n"
   ]
  },
  {
   "cell_type": "code",
   "execution_count": null,
   "metadata": {},
   "outputs": [],
   "source": []
  },
  {
   "cell_type": "code",
   "execution_count": null,
   "metadata": {},
   "outputs": [],
   "source": []
  },
  {
   "cell_type": "code",
   "execution_count": null,
   "metadata": {},
   "outputs": [],
   "source": []
  },
  {
   "cell_type": "code",
   "execution_count": null,
   "metadata": {},
   "outputs": [],
   "source": []
  }
 ],
 "metadata": {
  "interpreter": {
   "hash": "88a2f7f577888eb2710e0d5d9756c4025ff3188af31a1b3845b611b72892981c"
  },
  "kernelspec": {
   "display_name": "Python 3",
   "language": "python",
   "name": "python3"
  },
  "language_info": {
   "codemirror_mode": {
    "name": "ipython",
    "version": 3
   },
   "file_extension": ".py",
   "mimetype": "text/x-python",
   "name": "python",
   "nbconvert_exporter": "python",
   "pygments_lexer": "ipython3",
   "version": "3.8.5"
  }
 },
 "nbformat": 4,
 "nbformat_minor": 2
}
