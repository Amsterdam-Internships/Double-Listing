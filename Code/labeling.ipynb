{
 "cells": [
  {
   "cell_type": "code",
   "execution_count": 18,
   "metadata": {},
   "outputs": [],
   "source": [
    "#!pip install recordlinkage==0.14\n",
    "import recordlinkage\n",
    "import pandas as pd\n",
    "import recordlinkage as rl \n",
    "from recordlinkage.index import Block\n",
    "from recordlinkage.algorithms.distance import _haversine_distance\n",
    "from recordlinkage.algorithms.numeric import _linear_sim\n",
    "import random"
   ]
  },
  {
   "cell_type": "code",
   "execution_count": 3,
   "metadata": {},
   "outputs": [],
   "source": [
    "#Reading Data\n",
    "df_clean = pd.read_csv(r'C:\\Users\\Invitado\\Documents\\Python\\DS_MASTER\\City_Adam_Intern\\df_red.csv')\n",
    "\n",
    "#There was a duplicated entry in ListingId so delete\n",
    "df_clean[df_clean.duplicated(subset=['ListingId']) == True]\n",
    "df_clean.drop(132,axis=0,inplace=True)\n",
    "df_clean[df_clean['ListingId']==10217568]\n",
    "\n",
    "\n",
    "#To have tuples with LitingsId as index ,useful for later processing\n",
    "df_tuple = df_clean.set_index('ListingId')"
   ]
  },
  {
   "cell_type": "code",
   "execution_count": 4,
   "metadata": {},
   "outputs": [],
   "source": [
    "# To compare Harversine we need lat and ln in a tuple\n",
    "df_clean['Lat_Lng'] =list(zip(df_clean.Lat, df_clean.Lng))"
   ]
  },
  {
   "cell_type": "code",
   "execution_count": 5,
   "metadata": {},
   "outputs": [
    {
     "name": "stdout",
     "output_type": "stream",
     "text": [
      "Candidate links: 3470454\n"
     ]
    }
   ],
   "source": [
    "#Blocking of data , feature Neighborhood\n",
    "indexer = rl.BlockIndex(on='Neighborhood')\n",
    "candidate_links = indexer.index(df_tuple)\n",
    "\n",
    "print ('Candidate links:',len(candidate_links))"
   ]
  },
  {
   "cell_type": "code",
   "execution_count": 6,
   "metadata": {},
   "outputs": [
    {
     "data": {
      "text/html": [
       "<div>\n",
       "<style scoped>\n",
       "    .dataframe tbody tr th:only-of-type {\n",
       "        vertical-align: middle;\n",
       "    }\n",
       "\n",
       "    .dataframe tbody tr th {\n",
       "        vertical-align: top;\n",
       "    }\n",
       "\n",
       "    .dataframe thead th {\n",
       "        text-align: right;\n",
       "    }\n",
       "</style>\n",
       "<table border=\"1\" class=\"dataframe\">\n",
       "  <thead>\n",
       "    <tr style=\"text-align: right;\">\n",
       "      <th></th>\n",
       "      <th></th>\n",
       "      <th>Neighborhood</th>\n",
       "      <th>Distance</th>\n",
       "    </tr>\n",
       "    <tr>\n",
       "      <th>ListingId_1</th>\n",
       "      <th>ListingId_2</th>\n",
       "      <th></th>\n",
       "      <th></th>\n",
       "    </tr>\n",
       "  </thead>\n",
       "  <tbody>\n",
       "    <tr>\n",
       "      <th>10025641</th>\n",
       "      <th>10008030</th>\n",
       "      <td>1</td>\n",
       "      <td>0.000000</td>\n",
       "    </tr>\n",
       "    <tr>\n",
       "      <th rowspan=\"2\" valign=\"top\">10027284</th>\n",
       "      <th>10008030</th>\n",
       "      <td>1</td>\n",
       "      <td>0.331520</td>\n",
       "    </tr>\n",
       "    <tr>\n",
       "      <th>10025641</th>\n",
       "      <td>1</td>\n",
       "      <td>0.000000</td>\n",
       "    </tr>\n",
       "    <tr>\n",
       "      <th rowspan=\"2\" valign=\"top\">10043980</th>\n",
       "      <th>10008030</th>\n",
       "      <td>1</td>\n",
       "      <td>0.000000</td>\n",
       "    </tr>\n",
       "    <tr>\n",
       "      <th>10025641</th>\n",
       "      <td>1</td>\n",
       "      <td>0.972364</td>\n",
       "    </tr>\n",
       "    <tr>\n",
       "      <th>...</th>\n",
       "      <th>...</th>\n",
       "      <td>...</td>\n",
       "      <td>...</td>\n",
       "    </tr>\n",
       "    <tr>\n",
       "      <th>42112141</th>\n",
       "      <th>39267402</th>\n",
       "      <td>1</td>\n",
       "      <td>0.000000</td>\n",
       "    </tr>\n",
       "    <tr>\n",
       "      <th rowspan=\"3\" valign=\"top\">49161472</th>\n",
       "      <th>30077792</th>\n",
       "      <td>1</td>\n",
       "      <td>0.000000</td>\n",
       "    </tr>\n",
       "    <tr>\n",
       "      <th>39267402</th>\n",
       "      <td>1</td>\n",
       "      <td>0.000000</td>\n",
       "    </tr>\n",
       "    <tr>\n",
       "      <th>42112141</th>\n",
       "      <td>1</td>\n",
       "      <td>0.000000</td>\n",
       "    </tr>\n",
       "    <tr>\n",
       "      <th>40629039</th>\n",
       "      <th>3292084</th>\n",
       "      <td>1</td>\n",
       "      <td>0.000000</td>\n",
       "    </tr>\n",
       "  </tbody>\n",
       "</table>\n",
       "<p>3470454 rows × 2 columns</p>\n",
       "</div>"
      ],
      "text/plain": [
       "                         Neighborhood  Distance\n",
       "ListingId_1 ListingId_2                        \n",
       "10025641    10008030                1  0.000000\n",
       "10027284    10008030                1  0.331520\n",
       "            10025641                1  0.000000\n",
       "10043980    10008030                1  0.000000\n",
       "            10025641                1  0.972364\n",
       "...                               ...       ...\n",
       "42112141    39267402                1  0.000000\n",
       "49161472    30077792                1  0.000000\n",
       "            39267402                1  0.000000\n",
       "            42112141                1  0.000000\n",
       "40629039    3292084                 1  0.000000\n",
       "\n",
       "[3470454 rows x 2 columns]"
      ]
     },
     "execution_count": 6,
     "metadata": {},
     "output_type": "execute_result"
    }
   ],
   "source": [
    "#Further blocking include longitude and latitude\n",
    "compare_cl = rl.Compare()\n",
    "\n",
    "compare_cl.exact('Neighborhood','Neighborhood', label='Neighborhood')\n",
    "compare_cl.geo('Lat','Lng','Lat','Lng',method='linear',label='Distance')\n",
    "\n",
    "features = compare_cl.compute(candidate_links, df_tuple)\n",
    "features"
   ]
  },
  {
   "cell_type": "code",
   "execution_count": 7,
   "metadata": {},
   "outputs": [
    {
     "data": {
      "text/plain": [
       "44337"
      ]
     },
     "execution_count": 7,
     "metadata": {},
     "output_type": "execute_result"
    }
   ],
   "source": [
    "#Select possible matches\n",
    "matches_blocking = features[features['Distance'] > 0.925] # Threshold used accordig to bnb aprox distance\n",
    "len(matches_blocking)"
   ]
  },
  {
   "cell_type": "code",
   "execution_count": 19,
   "metadata": {},
   "outputs": [],
   "source": [
    "#Stratified sampling according to literaure, top 100 most similar , bottom 100 \n",
    "matches_blocking = matches_blocking.sort_values(by=['Distance'])\n",
    "top100_matches_blocking = matches_blocking.iloc[-100:]\n",
    "bottom100_matches_blocking = matches_blocking.iloc[:100]\n",
    "\n",
    "#list with all the possible matching pairs 150k\n",
    "top_pairs =list(top100_matches_blocking.index) \n",
    "bottom_pairs =list(bottom100_matches_blocking.index) "
   ]
  },
  {
   "cell_type": "code",
   "execution_count": 23,
   "metadata": {},
   "outputs": [],
   "source": [
    "#Sampling\n",
    "sample_top = random.sample(top_pairs,3)\n",
    "sample_bottom = random.sample(bottom_pairs,3)"
   ]
  },
  {
   "cell_type": "code",
   "execution_count": 29,
   "metadata": {},
   "outputs": [
    {
     "name": "stdout",
     "output_type": "stream",
     "text": [
      "Are this url's from the same listing?\n",
      "https://www.vrbo.com/nl-nl/vakantiewoning/p8772061?noDates=true\n",
      "https://www.vrbo.com/nl-nl/vakantiewoning/p8772056?noDates=true\n",
      "Saved!\n",
      "Are this url's from the same listing?\n",
      "https://www.airbnb.nl/rooms/13092978\n",
      "https://www.airbnb.nl/rooms/12451293\n",
      "Saved!\n",
      "Are this url's from the same listing?\n",
      "https://www.airbnb.nl/rooms/48127657\n",
      "https://www.airbnb.nl/rooms/48127644\n",
      "Saved!\n",
      "Are this url's from the same listing?\n",
      "https://www.vrbo.com/nl-nl/vakantiewoning/p364081vb?noDates=true\n",
      "https://www.airbnb.nl/rooms/24296667\n",
      "Saved!\n",
      "Are this url's from the same listing?\n",
      "https://www.airbnb.nl/rooms/9308904\n",
      "https://www.airbnb.nl/rooms/53655681\n",
      "Saved!\n",
      "Are this url's from the same listing?\n",
      "https://www.airbnb.nl/rooms/46561482\n",
      "https://www.airbnb.nl/rooms/22055478\n",
      "Saved!\n"
     ]
    }
   ],
   "source": [
    "labels = []\n",
    "\n",
    "for id_1,id_2 in sample_top:\n",
    "    url_1 =[x for x in df_clean['listing_url'][df_clean['ListingId'] == id_1]]\n",
    "    url_2 =[x for x in df_clean['listing_url'][df_clean['ListingId'] == id_2]]\n",
    "    print(\"Are this url's from the same listing?\")\n",
    "    print(url_1[0])\n",
    "    print(url_2[0])\n",
    "    label = int(input())\n",
    "    labels.append(((id_1,id_2),label))\n",
    "    print('Saved!')\n",
    "for id_1,id_2 in sample_bottom:\n",
    "    url_1 =[x for x in df_clean['listing_url'][df_clean['ListingId'] == id_1]]\n",
    "    url_2 =[x for x in df_clean['listing_url'][df_clean['ListingId'] == id_2]]\n",
    "    print(\"Are this url's from the same listing?\")\n",
    "    print(url_1[0])\n",
    "    print(url_2[0])\n",
    "    label = int(input())\n",
    "    labels.append(((id_1,id_2),label))\n",
    "    print('Saved!')\n"
   ]
  },
  {
   "cell_type": "code",
   "execution_count": 53,
   "metadata": {},
   "outputs": [
    {
     "data": {
      "text/plain": [
       "[((8772061, 8772056), 1),\n",
       " ((13092978, 12451293), 1),\n",
       " ((48127657, 48127644), 0),\n",
       " ((364081, 24296667), 0),\n",
       " ((9308904, 53655681), 0),\n",
       " ((46561482, 22055478), 0)]"
      ]
     },
     "execution_count": 53,
     "metadata": {},
     "output_type": "execute_result"
    }
   ],
   "source": [
    "labels"
   ]
  },
  {
   "cell_type": "code",
   "execution_count": null,
   "metadata": {},
   "outputs": [],
   "source": []
  },
  {
   "cell_type": "code",
   "execution_count": null,
   "metadata": {},
   "outputs": [],
   "source": []
  },
  {
   "cell_type": "code",
   "execution_count": null,
   "metadata": {},
   "outputs": [],
   "source": []
  }
 ],
 "metadata": {
  "interpreter": {
   "hash": "88a2f7f577888eb2710e0d5d9756c4025ff3188af31a1b3845b611b72892981c"
  },
  "kernelspec": {
   "display_name": "Python 3.8.5 ('base')",
   "language": "python",
   "name": "python3"
  },
  "language_info": {
   "codemirror_mode": {
    "name": "ipython",
    "version": 3
   },
   "file_extension": ".py",
   "mimetype": "text/x-python",
   "name": "python",
   "nbconvert_exporter": "python",
   "pygments_lexer": "ipython3",
   "version": "3.8.5"
  },
  "orig_nbformat": 4
 },
 "nbformat": 4,
 "nbformat_minor": 2
}
