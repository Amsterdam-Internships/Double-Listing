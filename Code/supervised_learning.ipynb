{
 "cells": [
  {
   "cell_type": "code",
   "execution_count": null,
   "metadata": {},
   "outputs": [],
   "source": [
    "import numpy as np\n",
    "import pandas as pd\n",
    "import pickle\n",
    "\n",
    "\n",
    "from modAL.models import ActiveLearner\n",
    "from modAL.uncertainty import uncertainty_sampling\n",
    "#from modAL.models import Committee\n",
    "#from modAL.disagreement import vote_entropy_sampling\n",
    "\n",
    "from sklearn.ensemble import RandomForestClassifier\n",
    "from sklearn.ensemble import RandomForestClassifier, GradientBoostingClassifier\n",
    "from sklearn.linear_model import LogisticRegression\n",
    "import sklearn.linear_model\n",
    "from sklearn.tree import DecisionTreeClassifier\n",
    "from sklearn.neighbors import KNeighborsClassifier\n",
    "from sklearn.svm import SVC\n",
    "from sklearn.metrics import precision_recall_fscore_support\n",
    "import xgboost as xgb\n",
    "from sklearn.model_selection import GridSearchCV\n",
    "\n",
    "import recordlinkage as rl\n",
    "\n",
    "from active_learn import*\n",
    "from thresholding import*\n",
    "\n",
    "from IPython import display\n",
    "from matplotlib import pyplot as plt\n",
    "%matplotlib inline\n",
    "\n",
    "import warnings\n",
    "warnings.filterwarnings(\"ignore\")\n",
    "from importlib import reload\n",
    "#reload(spam)"
   ]
  },
  {
   "cell_type": "code",
   "execution_count": null,
   "metadata": {},
   "outputs": [],
   "source": [
    "#df_uns = pd.read_csv(r'C:\\Users\\Invitado\\Documents\\Python\\DS_MASTER\\City_Adam_Intern\\df_uns_label_img_1.csv')\n",
    "df_uns_red =pd.read_csv(r'C:\\Users\\Invitado\\Documents\\Python\\DS_MASTER\\City_Adam_Intern\\df_uns_label_img_red_hot.csv')\n",
    "\n",
    "df_full = pd.read_csv(r'C:\\Users\\Invitado\\Documents\\Python\\DS_MASTER\\City_Adam_Intern\\merged_clean_df.csv')\n",
    "df_full.drop('Unnamed: 0',axis=1,inplace=True)\n",
    "\n",
    "#Manually annotated data\n",
    "test_1 = rl.read_annotation_file(r'C:\\Users\\Invitado\\Documents\\Python\\DS_MASTER\\City_Adam_Intern\\result_bnb_trip.json')\n",
    "test_2 = rl.read_annotation_file(r'C:\\Users\\Invitado\\Documents\\Python\\DS_MASTER\\City_Adam_Intern\\result_bnb_vrb.json')\n",
    "\n",
    "#Baseline with unsupervised\n",
    "df_full_base = pd.read_csv(r'C:\\Users\\Invitado\\Documents\\Python\\DS_MASTER\\City_Adam_Intern\\df_uns_label_base_train.csv')\n",
    "df_full_base['label'] = df_full_base['label'].map(to_bin)\n",
    "\n",
    "# Updated training df\n",
    "#df_ams_train = pd.read_csv(r'C:\\Users\\Invitado\\Documents\\Python\\DS_MASTER\\City_Adam_Intern\\df_ams_train_1.csv')"
   ]
  },
  {
   "cell_type": "code",
   "execution_count": null,
   "metadata": {},
   "outputs": [],
   "source": [
    "# Divide test and training set for baseline \n",
    "df_base_train = df_full_base.loc[:1761] \n",
    "df_base_test = df_full_base.loc[1762:]"
   ]
  },
  {
   "cell_type": "code",
   "execution_count": null,
   "metadata": {},
   "outputs": [],
   "source": [
    "#Baseline models data\n",
    "not_train = ['source_id','target_id','ids', 'agg_score', 'weights','uns_label','label']\n",
    "X_train = df_base_train.drop(not_train, axis=1).values\n",
    "y_train = df_base_train['label'].values\n",
    "X_test = df_base_test.drop(not_train, axis=1).values\n",
    "y_test = df_base_test['label'].values"
   ]
  },
  {
   "cell_type": "code",
   "execution_count": null,
   "metadata": {},
   "outputs": [],
   "source": [
    "#Decision Tress serach for hyperparameters\n",
    "params = {'max_leaf_nodes': list(range(2, 100)),'max_depth' : [None, 3, 5, 10, 15], \n",
    "        'min_samples_leaf' : [3, 5, 10], 'criterion' : ['gini', 'entropy']}\n",
    "\n",
    "grid_search_cv = GridSearchCV(DecisionTreeClassifier(random_state=42), params, verbose=1, cv=3)\n",
    "grid_search_cv.fit(X_train, y_train)\n",
    "#Best parameters\n",
    "print(grid_search_cv.best_params_)\n",
    "#Get the perd metrics of the model \n",
    "y_pred = grid_search_cv.predict(X_test)\n",
    "precision_recall_fscore=precision_recall_fscore_support(y_test,y_pred,average='binary',zero_division=0)\n",
    "print('Precision:',precision_recall_fscore[0],\n",
    "      'Recall:',precision_recall_fscore[1],\n",
    "      'Fscore:',precision_recall_fscore[2])"
   ]
  },
  {
   "cell_type": "code",
   "execution_count": null,
   "metadata": {},
   "outputs": [],
   "source": [
    "# Logistic Reg search for hyperparameters\n",
    "params = {'penalty' :['l1', 'l2'],'fit_intercept' : [True, False],\n",
    "        'solver' :['liblinear', 'saga'],'max_iter' : [50, 100, 150]}\n",
    "\n",
    "grid_search_cv = GridSearchCV(LogisticRegression(random_state=42), params, verbose=1, cv=3)\n",
    "grid_search_cv.fit(X_train, y_train)\n",
    "#Best parameters\n",
    "print(grid_search_cv.best_params_)\n",
    "#Get the perd metrics of the model \n",
    "y_pred = grid_search_cv.predict(X_test)\n",
    "precision_recall_fscore=precision_recall_fscore_support(y_test,y_pred,average='binary',zero_division=0)\n",
    "print('Precision:',precision_recall_fscore[0],\n",
    "      'Recall:',precision_recall_fscore[1],\n",
    "      'Fscore:',precision_recall_fscore[2])"
   ]
  },
  {
   "cell_type": "code",
   "execution_count": null,
   "metadata": {},
   "outputs": [],
   "source": [
    "# SVM search for hyperparameters\n",
    "params = {'kernel':['linear', 'rbf'], 'gamma':[0.1, 1, 5, 10] ,'C' : [0.5, 1, 5, 10]}\n",
    "\n",
    "grid_search_cv = GridSearchCV(SVC(random_state=42), params, verbose=1, cv=3)\n",
    "grid_search_cv.fit(X_train, y_train)\n",
    "#Best parameters\n",
    "print(grid_search_cv.best_params_)\n",
    "#Get the perd metrics of the model \n",
    "y_pred = grid_search_cv.predict(X_test)\n",
    "precision_recall_fscore=precision_recall_fscore_support(y_test,y_pred,average='binary',zero_division=0)\n",
    "print('Precision:',precision_recall_fscore[0],\n",
    "      'Recall:',precision_recall_fscore[1],\n",
    "      'Fscore:',precision_recall_fscore[2])\n"
   ]
  },
  {
   "cell_type": "code",
   "execution_count": null,
   "metadata": {},
   "outputs": [],
   "source": [
    "# XGBoost search for hyperparameters\n",
    "params = {'n_estimators':[100, 150, 200],'learning_rate':[0.05, 0.1, 0.15],'max_depth':[3, 5, 7]}\n",
    "\n",
    "grid_search_cv = GridSearchCV(xgb.XGBClassifier(random_state=42), params, verbose=1, cv=3)\n",
    "grid_search_cv.fit(X_train, y_train)\n",
    "#Best parameters\n",
    "print(grid_search_cv.best_params_)\n",
    "#Get the perd metrics of the model \n",
    "y_pred = grid_search_cv.predict(X_test)\n",
    "precision_recall_fscore=precision_recall_fscore_support(y_test,y_pred,average='binary',zero_division=0)\n",
    "print('Precision:',precision_recall_fscore[0],\n",
    "      'Recall:',precision_recall_fscore[1],\n",
    "      'Fscore:',precision_recall_fscore[2])\n"
   ]
  },
  {
   "cell_type": "code",
   "execution_count": null,
   "metadata": {},
   "outputs": [],
   "source": [
    "# Random Forest search for hyperparameters\n",
    "params = {'n_estimators':[10, 50, 100] ,'max_depth':[None, 3, 5, 10, 15],'min_samples_leaf':[3, 5, 10]}\n",
    "\n",
    "grid_search_cv = GridSearchCV(RandomForestClassifier(random_state=42), params, verbose=1, cv=3)\n",
    "grid_search_cv.fit(X_train, y_train)\n",
    "#Best parameters\n",
    "print(grid_search_cv.best_params_)\n",
    "#Get the perd metrics of the model \n",
    "y_pred = grid_search_cv.predict(X_test)\n",
    "precision_recall_fscore=precision_recall_fscore_support(y_test,y_pred,average='binary',zero_division=0)\n",
    "print('Precision:',precision_recall_fscore[0],\n",
    "      'Recall:',precision_recall_fscore[1],\n",
    "      'Fscore:',precision_recall_fscore[2])"
   ]
  }
 ],
 "metadata": {
  "kernelspec": {
   "display_name": "Python 3",
   "language": "python",
   "name": "python3"
  },
  "language_info": {
   "codemirror_mode": {
    "name": "ipython",
    "version": 3
   },
   "file_extension": ".py",
   "mimetype": "text/x-python",
   "name": "python",
   "nbconvert_exporter": "python",
   "pygments_lexer": "ipython3",
   "version": "3.8.5"
  }
 },
 "nbformat": 4,
 "nbformat_minor": 4
}
