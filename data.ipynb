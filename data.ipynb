{
 "cells": [
  {
   "cell_type": "code",
   "execution_count": 1,
   "metadata": {},
   "outputs": [],
   "source": [
    "import pandas as pd\n",
    "import numpy as np\n",
    "import matplotlib.pyplot as plt\n",
    "import recordlinkage as rl \n",
    "from recordlinkage.index import Block"
   ]
  },
  {
   "cell_type": "code",
   "execution_count": 287,
   "metadata": {},
   "outputs": [],
   "source": [
    "df_frame = pd.read_csv(\"tbl_listing_info_amsterdam_20200104.csv\")\n",
    "df_new = pd.read_csv(\"tbl_listings_research_18_02_2022.csv\")\n",
    "df_extra = pd.read_csv(\"tbl_listing_description_07_03_2022.csv\")"
   ]
  },
  {
   "cell_type": "code",
   "execution_count": 288,
   "metadata": {
    "scrolled": true
   },
   "outputs": [
    {
     "name": "stdout",
     "output_type": "stream",
     "text": [
      "64\n",
      "47\n"
     ]
    }
   ],
   "source": [
    "#print(df_frame.columns)\n",
    "print(len(df_frame.columns))\n",
    "#print(df_new.columns)\n",
    "print(len(df_new.columns))"
   ]
  },
  {
   "cell_type": "code",
   "execution_count": 289,
   "metadata": {},
   "outputs": [
    {
     "name": "stdout",
     "output_type": "stream",
     "text": [
      "<class 'pandas.core.frame.DataFrame'>\n",
      "RangeIndex: 23173 entries, 0 to 23172\n",
      "Data columns (total 64 columns):\n",
      " #   Column                            Non-Null Count  Dtype  \n",
      "---  ------                            --------------  -----  \n",
      " 0   wsa_listing_id                    23173 non-null  int64  \n",
      " 1   customer_name                     23173 non-null  object \n",
      " 2   site                              23173 non-null  object \n",
      " 3   listing_id                        23173 non-null  object \n",
      " 4   registration_number               4600 non-null   object \n",
      " 5   house_name                        21888 non-null  object \n",
      " 6   city                              23173 non-null  object \n",
      " 7   postalcode                        23168 non-null  object \n",
      " 8   bedrooms                          21294 non-null  object \n",
      " 9   bathrooms                         9259 non-null   object \n",
      " 10  beds                              21751 non-null  object \n",
      " 11  person_capacity                   21135 non-null  float64\n",
      " 12  host_name                         20036 non-null  object \n",
      " 13  host_id                           6752 non-null   float64\n",
      " 14  host_picture                      8566 non-null   object \n",
      " 15  instant_bookable                  23173 non-null  int64  \n",
      " 16  is_new_listing                    23173 non-null  int64  \n",
      " 17  region                            23173 non-null  object \n",
      " 18  lat                               21921 non-null  float64\n",
      " 19  lng                               21921 non-null  float64\n",
      " 20  picture_url                       8469 non-null   object \n",
      " 21  reviews_count                     8811 non-null   float64\n",
      " 22  room_type_category                7278 non-null   object \n",
      " 23  room_type                         19921 non-null  object \n",
      " 24  space_type                        7278 non-null   object \n",
      " 25  property_type                     8531 non-null   object \n",
      " 26  booking_count                     6752 non-null   float64\n",
      " 27  host_listings_count_hist          6752 non-null   float64\n",
      " 28  kpi_capacity_more_than_4          7278 non-null   float64\n",
      " 29  kpi_capacity_more_than_6          7278 non-null   float64\n",
      " 30  kpi_instant_bookable              23173 non-null  int64  \n",
      " 31  kpi_host_lists_multiple           6752 non-null   float64\n",
      " 32  kpi_host_lists_10_or_more         6752 non-null   float64\n",
      " 33  days_active                       6752 non-null   object \n",
      " 34  host_start_year                   6752 non-null   float64\n",
      " 35  host_start_month                  6752 non-null   object \n",
      " 36  reviews_year                      15141 non-null  object \n",
      " 37  reviews_6_months                  15141 non-null  object \n",
      " 38  reviews_3_months                  15141 non-null  object \n",
      " 39  reviews_1_month                   15141 non-null  object \n",
      " 40  rating_avg                        15141 non-null  float64\n",
      " 41  bad_ratings_count                 15141 non-null  object \n",
      " 42  year_total_available              16766 non-null  object \n",
      " 43  2021-06_available_days            0 non-null      float64\n",
      " 44  2021-07_available_days            0 non-null      float64\n",
      " 45  2021-08_available_days            15834 non-null  object \n",
      " 46  2021-09_available_days            15848 non-null  object \n",
      " 47  2021-10_available_days            15864 non-null  object \n",
      " 48  2021-11_available_days            15871 non-null  object \n",
      " 49  2021-12_available_days            16734 non-null  object \n",
      " 50  2022-01_available_days            16766 non-null  object \n",
      " 51  2022-02_available_days            16766 non-null  object \n",
      " 52  2022-03_available_days            3828 non-null   object \n",
      " 53  2022-04_available_days            1419 non-null   object \n",
      " 54  2022-05_available_days            1419 non-null   float64\n",
      " 55  first_bookable_date               5542 non-null   object \n",
      " 56  host_popularity_score_percentage  6752 non-null   float64\n",
      " 57  host_reviews_per_listing          6752 non-null   float64\n",
      " 58  host_reviews_per_year             6752 non-null   float64\n",
      " 59  listing_url                       23173 non-null  object \n",
      " 60  first_found_date                  23173 non-null  object \n",
      " 61  last_found_date                   16757 non-null  object \n",
      " 62  listing_published                 23173 non-null  int64  \n",
      " 63  listing_can_book                  23173 non-null  int64  \n",
      "dtypes: float64(19), int64(6), object(39)\n",
      "memory usage: 11.3+ MB\n"
     ]
    }
   ],
   "source": [
    "df_frame.info()"
   ]
  },
  {
   "cell_type": "code",
   "execution_count": 290,
   "metadata": {},
   "outputs": [
    {
     "name": "stdout",
     "output_type": "stream",
     "text": [
      "<class 'pandas.core.frame.DataFrame'>\n",
      "RangeIndex: 5457 entries, 0 to 5456\n",
      "Data columns (total 47 columns):\n",
      " #   Column                    Non-Null Count  Dtype  \n",
      "---  ------                    --------------  -----  \n",
      " 0   Name                      5457 non-null   object \n",
      " 1   ListingId                 5457 non-null   int64  \n",
      " 2   registration_number       4209 non-null   object \n",
      " 3   Bathrooms                 5447 non-null   float64\n",
      " 4   Bedrooms                  5441 non-null   float64\n",
      " 5   Beds                      5414 non-null   float64\n",
      " 6   City                      5452 non-null   object \n",
      " 7   Listing_id_str            5457 non-null   int64  \n",
      " 8   Instant_bookable          5457 non-null   object \n",
      " 9   Is_business_travel_ready  5457 non-null   object \n",
      " 10  Is_family_preferred       5457 non-null   object \n",
      " 11  Is_new_listing            5457 non-null   object \n",
      " 12  Lat                       5457 non-null   float64\n",
      " 13  Lng                       5457 non-null   float64\n",
      " 14  Localized_city            5457 non-null   object \n",
      " 15  Neighborhood              5158 non-null   object \n",
      " 16  Person_capacity           5457 non-null   int64  \n",
      " 17  Picture_url               5457 non-null   object \n",
      " 18  Picture_count             5457 non-null   int64  \n",
      " 19  Host_first_name           5457 non-null   object \n",
      " 20  Host_has_profile_pic      5457 non-null   object \n",
      " 21  Host_id                   5457 non-null   int64  \n",
      " 22  Host_picture_url          5457 non-null   object \n",
      " 23  Host_smart_name           5457 non-null   object \n",
      " 24  Host_thumbnail_url        5457 non-null   object \n",
      " 25  Host_is_superhost         5457 non-null   object \n",
      " 26  Property_type_id          5456 non-null   float64\n",
      " 27  Property_type             5457 non-null   object \n",
      " 28  Public_address            5457 non-null   object \n",
      " 29  Reviews_count             5457 non-null   int64  \n",
      " 30  Room_type_category        5457 non-null   object \n",
      " 31  Room_type                 5457 non-null   object \n",
      " 32  Space_type                5457 non-null   object \n",
      " 33  Star_rating               4562 non-null   float64\n",
      " 34  User_Id                   5457 non-null   int64  \n",
      " 35  User_First_name           5457 non-null   object \n",
      " 36  User_Has_profile_pic      5457 non-null   object \n",
      " 37  User_Smart_name           5457 non-null   object \n",
      " 38  User_Thumbnail_url        5457 non-null   object \n",
      " 39  User_Is_superhost         5457 non-null   object \n",
      " 40  Xl_picture_url            5457 non-null   object \n",
      " 41  Picture_url1              5450 non-null   object \n",
      " 42  Picture_url2              5447 non-null   object \n",
      " 43  Picture_url3              5430 non-null   object \n",
      " 44  Picture_url4              5396 non-null   object \n",
      " 45  Picture_url5              5350 non-null   object \n",
      " 46  Picture_url6              5270 non-null   object \n",
      "dtypes: float64(7), int64(7), object(33)\n",
      "memory usage: 2.0+ MB\n"
     ]
    }
   ],
   "source": [
    "df_new.info()"
   ]
  },
  {
   "cell_type": "code",
   "execution_count": null,
   "metadata": {},
   "outputs": [],
   "source": []
  },
  {
   "cell_type": "code",
   "execution_count": 291,
   "metadata": {},
   "outputs": [],
   "source": [
    "# From the frames this columns seem to contain the same entries Host_first_name== User_first_name == User_Smart_name == HOst_Smart_name \n",
    "# from df_frame custumer name == city == City in df_new\n",
    "# Some of the columns of df_new refer to the same column in df_frame but with different name\n",
    "\n",
    "df_frame.rename(columns={'customer_name':'City','house_name':'Name','bathrooms':'Bathrooms','bedrooms':'Bedrooms',\n",
    "                        'beds':'Beds','listing_id':'ListingId','instant_bookable':'Instant_bookable','is_new_listing':'Is_new_listing',\n",
    "                        'lat':'Lat','lng':'Lng','region':'Neighborhood','person_capacity':'Person_capacity','picture_url':'Picture_url',\n",
    "                        'host_name':'Host_first_name','host_id':'Host_id','property_type':'Property_type','room_type_category':'Room_type_category',\n",
    "                        'room_type':'Room_type','space_type':'Space_type','host_picture':'Host_picture_url'},inplace= True)"
   ]
  },
  {
   "cell_type": "code",
   "execution_count": 292,
   "metadata": {},
   "outputs": [
    {
     "data": {
      "image/png": "[encoded data removed]",
      "text/plain": [
       "<Figure size 432x288 with 1 Axes>"
      ]
     },
     "metadata": {
      "needs_background": "light"
     },
     "output_type": "display_data"
    },
    {
     "data": {
      "image/png": "[encoded data removed]",
      "text/plain": [
       "<Figure size 432x288 with 1 Axes>"
      ]
     },
     "metadata": {
      "needs_background": "light"
     },
     "output_type": "display_data"
    }
   ],
   "source": [
    "def histogram(df,column,bins=False):\n",
    "    try:\n",
    "        if df[column].dtype == 'object':\n",
    "            df_1 = df[column].dropna().str.replace(',', '.').astype('float64')\n",
    "        else:\n",
    "            df_1 = df[column].dropna().astype('float64')\n",
    "    except AttributeError:\n",
    "        df_1 = df[column].astype('float64')\n",
    "        \n",
    "    bins = len(set(list(df[column].dropna())))\n",
    "    if bins <= 25 :\n",
    "        plt.hist(df_1,bins=bins)\n",
    "        plt.title(column)\n",
    "        plt.show()\n",
    "    else:\n",
    "        plt.hist(df_1)\n",
    "        plt.title(column)\n",
    "        plt.show()\n",
    "    return \n",
    "\n",
    "histogram(df_frame,'Person_capacity')\n",
    "histogram(df_frame,'Host_id')\n"
   ]
  },
  {
   "cell_type": "code",
   "execution_count": 293,
   "metadata": {},
   "outputs": [],
   "source": [
    "df_frame['ListingId'] = df_frame['ListingId'].str.replace('[A-Za-z]', '').astype('int64') # remove letters-ListingId has entries which start with a letter h123133... only in some sites\n",
    "df_frame['Person_capacity'].fillna(0,inplace=True)   # There are Nan values which creates a conflict while converting all columns into the same dtype , turn them to 0 temporarily\n",
    "df_frame['Host_id'].fillna(0,inplace=True) \n",
    "df_frame['Instant_bookable']= df_frame['Instant_bookable'].astype('int64') \n",
    "similar_columns = []\n",
    "# Make every similar column match the dtype so it can be joined\n",
    "for column in df_new.columns:\n",
    "    \n",
    "    if column in df_frame.columns: #Only use columns which are similar in both df\n",
    "        dtype = df_new[column].dtypes\n",
    "        dtype_2 = df_frame[column].dtypes\n",
    "        similar_columns.append(column) # Save the similar keys in both dfs for joining\n",
    "        \n",
    "        \n",
    "        if dtype == 'float64' and dtype!= dtype_2: # If the dtype needs to be float and they have different dtypes remove commas, numbers are 1,20 instead of 1.20 which is needed for conversion\n",
    "            df_frame[column]= df_frame[column].str.replace(',', '.').astype(dtype)\n",
    "        elif dtype!= dtype_2: # If they are not the same just change the dtype\n",
    "            df_frame[column]= df_frame[column].astype(dtype) \n",
    "\n",
    "\n"
   ]
  },
  {
   "cell_type": "code",
   "execution_count": 294,
   "metadata": {},
   "outputs": [
    {
     "data": {
      "image/png": "[encoded data removed]",
      "text/plain": [
       "<Figure size 432x288 with 1 Axes>"
      ]
     },
     "metadata": {
      "needs_background": "light"
     },
     "output_type": "display_data"
    },
    {
     "data": {
      "image/png": "[encoded data removed]",
      "text/plain": [
       "<Figure size 432x288 with 1 Axes>"
      ]
     },
     "metadata": {
      "needs_background": "light"
     },
     "output_type": "display_data"
    }
   ],
   "source": [
    "histogram(df_frame,'Person_capacity')\n",
    "histogram(df_frame,'Host_id')\n"
   ]
  },
  {
   "cell_type": "code",
   "execution_count": 297,
   "metadata": {},
   "outputs": [],
   "source": [
    "df_merged = pd.merge(df_frame,df_new, on=\"ListingId\",how='left', suffixes=('', '_DROP')).filter(regex='^(?!.*_DROP)')\n",
    "\n",
    "#df_extra.rename(columns={'listingid':'ListingId'},inplace=True)\n",
    "#df_merged= pd.merge(df_frame,df_extra, on='ListingId',how='left')"
   ]
  },
  {
   "cell_type": "code",
   "execution_count": 333,
   "metadata": {},
   "outputs": [
    {
     "data": {
      "text/html": [
       "<div>\n",
       "<style scoped>\n",
       "    .dataframe tbody tr th:only-of-type {\n",
       "        vertical-align: middle;\n",
       "    }\n",
       "\n",
       "    .dataframe tbody tr th {\n",
       "        vertical-align: top;\n",
       "    }\n",
       "\n",
       "    .dataframe thead th {\n",
       "        text-align: right;\n",
       "    }\n",
       "</style>\n",
       "<table border=\"1\" class=\"dataframe\">\n",
       "  <thead>\n",
       "    <tr style=\"text-align: right;\">\n",
       "      <th></th>\n",
       "      <th>ID</th>\n",
       "      <th>listingid</th>\n",
       "      <th>Description</th>\n",
       "    </tr>\n",
       "  </thead>\n",
       "  <tbody>\n",
       "    <tr>\n",
       "      <th>0</th>\n",
       "      <td>1</td>\n",
       "      <td>10008030</td>\n",
       "      <td>Authentic ground floor house in the lively nei...</td>\n",
       "    </tr>\n",
       "    <tr>\n",
       "      <th>1</th>\n",
       "      <td>2</td>\n",
       "      <td>10008030</td>\n",
       "      <td>Authentic ground floor house in the lively nei...</td>\n",
       "    </tr>\n",
       "    <tr>\n",
       "      <th>2</th>\n",
       "      <td>3</td>\n",
       "      <td>10008030</td>\n",
       "      <td>Authentic ground floor house in the lively nei...</td>\n",
       "    </tr>\n",
       "    <tr>\n",
       "      <th>3</th>\n",
       "      <td>4</td>\n",
       "      <td>10008030</td>\n",
       "      <td>The dining room has a huge window makes you fe...</td>\n",
       "    </tr>\n",
       "    <tr>\n",
       "      <th>4</th>\n",
       "      <td>6</td>\n",
       "      <td>10008030</td>\n",
       "      <td>Hulpdieren mogen mee en hoeven niet als huisdi...</td>\n",
       "    </tr>\n",
       "    <tr>\n",
       "      <th>...</th>\n",
       "      <td>...</td>\n",
       "      <td>...</td>\n",
       "      <td>...</td>\n",
       "    </tr>\n",
       "    <tr>\n",
       "      <th>50614</th>\n",
       "      <td>63294</td>\n",
       "      <td>9996040</td>\n",
       "      <td>Ons moderne en mooie open appartement ligt in ...</td>\n",
       "    </tr>\n",
       "    <tr>\n",
       "      <th>50615</th>\n",
       "      <td>63295</td>\n",
       "      <td>9996040</td>\n",
       "      <td>Ons moderne en mooie open appartement ligt in ...</td>\n",
       "    </tr>\n",
       "    <tr>\n",
       "      <th>50616</th>\n",
       "      <td>63296</td>\n",
       "      <td>9996040</td>\n",
       "      <td>De titel van deze accommodatie is automatisch ...</td>\n",
       "    </tr>\n",
       "    <tr>\n",
       "      <th>50617</th>\n",
       "      <td>63297</td>\n",
       "      <td>9996040</td>\n",
       "      <td>Hulpdieren mogen mee en hoeven niet als huisdi...</td>\n",
       "    </tr>\n",
       "    <tr>\n",
       "      <th>50618</th>\n",
       "      <td>63298</td>\n",
       "      <td>9996040</td>\n",
       "      <td>Ons moderne en mooie open appartement ligt in ...</td>\n",
       "    </tr>\n",
       "  </tbody>\n",
       "</table>\n",
       "<p>50619 rows × 3 columns</p>\n",
       "</div>"
      ],
      "text/plain": [
       "          ID  listingid                                        Description\n",
       "0          1   10008030  Authentic ground floor house in the lively nei...\n",
       "1          2   10008030  Authentic ground floor house in the lively nei...\n",
       "2          3   10008030  Authentic ground floor house in the lively nei...\n",
       "3          4   10008030  The dining room has a huge window makes you fe...\n",
       "4          6   10008030  Hulpdieren mogen mee en hoeven niet als huisdi...\n",
       "...      ...        ...                                                ...\n",
       "50614  63294    9996040  Ons moderne en mooie open appartement ligt in ...\n",
       "50615  63295    9996040  Ons moderne en mooie open appartement ligt in ...\n",
       "50616  63296    9996040  De titel van deze accommodatie is automatisch ...\n",
       "50617  63297    9996040  Hulpdieren mogen mee en hoeven niet als huisdi...\n",
       "50618  63298    9996040  Ons moderne en mooie open appartement ligt in ...\n",
       "\n",
       "[50619 rows x 3 columns]"
      ]
     },
     "execution_count": 333,
     "metadata": {},
     "output_type": "execute_result"
    }
   ],
   "source": [
    "df_extra['Description'][df_extra['listingid']==9996040].iloc[1]\n",
    "df_extra\n",
    "#df_merged['listing_url'][df_merged['ListingId']==10008030]"
   ]
  },
  {
   "cell_type": "code",
   "execution_count": 372,
   "metadata": {},
   "outputs": [
    {
     "data": {
      "text/plain": [
       "{'-1', '0', 'false', nan, 'true'}"
      ]
     },
     "execution_count": 372,
     "metadata": {},
     "output_type": "execute_result"
    }
   ],
   "source": [
    "list(df_merged['User_Is_superhost'])\n",
    "set(list(df_merged['Host_has_profile_pic']))\n",
    "# User_Is_superhost? ,Is_business_travel_ready,Is_family_preferred, Host_has_profile_pic"
   ]
  },
  {
   "cell_type": "code",
   "execution_count": 310,
   "metadata": {},
   "outputs": [
    {
     "data": {
      "image/png": "[encoded data removed]",
      "text/plain": [
       "<Figure size 432x288 with 1 Axes>"
      ]
     },
     "metadata": {
      "needs_background": "light"
     },
     "output_type": "display_data"
    },
    {
     "data": {
      "image/png": "[encoded data removed]",
      "text/plain": [
       "<Figure size 432x288 with 1 Axes>"
      ]
     },
     "metadata": {
      "needs_background": "light"
     },
     "output_type": "display_data"
    },
    {
     "data": {
      "image/png": "[encoded data removed]",
      "text/plain": [
       "<Figure size 432x288 with 1 Axes>"
      ]
     },
     "metadata": {
      "needs_background": "light"
     },
     "output_type": "display_data"
    },
    {
     "data": {
      "image/png": "[encoded data removed]",
      "text/plain": [
       "<Figure size 432x288 with 1 Axes>"
      ]
     },
     "metadata": {
      "needs_background": "light"
     },
     "output_type": "display_data"
    },
    {
     "data": {
      "image/png": "[encoded data removed]",
      "text/plain": [
       "<Figure size 432x288 with 1 Axes>"
      ]
     },
     "metadata": {
      "needs_background": "light"
     },
     "output_type": "display_data"
    },
    {
     "data": {
      "image/png": "[encoded data removed]",
      "text/plain": [
       "<Figure size 432x288 with 1 Axes>"
      ]
     },
     "metadata": {
      "needs_background": "light"
     },
     "output_type": "display_data"
    },
    {
     "data": {
      "image/png": "[encoded data removed]",
      "text/plain": [
       "<Figure size 432x288 with 1 Axes>"
      ]
     },
     "metadata": {
      "needs_background": "light"
     },
     "output_type": "display_data"
    },
    {
     "data": {
      "image/png": "[encoded data removed]",
      "text/plain": [
       "<Figure size 432x288 with 1 Axes>"
      ]
     },
     "metadata": {
      "needs_background": "light"
     },
     "output_type": "display_data"
    },
    {
     "data": {
      "image/png": "[encoded data removed]",
      "text/plain": [
       "<Figure size 432x288 with 1 Axes>"
      ]
     },
     "metadata": {
      "needs_background": "light"
     },
     "output_type": "display_data"
    },
    {
     "data": {
      "image/png": "[encoded data removed]",
      "text/plain": [
       "<Figure size 432x288 with 1 Axes>"
      ]
     },
     "metadata": {
      "needs_background": "light"
     },
     "output_type": "display_data"
    },
    {
     "data": {
      "image/png": "[encoded data removed]",
      "text/plain": [
       "<Figure size 432x288 with 1 Axes>"
      ]
     },
     "metadata": {
      "needs_background": "light"
     },
     "output_type": "display_data"
    },
    {
     "data": {
      "image/png": "[encoded data removed]",
      "text/plain": [
       "<Figure size 432x288 with 1 Axes>"
      ]
     },
     "metadata": {
      "needs_background": "light"
     },
     "output_type": "display_data"
    },
    {
     "data": {
      "image/png": "[encoded data removed]",
      "text/plain": [
       "<Figure size 432x288 with 1 Axes>"
      ]
     },
     "metadata": {
      "needs_background": "light"
     },
     "output_type": "display_data"
    },
    {
     "data": {
      "image/png": "[encoded data removed]",
      "text/plain": [
       "<Figure size 432x288 with 1 Axes>"
      ]
     },
     "metadata": {
      "needs_background": "light"
     },
     "output_type": "display_data"
    },
    {
     "data": {
      "image/png": "[encoded data removed]",
      "text/plain": [
       "<Figure size 432x288 with 1 Axes>"
      ]
     },
     "metadata": {
      "needs_background": "light"
     },
     "output_type": "display_data"
    }
   ],
   "source": [
    "histogram(df_merged,'Bedrooms')\n",
    "histogram(df_merged,'Bathrooms')\n",
    "histogram(df_merged,'Beds')\n",
    "histogram(df_merged,'bad_ratings_count')\n",
    "histogram(df_merged,'Is_new_listing')\n",
    "histogram(df_merged,'host_listings_count_hist')\n",
    "histogram(df_merged,'kpi_capacity_more_than_4')\n",
    "histogram(df_merged,'kpi_capacity_more_than_6')\n",
    "histogram(df_merged,'2021-08_available_days')\n",
    "histogram(df_merged,'host_reviews_per_listing')\n",
    "histogram(df_merged,'host_popularity_score_percentage')\n",
    "histogram(df_merged,'host_reviews_per_listing')\n",
    "histogram(df_merged,'host_reviews_per_year')\n",
    "histogram(df_merged,'Reviews_count')\n",
    "histogram(df_merged,'Picture_count')"
   ]
  },
  {
   "cell_type": "code",
   "execution_count": 281,
   "metadata": {},
   "outputs": [],
   "source": [
    "#drop Nan names? mostly incomplete check again after deciding which feautures to take 1285 Nan\n",
    "# Columns which are mainly empty or have similar information that other columns \n",
    "df_merged.drop(columns = ['wsa_listing_id','city','City','2021-06_available_days','registration_number','2021-07_available_days', '2022-01_available_days'],inplace=True)"
   ]
  },
  {
   "cell_type": "code",
   "execution_count": 284,
   "metadata": {},
   "outputs": [
    {
     "name": "stdout",
     "output_type": "stream",
     "text": [
      "<class 'pandas.core.frame.DataFrame'>\n",
      "Int64Index: 23173 entries, 0 to 23172\n",
      "Data columns (total 77 columns):\n",
      " #   Column                            Non-Null Count  Dtype  \n",
      "---  ------                            --------------  -----  \n",
      " 0   site                              23173 non-null  object \n",
      " 1   ListingId                         23173 non-null  int64  \n",
      " 2   Name                              21888 non-null  object \n",
      " 3   postalcode                        23168 non-null  object \n",
      " 4   Bedrooms                          21294 non-null  float64\n",
      " 5   Bathrooms                         9259 non-null   float64\n",
      " 6   Beds                              21751 non-null  float64\n",
      " 7   Person_capacity                   23173 non-null  int64  \n",
      " 8   Host_first_name                   20036 non-null  object \n",
      " 9   Host_id                           23173 non-null  int64  \n",
      " 10  Host_picture_url                  8566 non-null   object \n",
      " 11  Instant_bookable                  23173 non-null  object \n",
      " 12  Is_new_listing                    23173 non-null  object \n",
      " 13  Neighborhood                      23173 non-null  object \n",
      " 14  Lat                               21921 non-null  float64\n",
      " 15  Lng                               21921 non-null  float64\n",
      " 16  Picture_url                       8469 non-null   object \n",
      " 17  reviews_count                     8811 non-null   float64\n",
      " 18  Room_type_category                7278 non-null   object \n",
      " 19  Room_type                         19921 non-null  object \n",
      " 20  Space_type                        7278 non-null   object \n",
      " 21  Property_type                     8531 non-null   object \n",
      " 22  booking_count                     6752 non-null   float64\n",
      " 23  host_listings_count_hist          6752 non-null   float64\n",
      " 24  kpi_capacity_more_than_4          7278 non-null   float64\n",
      " 25  kpi_capacity_more_than_6          7278 non-null   float64\n",
      " 26  kpi_instant_bookable              23173 non-null  int64  \n",
      " 27  kpi_host_lists_multiple           6752 non-null   float64\n",
      " 28  kpi_host_lists_10_or_more         6752 non-null   float64\n",
      " 29  days_active                       6752 non-null   object \n",
      " 30  host_start_year                   6752 non-null   float64\n",
      " 31  host_start_month                  6752 non-null   object \n",
      " 32  reviews_year                      15141 non-null  object \n",
      " 33  reviews_6_months                  15141 non-null  object \n",
      " 34  reviews_3_months                  15141 non-null  object \n",
      " 35  reviews_1_month                   15141 non-null  object \n",
      " 36  rating_avg                        15141 non-null  float64\n",
      " 37  bad_ratings_count                 15141 non-null  object \n",
      " 38  year_total_available              16766 non-null  object \n",
      " 39  2021-06_available_days            0 non-null      float64\n",
      " 40  2021-08_available_days            15834 non-null  object \n",
      " 41  2021-09_available_days            15848 non-null  object \n",
      " 42  2021-10_available_days            15864 non-null  object \n",
      " 43  2021-11_available_days            15871 non-null  object \n",
      " 44  2021-12_available_days            16734 non-null  object \n",
      " 45  2022-02_available_days            16766 non-null  object \n",
      " 46  2022-03_available_days            3828 non-null   object \n",
      " 47  2022-04_available_days            1419 non-null   object \n",
      " 48  2022-05_available_days            1419 non-null   float64\n",
      " 49  first_bookable_date               5542 non-null   object \n",
      " 50  host_popularity_score_percentage  6752 non-null   float64\n",
      " 51  host_reviews_per_listing          6752 non-null   float64\n",
      " 52  host_reviews_per_year             6752 non-null   float64\n",
      " 53  listing_url                       23173 non-null  object \n",
      " 54  first_found_date                  23173 non-null  object \n",
      " 55  last_found_date                   16757 non-null  object \n",
      " 56  listing_published                 23173 non-null  int64  \n",
      " 57  listing_can_book                  23173 non-null  int64  \n",
      " 58  Listing_id_str                    5443 non-null   float64\n",
      " 59  Localized_city                    5443 non-null   object \n",
      " 60  Host_smart_name                   5443 non-null   object \n",
      " 61  Host_thumbnail_url                5443 non-null   object \n",
      " 62  Host_is_superhost                 5443 non-null   object \n",
      " 63  Property_type_id                  5442 non-null   float64\n",
      " 64  Public_address                    5443 non-null   object \n",
      " 65  User_Id                           5443 non-null   float64\n",
      " 66  User_First_name                   5443 non-null   object \n",
      " 67  User_Has_profile_pic              5443 non-null   object \n",
      " 68  User_Smart_name                   5443 non-null   object \n",
      " 69  User_Thumbnail_url                5443 non-null   object \n",
      " 70  Xl_picture_url                    5443 non-null   object \n",
      " 71  Picture_url1                      5436 non-null   object \n",
      " 72  Picture_url2                      5433 non-null   object \n",
      " 73  Picture_url3                      5416 non-null   object \n",
      " 74  Picture_url4                      5382 non-null   object \n",
      " 75  Picture_url5                      5338 non-null   object \n",
      " 76  Picture_url6                      5258 non-null   object \n",
      "dtypes: float64(22), int64(6), object(49)\n",
      "memory usage: 13.8+ MB\n"
     ]
    }
   ],
   "source": [
    "df_merged.info()"
   ]
  },
  {
   "cell_type": "code",
   "execution_count": 76,
   "metadata": {},
   "outputs": [
    {
     "name": "stdout",
     "output_type": "stream",
     "text": [
      "{'AIRBNB', 'Expedia', 'VRBO', 'Tripadvisor', 'Booking'}\n"
     ]
    }
   ],
   "source": [
    "platforms = set([x for x in df_merged['site']])\n",
    "print(platforms)"
   ]
  },
  {
   "cell_type": "code",
   "execution_count": 352,
   "metadata": {
    "scrolled": true
   },
   "outputs": [
    {
     "data": {
      "text/plain": [
       "'https://www.vrbo.com/nl-nl/vakantiewoning/p8382181?noDates=true'"
      ]
     },
     "execution_count": 352,
     "metadata": {},
     "output_type": "execute_result"
    }
   ],
   "source": [
    "df_frame['listing_url'][df_frame['Person_capacity']==0].loc[23024]\n",
    "#df_frame['listing_url'][df_frame['ListingId'] == 10008030]\n",
    "#df_frame['listing_url'].iloc[100]"
   ]
  },
  {
   "cell_type": "code",
   "execution_count": 12,
   "metadata": {},
   "outputs": [],
   "source": [
    "def tot_nan_column(df,column):  \n",
    "    df[column].notna().sum()\n",
    "    nan_val= df[column].notna().sum()\n",
    "    return nan_val"
   ]
  },
  {
   "cell_type": "code",
   "execution_count": 373,
   "metadata": {},
   "outputs": [],
   "source": [
    "df_bnb = df_merged[df_merged['site'] == 'AIRBNB']\n",
    "df_book = df_merged[df_merged['site'] == 'Booking']\n",
    "df_exp = df_merged[df_merged['site'] == 'Expedia']\n",
    "df_trip = df_merged[df_merged['site'] == 'Tripadvisor']\n",
    "df_verb = df_merged[df_merged['site'] == 'VRBO']"
   ]
  },
  {
   "cell_type": "code",
   "execution_count": 374,
   "metadata": {},
   "outputs": [
    {
     "name": "stdout",
     "output_type": "stream",
     "text": [
      "AIRBNB total lisitngs :  21173\n",
      "Booking total lisitngs :  621\n",
      "Expedia total lisitngs :  168\n",
      "Tripadvisor total lisitngs :  523\n",
      "VRBO total lisitngs :  688\n"
     ]
    }
   ],
   "source": [
    "print('AIRBNB total lisitngs : ',len(df_bnb))\n",
    "print('Booking total lisitngs : ',len(df_book))\n",
    "print('Expedia total lisitngs : ',len(df_exp))\n",
    "print('Tripadvisor total lisitngs : ',len(df_trip))\n",
    "print('VRBO total lisitngs : ',len(df_verb))"
   ]
  },
  {
   "cell_type": "code",
   "execution_count": 15,
   "metadata": {},
   "outputs": [
    {
     "name": "stdout",
     "output_type": "stream",
     "text": [
      "Total longitude 21921\n",
      "Total latitude 21921\n",
      "Total AirBnB longitude 19921\n",
      "Total AirBnB latitude 19921\n",
      "Total Booking longitude 621\n",
      "Total Booking latitude 621\n",
      "Total Expedia longitude 168\n",
      "Total Expedia latitude 168\n",
      "Total TripAD longitude 523\n",
      "Total TripAD latitude 523\n",
      "Total VRBO longitude 688\n",
      "Total VRBO latitude 688\n"
     ]
    }
   ],
   "source": [
    "print('Total longitude',tot_nan_column(df_frame,'lng'))\n",
    "print('Total latitude',tot_nan_column(df_frame,'lat'))\n",
    "print('Total AirBnB longitude',tot_nan_column(df_bnb,'lng'))\n",
    "print('Total AirBnB latitude',tot_nan_column(df_bnb,'lat'))\n",
    "print('Total Booking longitude',tot_nan_column(df_book,'lng'))\n",
    "print('Total Booking latitude',tot_nan_column(df_book,'lat'))\n",
    "print('Total Expedia longitude',tot_nan_column(df_exp,'lng'))\n",
    "print('Total Expedia latitude',tot_nan_column(df_exp,'lat'))\n",
    "print('Total TripAD longitude',tot_nan_column(df_trip,'lng'))\n",
    "print('Total TripAD latitude',tot_nan_column(df_trip,'lat'))\n",
    "print('Total VRBO longitude',tot_nan_column(df_verb,'lng'))\n",
    "print('Total VRBO latitude',tot_nan_column(df_verb,'lat'))"
   ]
  },
  {
   "cell_type": "code",
   "execution_count": 375,
   "metadata": {},
   "outputs": [
    {
     "data": {
      "text/plain": [
       "0            NaN\n",
       "1            NaN\n",
       "2            NaN\n",
       "3            NaN\n",
       "4        1072 JR\n",
       "          ...   \n",
       "23168    1053 AA\n",
       "23169    1095 AE\n",
       "23170    1012 WL\n",
       "23171    1013 GW\n",
       "23172    1071 JM\n",
       "Name: postalcode, Length: 23173, dtype: object"
      ]
     },
     "execution_count": 375,
     "metadata": {},
     "output_type": "execute_result"
    }
   ],
   "source": [
    "df_merged['postalcode'] = df_merged['postalcode'].map(lambda x: float(\"NaN\") if x =='Onbekend' else x)\n",
    "df_merged['postalcode']"
   ]
  },
  {
   "cell_type": "code",
   "execution_count": 380,
   "metadata": {},
   "outputs": [],
   "source": [
    "#Calculate non nan values in their columns\n",
    "def in_nan(site):\n",
    "       nan_val = {}\n",
    "       for x in df_frame.columns :   \n",
    "              if df_frame[df_frame['site'] == site][x].notna().sum() != 0:\n",
    "                     nan_val[x]= df_frame[df_frame['site'] == site][x].notna().sum()\n",
    "                     \n",
    "       return nan_val"
   ]
  },
  {
   "cell_type": "code",
   "execution_count": 381,
   "metadata": {},
   "outputs": [],
   "source": [
    "#Not nan values in their columns\n",
    "nan_aribnb = in_nan('AIRBNB')\n",
    "nan_book = in_nan('Booking')\n",
    "nan_exp = in_nan('Expedia')\n",
    "nan_trip = in_nan('Tripadvisor')\n",
    "nan_vrb = in_nan('VRBO')"
   ]
  },
  {
   "cell_type": "code",
   "execution_count": 382,
   "metadata": {},
   "outputs": [
    {
     "data": {
      "text/plain": [
       "dict_keys(['wsa_listing_id', 'City', 'site', 'ListingId', 'Name', 'city', 'postalcode', 'Bedrooms', 'Bathrooms', 'Beds', 'Person_capacity', 'Host_id', 'Instant_bookable', 'Is_new_listing', 'Neighborhood', 'Lat', 'Lng', 'reviews_count', 'kpi_instant_bookable', 'listing_url', 'first_found_date', 'listing_published', 'listing_can_book'])"
      ]
     },
     "execution_count": 382,
     "metadata": {},
     "output_type": "execute_result"
    }
   ],
   "source": [
    "nan_trip.keys()"
   ]
  },
  {
   "cell_type": "code",
   "execution_count": 383,
   "metadata": {},
   "outputs": [
    {
     "name": "stdout",
     "output_type": "stream",
     "text": [
      "aribnb columns withouth nan values: 62\n",
      "book columns without nan values: 27\n",
      "exp columns without nan values: 22\n",
      "trip columns without nan values: 23\n",
      "vrb columns without nan values: 27\n"
     ]
    }
   ],
   "source": [
    "print('aribnb columns withouth nan values:' , len(nan_aribnb))\n",
    "print('book columns without nan values:' , len(nan_book))\n",
    "print('exp columns without nan values:' , len(nan_exp))\n",
    "print('trip columns without nan values:' , len(nan_trip))\n",
    "print('vrb columns without nan values:' , len(nan_vrb))"
   ]
  },
  {
   "cell_type": "code",
   "execution_count": 25,
   "metadata": {},
   "outputs": [
    {
     "name": "stdout",
     "output_type": "stream",
     "text": [
      "\\begin{tabular}{lllr}\n",
      "\\toprule\n",
      "{} &                          features &    types &  non\\_null\\_counts \\\\\n",
      "\\midrule\n",
      "0  &                    wsa\\_listing\\_id &    int64 &            23173 \\\\\n",
      "1  &                     customer\\_name &   object &            23173 \\\\\n",
      "2  &                              site &   object &            23173 \\\\\n",
      "3  &                        listing\\_id &   object &            23173 \\\\\n",
      "4  &               registration\\_number &   object &             4600 \\\\\n",
      "5  &                        house\\_name &   object &            21888 \\\\\n",
      "6  &                              city &   object &            23173 \\\\\n",
      "7  &                        postalcode &   object &            23168 \\\\\n",
      "8  &                          bedrooms &   object &            21294 \\\\\n",
      "9  &                         bathrooms &   object &             9259 \\\\\n",
      "10 &                              beds &   object &            21751 \\\\\n",
      "11 &                   person\\_capacity &  float64 &            21135 \\\\\n",
      "12 &                         host\\_name &   object &            20036 \\\\\n",
      "13 &                           host\\_id &  float64 &             6752 \\\\\n",
      "14 &                      host\\_picture &   object &             8566 \\\\\n",
      "15 &                  instant\\_bookable &    int64 &            23173 \\\\\n",
      "16 &                    is\\_new\\_listing &    int64 &            23173 \\\\\n",
      "17 &                            region &   object &            23173 \\\\\n",
      "18 &                               lat &  float64 &            21921 \\\\\n",
      "19 &                               lng &  float64 &            21921 \\\\\n",
      "20 &                       picture\\_url &   object &             8469 \\\\\n",
      "21 &                     reviews\\_count &  float64 &             8811 \\\\\n",
      "22 &                room\\_type\\_category &   object &             7278 \\\\\n",
      "23 &                         room\\_type &   object &            19921 \\\\\n",
      "24 &                        space\\_type &   object &             7278 \\\\\n",
      "25 &                     property\\_type &   object &             8531 \\\\\n",
      "26 &                     booking\\_count &  float64 &             6752 \\\\\n",
      "27 &          host\\_listings\\_count\\_hist &  float64 &             6752 \\\\\n",
      "28 &          kpi\\_capacity\\_more\\_than\\_4 &  float64 &             7278 \\\\\n",
      "29 &          kpi\\_capacity\\_more\\_than\\_6 &  float64 &             7278 \\\\\n",
      "30 &              kpi\\_instant\\_bookable &    int64 &            23173 \\\\\n",
      "31 &           kpi\\_host\\_lists\\_multiple &  float64 &             6752 \\\\\n",
      "32 &         kpi\\_host\\_lists\\_10\\_or\\_more &  float64 &             6752 \\\\\n",
      "33 &                       days\\_active &   object &             6752 \\\\\n",
      "34 &                   host\\_start\\_year &  float64 &             6752 \\\\\n",
      "35 &                  host\\_start\\_month &   object &             6752 \\\\\n",
      "36 &                      reviews\\_year &   object &            15141 \\\\\n",
      "37 &                  reviews\\_6\\_months &   object &            15141 \\\\\n",
      "38 &                  reviews\\_3\\_months &   object &            15141 \\\\\n",
      "39 &                   reviews\\_1\\_month &   object &            15141 \\\\\n",
      "40 &                        rating\\_avg &  float64 &            15141 \\\\\n",
      "41 &                 bad\\_ratings\\_count &   object &            15141 \\\\\n",
      "42 &              year\\_total\\_available &   object &            16766 \\\\\n",
      "43 &            2021-06\\_available\\_days &  float64 &                0 \\\\\n",
      "44 &            2021-07\\_available\\_days &  float64 &                0 \\\\\n",
      "45 &            2021-08\\_available\\_days &   object &            15834 \\\\\n",
      "46 &            2021-09\\_available\\_days &   object &            15848 \\\\\n",
      "47 &            2021-10\\_available\\_days &   object &            15864 \\\\\n",
      "48 &            2021-11\\_available\\_days &   object &            15871 \\\\\n",
      "49 &            2021-12\\_available\\_days &   object &            16734 \\\\\n",
      "50 &            2022-01\\_available\\_days &   object &            16766 \\\\\n",
      "51 &            2022-02\\_available\\_days &   object &            16766 \\\\\n",
      "52 &            2022-03\\_available\\_days &   object &             3828 \\\\\n",
      "53 &            2022-04\\_available\\_days &   object &             1419 \\\\\n",
      "54 &            2022-05\\_available\\_days &  float64 &             1419 \\\\\n",
      "55 &               first\\_bookable\\_date &   object &             5542 \\\\\n",
      "56 &  host\\_popularity\\_score\\_percentage &  float64 &             6752 \\\\\n",
      "57 &          host\\_reviews\\_per\\_listing &  float64 &             6752 \\\\\n",
      "58 &             host\\_reviews\\_per\\_year &  float64 &             6752 \\\\\n",
      "59 &                       listing\\_url &   object &            23173 \\\\\n",
      "60 &                  first\\_found\\_date &   object &            23173 \\\\\n",
      "61 &                   last\\_found\\_date &   object &            16757 \\\\\n",
      "62 &                 listing\\_published &    int64 &            23173 \\\\\n",
      "63 &                  listing\\_can\\_book &    int64 &            23173 \\\\\n",
      "\\bottomrule\n",
      "\\end{tabular}\n",
      "\n"
     ]
    }
   ],
   "source": [
    "def get_dataframe_info(df):\n",
    "    \"\"\"\n",
    "    input\n",
    "       df -> DataFrame\n",
    "    output\n",
    "       df_null_counts -> DataFrame Info (sorted)\n",
    "    \"\"\"\n",
    "\n",
    "    df_types = pd.DataFrame(df.dtypes)\n",
    "    df_nulls = df.count()\n",
    "    \n",
    "    df_null_count = pd.concat([df_types, df_nulls], axis=1)\n",
    "    df_null_count = df_null_count.reset_index()\n",
    "    \n",
    "    # Reassign column names\n",
    "    col_names = [\"features\", \"types\", \"non_null_counts\"]\n",
    "    df_null_count.columns = col_names\n",
    "    \n",
    "    # Add this to sort\n",
    "    \n",
    "    \n",
    "    return df_null_count\n",
    "print(get_dataframe_info(df_frame).to_latex())"
   ]
  },
  {
   "cell_type": "code",
   "execution_count": 15,
   "metadata": {},
   "outputs": [
    {
     "name": "stdout",
     "output_type": "stream",
     "text": [
      "1186\n"
     ]
    }
   ],
   "source": [
    "#indexer = recordlinkage.Index()\n",
    "indexer = rl.BlockIndex(on='postalcode')\n",
    "candidate_links = indexer.index(df_bnb, df_verb)\n",
    "\n",
    "print (len(candidate_links))"
   ]
  },
  {
   "cell_type": "code",
   "execution_count": 15,
   "metadata": {},
   "outputs": [],
   "source": [
    "compare_cl = rl.Compare()\n",
    "\n",
    "compare_cl.exact('postalcode', 'postalcode', label='postalcode')\n",
    "compare_cl.numeric('lat', 'lat', label='lat')\n",
    "compare_cl.numeric('lng', 'lng', label='lng')\n",
    "\n",
    "\n",
    "features = compare_cl.compute(candidate_links, df_bnb, df_verb)"
   ]
  },
  {
   "cell_type": "code",
   "execution_count": 17,
   "metadata": {},
   "outputs": [
    {
     "data": {
      "text/plain": [
       "2.999999     1\n",
       "2.999998     1\n",
       "2.999998     1\n",
       "2.999998     1\n",
       "2.999998     1\n",
       "2.999997     4\n",
       "2.999997     1\n",
       "2.999997    45\n",
       "2.999997     1\n",
       "2.999996     1\n",
       "2.999996     1\n",
       "2.999995     1\n",
       "2.999984    11\n",
       "2.999983    36\n",
       "2.999982     1\n",
       "2.999980     1\n",
       "2.999977     1\n",
       "2.999977     1\n",
       "2.999976     1\n",
       "2.999974     1\n",
       "dtype: int64"
      ]
     },
     "execution_count": 17,
     "metadata": {},
     "output_type": "execute_result"
    }
   ],
   "source": [
    "features.sum(axis=1).value_counts().sort_index(ascending=False).iloc[:20]"
   ]
  },
  {
   "cell_type": "code",
   "execution_count": 30,
   "metadata": {},
   "outputs": [
    {
     "data": {
      "text/html": [
       "<div>\n",
       "<style scoped>\n",
       "    .dataframe tbody tr th:only-of-type {\n",
       "        vertical-align: middle;\n",
       "    }\n",
       "\n",
       "    .dataframe tbody tr th {\n",
       "        vertical-align: top;\n",
       "    }\n",
       "\n",
       "    .dataframe thead th {\n",
       "        text-align: right;\n",
       "    }\n",
       "</style>\n",
       "<table border=\"1\" class=\"dataframe\">\n",
       "  <thead>\n",
       "    <tr style=\"text-align: right;\">\n",
       "      <th></th>\n",
       "      <th></th>\n",
       "      <th>postalcode</th>\n",
       "      <th>lat</th>\n",
       "      <th>lng</th>\n",
       "    </tr>\n",
       "  </thead>\n",
       "  <tbody>\n",
       "    <tr>\n",
       "      <th rowspan=\"2\" valign=\"top\">12125</th>\n",
       "      <th>22515</th>\n",
       "      <td>1</td>\n",
       "      <td>1.000000</td>\n",
       "      <td>0.999998</td>\n",
       "    </tr>\n",
       "    <tr>\n",
       "      <th>22517</th>\n",
       "      <td>1</td>\n",
       "      <td>1.000000</td>\n",
       "      <td>0.999998</td>\n",
       "    </tr>\n",
       "    <tr>\n",
       "      <th rowspan=\"2\" valign=\"top\">12126</th>\n",
       "      <th>22515</th>\n",
       "      <td>1</td>\n",
       "      <td>1.000000</td>\n",
       "      <td>0.999998</td>\n",
       "    </tr>\n",
       "    <tr>\n",
       "      <th>22517</th>\n",
       "      <td>1</td>\n",
       "      <td>1.000000</td>\n",
       "      <td>0.999998</td>\n",
       "    </tr>\n",
       "    <tr>\n",
       "      <th>8290</th>\n",
       "      <th>22920</th>\n",
       "      <td>1</td>\n",
       "      <td>0.999999</td>\n",
       "      <td>0.999999</td>\n",
       "    </tr>\n",
       "    <tr>\n",
       "      <th>...</th>\n",
       "      <th>...</th>\n",
       "      <td>...</td>\n",
       "      <td>...</td>\n",
       "      <td>...</td>\n",
       "    </tr>\n",
       "    <tr>\n",
       "      <th>14879</th>\n",
       "      <th>22633</th>\n",
       "      <td>1</td>\n",
       "      <td>0.999997</td>\n",
       "      <td>0.999998</td>\n",
       "    </tr>\n",
       "    <tr>\n",
       "      <th>10766</th>\n",
       "      <th>22780</th>\n",
       "      <td>1</td>\n",
       "      <td>0.999998</td>\n",
       "      <td>1.000000</td>\n",
       "    </tr>\n",
       "    <tr>\n",
       "      <th>10797</th>\n",
       "      <th>23085</th>\n",
       "      <td>1</td>\n",
       "      <td>1.000000</td>\n",
       "      <td>0.999998</td>\n",
       "    </tr>\n",
       "    <tr>\n",
       "      <th>20993</th>\n",
       "      <th>22570</th>\n",
       "      <td>1</td>\n",
       "      <td>0.999999</td>\n",
       "      <td>0.999997</td>\n",
       "    </tr>\n",
       "    <tr>\n",
       "      <th>20196</th>\n",
       "      <th>22985</th>\n",
       "      <td>1</td>\n",
       "      <td>0.999999</td>\n",
       "      <td>0.999999</td>\n",
       "    </tr>\n",
       "  </tbody>\n",
       "</table>\n",
       "<p>106 rows × 3 columns</p>\n",
       "</div>"
      ],
      "text/plain": [
       "             postalcode       lat       lng\n",
       "12125 22515           1  1.000000  0.999998\n",
       "      22517           1  1.000000  0.999998\n",
       "12126 22515           1  1.000000  0.999998\n",
       "      22517           1  1.000000  0.999998\n",
       "8290  22920           1  0.999999  0.999999\n",
       "...                 ...       ...       ...\n",
       "14879 22633           1  0.999997  0.999998\n",
       "10766 22780           1  0.999998  1.000000\n",
       "10797 23085           1  1.000000  0.999998\n",
       "20993 22570           1  0.999999  0.999997\n",
       "20196 22985           1  0.999999  0.999999\n",
       "\n",
       "[106 rows x 3 columns]"
      ]
     },
     "execution_count": 30,
     "metadata": {},
     "output_type": "execute_result"
    }
   ],
   "source": [
    "features[features.sum(axis=1) > 2.999982]"
   ]
  },
  {
   "cell_type": "code",
   "execution_count": null,
   "metadata": {},
   "outputs": [],
   "source": []
  },
  {
   "cell_type": "code",
   "execution_count": null,
   "metadata": {},
   "outputs": [],
   "source": []
  },
  {
   "cell_type": "code",
   "execution_count": 31,
   "metadata": {},
   "outputs": [],
   "source": [
    "\n",
    "rl.write_annotation_file(\n",
    "    \"annotation_bnb_vrb.json\",\n",
    "    features[features.sum(axis=1) > 2.999982  ].index,\n",
    "    df_bnb[['wsa_listing_id', 'customer_name', 'site', 'listing_id', 'house_name', 'city', 'postalcode', 'bedrooms', 'bathrooms', 'beds', 'person_capacity', 'host_name', 'host_picture', 'instant_bookable', 'is_new_listing', 'region', 'lat', 'lng', 'picture_url', 'reviews_count', 'property_type', 'kpi_instant_bookable', 'listing_url', 'first_found_date', 'listing_published', 'listing_can_book']],\n",
    "    df_verb[['wsa_listing_id', 'customer_name', 'site', 'listing_id', 'house_name', 'city', 'postalcode', 'bedrooms', 'bathrooms', 'beds', 'person_capacity', 'host_name', 'host_picture', 'instant_bookable', 'is_new_listing', 'region', 'lat', 'lng', 'picture_url', 'reviews_count', 'property_type', 'kpi_instant_bookable', 'listing_url', 'first_found_date', 'listing_published', 'listing_can_book']],\n",
    "    dataset_a_name=\"AirBnb\",\n",
    "    dataset_b_name=\"VRBO\"\n",
    ")"
   ]
  },
  {
   "cell_type": "code",
   "execution_count": 46,
   "metadata": {},
   "outputs": [
    {
     "data": {
      "text/plain": [
       "'https://www.vrbo.com/nl-nl/vakantiewoning/p8848002?noDates=true'"
      ]
     },
     "execution_count": 46,
     "metadata": {},
     "output_type": "execute_result"
    }
   ],
   "source": [
    "df_verb['listing_url'].loc[23085]"
   ]
  },
  {
   "cell_type": "code",
   "execution_count": 42,
   "metadata": {},
   "outputs": [
    {
     "data": {
      "text/plain": [
       "'https://a0.muscache.com/im/pictures/cea0b565-370d-4bfe-a80c-b90a155aae9b.jpg?aki_policy=large'"
      ]
     },
     "execution_count": 42,
     "metadata": {},
     "output_type": "execute_result"
    }
   ],
   "source": [
    "\n",
    "df_bnb['picture_url'].loc[7959]"
   ]
  },
  {
   "cell_type": "code",
   "execution_count": 50,
   "metadata": {},
   "outputs": [
    {
     "name": "stdout",
     "output_type": "stream",
     "text": [
      "Matches in AirBnB and VRBO with Postal code Lat, Ln: 19\n",
      "Non-matches in AirBnB and VRBO with Postal code Lat, Ln: 87\n"
     ]
    }
   ],
   "source": [
    "result = rl.read_annotation_file('result_bnb_vrb.json')\n",
    "print('Matches in AirBnB and VRBO with Postal code Lat, Ln:',len(result.links))\n",
    "print('Non-matches in AirBnB and VRBO with Postal code Lat, Ln:',len(result.distinct))"
   ]
  },
  {
   "cell_type": "code",
   "execution_count": 80,
   "metadata": {},
   "outputs": [
    {
     "name": "stdout",
     "output_type": "stream",
     "text": [
      "783\n"
     ]
    }
   ],
   "source": [
    "#indexer = recordlinkage.Index()\n",
    "indexer = rl.BlockIndex(on='postalcode')\n",
    "candidate_links = indexer.index(df_bnb, df_trip)\n",
    "\n",
    "print (len(candidate_links))"
   ]
  },
  {
   "cell_type": "code",
   "execution_count": 81,
   "metadata": {},
   "outputs": [],
   "source": [
    "compare_cl = rl.Compare()\n",
    "\n",
    "compare_cl.exact('postalcode', 'postalcode', label='postalcode')\n",
    "compare_cl.numeric('lat', 'lat', label='lat')\n",
    "compare_cl.numeric('lng', 'lng', label='lng')\n",
    "\n",
    "\n",
    "features = compare_cl.compute(candidate_links, df_bnb, df_trip)"
   ]
  },
  {
   "cell_type": "code",
   "execution_count": 82,
   "metadata": {},
   "outputs": [
    {
     "data": {
      "text/plain": [
       "2.999904    1\n",
       "2.999903    1\n",
       "2.999903    1\n",
       "2.999903    2\n",
       "2.999903    2\n",
       "2.999902    1\n",
       "2.999902    1\n",
       "2.999900    1\n",
       "2.999900    1\n",
       "2.999899    1\n",
       "2.999898    1\n",
       "2.999898    1\n",
       "2.999897    2\n",
       "2.999897    1\n",
       "2.999896    1\n",
       "2.999895    1\n",
       "2.999895    1\n",
       "2.999893    6\n",
       "2.999893    1\n",
       "2.999892    1\n",
       "dtype: int64"
      ]
     },
     "execution_count": 82,
     "metadata": {},
     "output_type": "execute_result"
    }
   ],
   "source": [
    "features.sum(axis=1).value_counts().sort_index(ascending=False).iloc[80:100]"
   ]
  },
  {
   "cell_type": "code",
   "execution_count": 83,
   "metadata": {},
   "outputs": [
    {
     "data": {
      "text/html": [
       "<div>\n",
       "<style scoped>\n",
       "    .dataframe tbody tr th:only-of-type {\n",
       "        vertical-align: middle;\n",
       "    }\n",
       "\n",
       "    .dataframe tbody tr th {\n",
       "        vertical-align: top;\n",
       "    }\n",
       "\n",
       "    .dataframe thead th {\n",
       "        text-align: right;\n",
       "    }\n",
       "</style>\n",
       "<table border=\"1\" class=\"dataframe\">\n",
       "  <thead>\n",
       "    <tr style=\"text-align: right;\">\n",
       "      <th></th>\n",
       "      <th></th>\n",
       "      <th>postalcode</th>\n",
       "      <th>lat</th>\n",
       "      <th>lng</th>\n",
       "    </tr>\n",
       "  </thead>\n",
       "  <tbody>\n",
       "    <tr>\n",
       "      <th>86</th>\n",
       "      <th>22424</th>\n",
       "      <td>1</td>\n",
       "      <td>0.999997</td>\n",
       "      <td>0.999951</td>\n",
       "    </tr>\n",
       "    <tr>\n",
       "      <th>293</th>\n",
       "      <th>22009</th>\n",
       "      <td>1</td>\n",
       "      <td>0.999962</td>\n",
       "      <td>0.999945</td>\n",
       "    </tr>\n",
       "    <tr>\n",
       "      <th>3681</th>\n",
       "      <th>22009</th>\n",
       "      <td>1</td>\n",
       "      <td>0.999978</td>\n",
       "      <td>0.999970</td>\n",
       "    </tr>\n",
       "    <tr>\n",
       "      <th>458</th>\n",
       "      <th>22302</th>\n",
       "      <td>1</td>\n",
       "      <td>0.999995</td>\n",
       "      <td>0.999931</td>\n",
       "    </tr>\n",
       "    <tr>\n",
       "      <th>461</th>\n",
       "      <th>22075</th>\n",
       "      <td>1</td>\n",
       "      <td>0.999976</td>\n",
       "      <td>0.999987</td>\n",
       "    </tr>\n",
       "    <tr>\n",
       "      <th>...</th>\n",
       "      <th>...</th>\n",
       "      <td>...</td>\n",
       "      <td>...</td>\n",
       "      <td>...</td>\n",
       "    </tr>\n",
       "    <tr>\n",
       "      <th rowspan=\"2\" valign=\"top\">18094</th>\n",
       "      <th>22176</th>\n",
       "      <td>1</td>\n",
       "      <td>0.999969</td>\n",
       "      <td>0.999960</td>\n",
       "    </tr>\n",
       "    <tr>\n",
       "      <th>22239</th>\n",
       "      <td>1</td>\n",
       "      <td>0.999969</td>\n",
       "      <td>0.999960</td>\n",
       "    </tr>\n",
       "    <tr>\n",
       "      <th>19168</th>\n",
       "      <th>22011</th>\n",
       "      <td>1</td>\n",
       "      <td>0.999997</td>\n",
       "      <td>0.999898</td>\n",
       "    </tr>\n",
       "    <tr>\n",
       "      <th rowspan=\"2\" valign=\"top\">20799</th>\n",
       "      <th>22408</th>\n",
       "      <td>1</td>\n",
       "      <td>0.999994</td>\n",
       "      <td>0.999947</td>\n",
       "    </tr>\n",
       "    <tr>\n",
       "      <th>22421</th>\n",
       "      <td>1</td>\n",
       "      <td>0.999992</td>\n",
       "      <td>0.999951</td>\n",
       "    </tr>\n",
       "  </tbody>\n",
       "</table>\n",
       "<p>129 rows × 3 columns</p>\n",
       "</div>"
      ],
      "text/plain": [
       "             postalcode       lat       lng\n",
       "86    22424           1  0.999997  0.999951\n",
       "293   22009           1  0.999962  0.999945\n",
       "3681  22009           1  0.999978  0.999970\n",
       "458   22302           1  0.999995  0.999931\n",
       "461   22075           1  0.999976  0.999987\n",
       "...                 ...       ...       ...\n",
       "18094 22176           1  0.999969  0.999960\n",
       "      22239           1  0.999969  0.999960\n",
       "19168 22011           1  0.999997  0.999898\n",
       "20799 22408           1  0.999994  0.999947\n",
       "      22421           1  0.999992  0.999951\n",
       "\n",
       "[129 rows x 3 columns]"
      ]
     },
     "execution_count": 83,
     "metadata": {},
     "output_type": "execute_result"
    }
   ],
   "source": [
    "features[features.sum(axis=1) > 2.999892 ]"
   ]
  },
  {
   "cell_type": "code",
   "execution_count": 78,
   "metadata": {},
   "outputs": [
    {
     "name": "stdout",
     "output_type": "stream",
     "text": [
      "wsa_listing_id                                       15454\n",
      "customer_name                                    Amsterdam\n",
      "site                                                AIRBNB\n",
      "listing_id                                          920560\n",
      "house_name                                   The Guestroom\n",
      "city                                             Amsterdam\n",
      "postalcode                                         1098 CP\n",
      "bedrooms                                              1,00\n",
      "bathrooms                                             1,00\n",
      "beds                                                  2,00\n",
      "person_capacity                                          4\n",
      "instant_bookable                                         1\n",
      "is_new_listing                                           0\n",
      "region                                      Amsterdam-Oost\n",
      "lat                                                52.3545\n",
      "lng                                                4.93366\n",
      "reviews_count                                          108\n",
      "kpi_instant_bookable                                     1\n",
      "listing_url             https://www.airbnb.nl/rooms/920560\n",
      "first_found_date                                12-10-2020\n",
      "listing_published                                       -1\n",
      "listing_can_book                                        -1\n",
      "Name: 20799, dtype: object\n",
      "wsa_listing_id                                                      78360\n",
      "customer_name                                                   Amsterdam\n",
      "site                                                          Tripadvisor\n",
      "listing_id                                                       d4147341\n",
      "house_name                                                  The Guestroom\n",
      "city                                                            Amsterdam\n",
      "postalcode                                                        1098 CP\n",
      "bedrooms                                                             0,00\n",
      "bathrooms                                                            0,00\n",
      "beds                                                                 0,00\n",
      "person_capacity                                                         0\n",
      "instant_bookable                                                        0\n",
      "is_new_listing                                                          0\n",
      "region                                                     Amsterdam-Oost\n",
      "lat                                                               52.3545\n",
      "lng                                                               4.93355\n",
      "reviews_count                                                           0\n",
      "kpi_instant_bookable                                                    0\n",
      "listing_url             https://www.tripadvisor.nl/VacationRentalRevie...\n",
      "first_found_date                                        8-9-2021 13:53:58\n",
      "listing_published                                                      -1\n",
      "listing_can_book                                                        0\n",
      "Name: 22408, dtype: object\n"
     ]
    }
   ],
   "source": [
    "print(df_bnb[nan_trip.keys()].loc[20799])\n",
    "print(df_trip[nan_trip.keys()].loc[22408])"
   ]
  },
  {
   "cell_type": "code",
   "execution_count": 84,
   "metadata": {},
   "outputs": [],
   "source": [
    "rl.write_annotation_file(\n",
    "    \"annotation_bnb_trip.json\",\n",
    "    features[features.sum(axis=1) > 2.999892 ].index,\n",
    "    df_bnb[nan_trip.keys()],\n",
    "    df_trip[nan_trip.keys()],\n",
    "    dataset_a_name=\"AirBnb\",\n",
    "    dataset_b_name=\"Trip\"\n",
    ")"
   ]
  },
  {
   "cell_type": "code",
   "execution_count": 86,
   "metadata": {},
   "outputs": [
    {
     "data": {
      "text/plain": [
       "nan"
      ]
     },
     "execution_count": 86,
     "metadata": {},
     "output_type": "execute_result"
    }
   ],
   "source": [
    "df_trip['picture_url'].loc[22009]\n"
   ]
  },
  {
   "cell_type": "code",
   "execution_count": 89,
   "metadata": {},
   "outputs": [
    {
     "data": {
      "text/plain": [
       "'https://a0.muscache.com/im/pictures/ab5d3785-4977-463f-8d85-f46c7d52807d.jpg?aki_policy=large'"
      ]
     },
     "execution_count": 89,
     "metadata": {},
     "output_type": "execute_result"
    }
   ],
   "source": [
    "df_bnb['picture_url'].loc[743]\n"
   ]
  },
  {
   "cell_type": "code",
   "execution_count": 106,
   "metadata": {},
   "outputs": [
    {
     "name": "stdout",
     "output_type": "stream",
     "text": [
      "Matches in AirBnB and VRBO with Postal code Lat, Ln: 28\n",
      "Non-matches in AirBnB and VRBO with Postal code Lat, Ln: 101\n"
     ]
    }
   ],
   "source": [
    "result = rl.read_annotation_file('result_bnb_trip.json')\n",
    "print('Matches in AirBnB and VRBO with Postal code Lat, Ln:',len(result.links))\n",
    "print('Non-matches in AirBnB and VRBO with Postal code Lat, Ln:',len(result.distinct))"
   ]
  },
  {
   "cell_type": "code",
   "execution_count": null,
   "metadata": {},
   "outputs": [],
   "source": []
  },
  {
   "cell_type": "code",
   "execution_count": null,
   "metadata": {},
   "outputs": [],
   "source": []
  }
 ],
 "metadata": {
  "interpreter": {
   "hash": "88a2f7f577888eb2710e0d5d9756c4025ff3188af31a1b3845b611b72892981c"
  },
  "kernelspec": {
   "display_name": "Python 3",
   "language": "python",
   "name": "python3"
  },
  "language_info": {
   "codemirror_mode": {
    "name": "ipython",
    "version": 3
   },
   "file_extension": ".py",
   "mimetype": "text/x-python",
   "name": "python",
   "nbconvert_exporter": "python",
   "pygments_lexer": "ipython3",
   "version": "3.8.5"
  }
 },
 "nbformat": 4,
 "nbformat_minor": 2
}
