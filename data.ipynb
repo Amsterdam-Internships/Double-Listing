{
 "cells": [
  {
   "cell_type": "code",
   "execution_count": 1,
   "metadata": {},
   "outputs": [],
   "source": [
    "import pandas as pd\n",
    "import numpy as np\n",
    "import recordlinkage as rl \n",
    "from recordlinkage.index import Block"
   ]
  },
  {
   "cell_type": "code",
   "execution_count": 2,
   "metadata": {},
   "outputs": [],
   "source": [
    "df_frame = pd.read_csv(\"tbl_listing_info_amsterdam_20200104.csv\")"
   ]
  },
  {
   "cell_type": "code",
   "execution_count": 3,
   "metadata": {},
   "outputs": [
    {
     "name": "stdout",
     "output_type": "stream",
     "text": [
      "Index(['wsa_listing_id', 'customer_name', 'site', 'listing_id',\n",
      "       'registration_number', 'house_name', 'city', 'postalcode', 'bedrooms',\n",
      "       'bathrooms', 'beds', 'person_capacity', 'host_name', 'host_id',\n",
      "       'host_picture', 'instant_bookable', 'is_new_listing', 'region', 'lat',\n",
      "       'lng', 'picture_url', 'reviews_count', 'room_type_category',\n",
      "       'room_type', 'space_type', 'property_type', 'booking_count',\n",
      "       'host_listings_count_hist', 'kpi_capacity_more_than_4',\n",
      "       'kpi_capacity_more_than_6', 'kpi_instant_bookable',\n",
      "       'kpi_host_lists_multiple', 'kpi_host_lists_10_or_more', 'days_active',\n",
      "       'host_start_year', 'host_start_month', 'reviews_year',\n",
      "       'reviews_6_months', 'reviews_3_months', 'reviews_1_month', 'rating_avg',\n",
      "       'bad_ratings_count', 'year_total_available', '2021-06_available_days',\n",
      "       '2021-07_available_days', '2021-08_available_days',\n",
      "       '2021-09_available_days', '2021-10_available_days',\n",
      "       '2021-11_available_days', '2021-12_available_days',\n",
      "       '2022-01_available_days', '2022-02_available_days',\n",
      "       '2022-03_available_days', '2022-04_available_days',\n",
      "       '2022-05_available_days', 'first_bookable_date',\n",
      "       'host_popularity_score_percentage', 'host_reviews_per_listing',\n",
      "       'host_reviews_per_year', 'listing_url', 'first_found_date',\n",
      "       'last_found_date', 'listing_published', 'listing_can_book'],\n",
      "      dtype='object')\n",
      "23173\n"
     ]
    }
   ],
   "source": [
    "print(df_frame.columns)\n",
    "print(len(df_frame))"
   ]
  },
  {
   "cell_type": "code",
   "execution_count": 4,
   "metadata": {},
   "outputs": [
    {
     "name": "stdout",
     "output_type": "stream",
     "text": [
      "{'Booking', 'VRBO', 'Tripadvisor', 'Expedia', 'AIRBNB'}\n"
     ]
    }
   ],
   "source": [
    "platforms = set([x for x in df_frame['site']])\n",
    "print(platforms)"
   ]
  },
  {
   "cell_type": "code",
   "execution_count": 5,
   "metadata": {},
   "outputs": [
    {
     "name": "stdout",
     "output_type": "stream",
     "text": [
      "https://a0.muscache.com/im/pictures/53e16c98-8e9a-4c13-993a-f4e32d044fc7.jpg?aki_policy=large\n",
      "https://a0.muscache.com/im/pictures/user/81f43f29-7c6c-4105-bca6-ed4dc2137794.jpg?aki_policy=profile_x_medium\n"
     ]
    }
   ],
   "source": [
    "print(df_frame['picture_url'].loc[4])\n",
    "print(df_frame['host_picture'].loc[4])"
   ]
  },
  {
   "cell_type": "code",
   "execution_count": 13,
   "metadata": {},
   "outputs": [],
   "source": [
    "def tot_nan_column(df,column):  \n",
    "    df[column].notna().sum()\n",
    "    nan_val= df[column].notna().sum()\n",
    "    return nan_val"
   ]
  },
  {
   "cell_type": "code",
   "execution_count": 6,
   "metadata": {},
   "outputs": [],
   "source": [
    "df_bnb = df_frame[df_frame['site'] == 'AIRBNB']\n",
    "df_book = df_frame[df_frame['site'] == 'Booking']\n",
    "df_exp = df_frame[df_frame['site'] == 'Expedia']\n",
    "df_trip = df_frame[df_frame['site'] == 'Tripadvisor']\n",
    "df_verb = df_frame[df_frame['site'] == 'VRBO']"
   ]
  },
  {
   "cell_type": "code",
   "execution_count": 7,
   "metadata": {},
   "outputs": [
    {
     "name": "stdout",
     "output_type": "stream",
     "text": [
      "AIRBNB total lisitngs :  21173\n",
      "Booking total lisitngs :  621\n",
      "Expedia total lisitngs :  168\n",
      "Tripadvisor total lisitngs :  523\n",
      "VRBO total lisitngs :  688\n"
     ]
    }
   ],
   "source": [
    "print('AIRBNB total lisitngs : ',len(df_bnb))\n",
    "print('Booking total lisitngs : ',len(df_book))\n",
    "print('Expedia total lisitngs : ',len(df_exp))\n",
    "print('Tripadvisor total lisitngs : ',len(df_trip))\n",
    "print('VRBO total lisitngs : ',len(df_verb))"
   ]
  },
  {
   "cell_type": "code",
   "execution_count": 14,
   "metadata": {},
   "outputs": [
    {
     "name": "stdout",
     "output_type": "stream",
     "text": [
      "Total longitude 21921\n",
      "Total latitude 21921\n",
      "Total AirBnB longitude 19921\n",
      "Total AirBnB latitude 19921\n",
      "Total Booking longitude 621\n",
      "Total Booking latitude 621\n",
      "Total Expedia longitude 168\n",
      "Total Expedia latitude 168\n",
      "Total TripAD longitude 523\n",
      "Total TripAD latitude 523\n",
      "Total VRBO longitude 688\n",
      "Total VRBO latitude 688\n"
     ]
    }
   ],
   "source": [
    "print('Total longitude',tot_nan_column(df_frame,'lng'))\n",
    "print('Total latitude',tot_nan_column(df_frame,'lat'))\n",
    "print('Total AirBnB longitude',tot_nan_column(df_bnb,'lng'))\n",
    "print('Total AirBnB latitude',tot_nan_column(df_bnb,'lat'))\n",
    "print('Total Booking longitude',tot_nan_column(df_book,'lng'))\n",
    "print('Total Booking latitude',tot_nan_column(df_book,'lat'))\n",
    "print('Total Expedia longitude',tot_nan_column(df_exp,'lng'))\n",
    "print('Total Expedia latitude',tot_nan_column(df_exp,'lat'))\n",
    "print('Total TripAD longitude',tot_nan_column(df_trip,'lng'))\n",
    "print('Total TripAD latitude',tot_nan_column(df_trip,'lat'))\n",
    "print('Total VRBO longitude',tot_nan_column(df_verb,'lng'))\n",
    "print('Total VRBO latitude',tot_nan_column(df_verb,'lat'))"
   ]
  },
  {
   "cell_type": "code",
   "execution_count": 8,
   "metadata": {},
   "outputs": [
    {
     "name": "stderr",
     "output_type": "stream",
     "text": [
      "<ipython-input-8-540c2addb53d>:1: SettingWithCopyWarning: \n",
      "A value is trying to be set on a copy of a slice from a DataFrame.\n",
      "Try using .loc[row_indexer,col_indexer] = value instead\n",
      "\n",
      "See the caveats in the documentation: https://pandas.pydata.org/pandas-docs/stable/user_guide/indexing.html#returning-a-view-versus-a-copy\n",
      "  df_bnb['postalcode'] = df_bnb['postalcode'].map(lambda x: float(\"NaN\") if x =='Onbekend' else x)\n"
     ]
    },
    {
     "data": {
      "text/plain": [
       "0            NaN\n",
       "1            NaN\n",
       "2            NaN\n",
       "3            NaN\n",
       "4        1072 JR\n",
       "          ...   \n",
       "21254        NaN\n",
       "21255        NaN\n",
       "21256        NaN\n",
       "21257    1013 SP\n",
       "21258        NaN\n",
       "Name: postalcode, Length: 21173, dtype: object"
      ]
     },
     "execution_count": 8,
     "metadata": {},
     "output_type": "execute_result"
    }
   ],
   "source": [
    "df_bnb['postalcode'] = df_bnb['postalcode'].map(lambda x: float(\"NaN\") if x =='Onbekend' else x)\n",
    "df_bnb['postalcode']"
   ]
  },
  {
   "cell_type": "code",
   "execution_count": 9,
   "metadata": {},
   "outputs": [],
   "source": [
    "#Calculate non nan values in their columns\n",
    "def in_nan(site):\n",
    "       nan_val = {}\n",
    "       for x in df_frame.columns :   \n",
    "              if df_frame[df_frame['site'] == site][x].notna().sum() != 0:\n",
    "                     nan_val[x]= df_frame[df_frame['site'] == site][x].notna().sum()\n",
    "                     \n",
    "       return nan_val"
   ]
  },
  {
   "cell_type": "code",
   "execution_count": 10,
   "metadata": {},
   "outputs": [],
   "source": [
    "#Not nan values in their columns\n",
    "nan_aribnb = in_nan('AIRBNB')\n",
    "nan_book = in_nan('Booking')\n",
    "nan_exp = in_nan('Expedia')\n",
    "nan_trip = in_nan('Tripadvisor')\n",
    "nan_vrb = in_nan('VRBO')"
   ]
  },
  {
   "cell_type": "code",
   "execution_count": 70,
   "metadata": {},
   "outputs": [
    {
     "data": {
      "text/plain": [
       "dict_keys(['wsa_listing_id', 'customer_name', 'site', 'listing_id', 'house_name', 'city', 'postalcode', 'bedrooms', 'bathrooms', 'beds', 'person_capacity', 'instant_bookable', 'is_new_listing', 'region', 'lat', 'lng', 'reviews_count', 'kpi_instant_bookable', 'listing_url', 'first_found_date', 'listing_published', 'listing_can_book'])"
      ]
     },
     "execution_count": 70,
     "metadata": {},
     "output_type": "execute_result"
    }
   ],
   "source": [
    "nan_trip.keys()"
   ]
  },
  {
   "cell_type": "code",
   "execution_count": 12,
   "metadata": {},
   "outputs": [
    {
     "name": "stdout",
     "output_type": "stream",
     "text": [
      "aribnb columns withouth nan values: 62\n",
      "book columns without nan values: 26\n",
      "exp columns without nan values: 21\n",
      "trip columns without nan values: 22\n",
      "vrb columns without nan values: 26\n"
     ]
    }
   ],
   "source": [
    "print('aribnb columns withouth nan values:' , len(nan_aribnb))\n",
    "print('book columns without nan values:' , len(nan_book))\n",
    "print('exp columns without nan values:' , len(nan_exp))\n",
    "print('trip columns without nan values:' , len(nan_trip))\n",
    "print('vrb columns without nan values:' , len(nan_vrb))"
   ]
  },
  {
   "cell_type": "code",
   "execution_count": null,
   "metadata": {},
   "outputs": [],
   "source": []
  },
  {
   "cell_type": "code",
   "execution_count": 14,
   "metadata": {},
   "outputs": [
    {
     "name": "stdout",
     "output_type": "stream",
     "text": [
      "1186\n"
     ]
    }
   ],
   "source": [
    "#indexer = recordlinkage.Index()\n",
    "indexer = rl.BlockIndex(on='postalcode')\n",
    "candidate_links = indexer.index(df_bnb, df_verb)\n",
    "\n",
    "print (len(candidate_links))"
   ]
  },
  {
   "cell_type": "code",
   "execution_count": 15,
   "metadata": {},
   "outputs": [],
   "source": [
    "compare_cl = rl.Compare()\n",
    "\n",
    "compare_cl.exact('postalcode', 'postalcode', label='postalcode')\n",
    "compare_cl.numeric('lat', 'lat', label='lat')\n",
    "compare_cl.numeric('lng', 'lng', label='lng')\n",
    "\n",
    "\n",
    "features = compare_cl.compute(candidate_links, df_bnb, df_verb)"
   ]
  },
  {
   "cell_type": "code",
   "execution_count": 17,
   "metadata": {},
   "outputs": [
    {
     "data": {
      "text/plain": [
       "2.999999     1\n",
       "2.999998     1\n",
       "2.999998     1\n",
       "2.999998     1\n",
       "2.999998     1\n",
       "2.999997     4\n",
       "2.999997     1\n",
       "2.999997    45\n",
       "2.999997     1\n",
       "2.999996     1\n",
       "2.999996     1\n",
       "2.999995     1\n",
       "2.999984    11\n",
       "2.999983    36\n",
       "2.999982     1\n",
       "2.999980     1\n",
       "2.999977     1\n",
       "2.999977     1\n",
       "2.999976     1\n",
       "2.999974     1\n",
       "dtype: int64"
      ]
     },
     "execution_count": 17,
     "metadata": {},
     "output_type": "execute_result"
    }
   ],
   "source": [
    "features.sum(axis=1).value_counts().sort_index(ascending=False).iloc[:20]"
   ]
  },
  {
   "cell_type": "code",
   "execution_count": 30,
   "metadata": {},
   "outputs": [
    {
     "data": {
      "text/html": [
       "<div>\n",
       "<style scoped>\n",
       "    .dataframe tbody tr th:only-of-type {\n",
       "        vertical-align: middle;\n",
       "    }\n",
       "\n",
       "    .dataframe tbody tr th {\n",
       "        vertical-align: top;\n",
       "    }\n",
       "\n",
       "    .dataframe thead th {\n",
       "        text-align: right;\n",
       "    }\n",
       "</style>\n",
       "<table border=\"1\" class=\"dataframe\">\n",
       "  <thead>\n",
       "    <tr style=\"text-align: right;\">\n",
       "      <th></th>\n",
       "      <th></th>\n",
       "      <th>postalcode</th>\n",
       "      <th>lat</th>\n",
       "      <th>lng</th>\n",
       "    </tr>\n",
       "  </thead>\n",
       "  <tbody>\n",
       "    <tr>\n",
       "      <th rowspan=\"2\" valign=\"top\">12125</th>\n",
       "      <th>22515</th>\n",
       "      <td>1</td>\n",
       "      <td>1.000000</td>\n",
       "      <td>0.999998</td>\n",
       "    </tr>\n",
       "    <tr>\n",
       "      <th>22517</th>\n",
       "      <td>1</td>\n",
       "      <td>1.000000</td>\n",
       "      <td>0.999998</td>\n",
       "    </tr>\n",
       "    <tr>\n",
       "      <th rowspan=\"2\" valign=\"top\">12126</th>\n",
       "      <th>22515</th>\n",
       "      <td>1</td>\n",
       "      <td>1.000000</td>\n",
       "      <td>0.999998</td>\n",
       "    </tr>\n",
       "    <tr>\n",
       "      <th>22517</th>\n",
       "      <td>1</td>\n",
       "      <td>1.000000</td>\n",
       "      <td>0.999998</td>\n",
       "    </tr>\n",
       "    <tr>\n",
       "      <th>8290</th>\n",
       "      <th>22920</th>\n",
       "      <td>1</td>\n",
       "      <td>0.999999</td>\n",
       "      <td>0.999999</td>\n",
       "    </tr>\n",
       "    <tr>\n",
       "      <th>...</th>\n",
       "      <th>...</th>\n",
       "      <td>...</td>\n",
       "      <td>...</td>\n",
       "      <td>...</td>\n",
       "    </tr>\n",
       "    <tr>\n",
       "      <th>14879</th>\n",
       "      <th>22633</th>\n",
       "      <td>1</td>\n",
       "      <td>0.999997</td>\n",
       "      <td>0.999998</td>\n",
       "    </tr>\n",
       "    <tr>\n",
       "      <th>10766</th>\n",
       "      <th>22780</th>\n",
       "      <td>1</td>\n",
       "      <td>0.999998</td>\n",
       "      <td>1.000000</td>\n",
       "    </tr>\n",
       "    <tr>\n",
       "      <th>10797</th>\n",
       "      <th>23085</th>\n",
       "      <td>1</td>\n",
       "      <td>1.000000</td>\n",
       "      <td>0.999998</td>\n",
       "    </tr>\n",
       "    <tr>\n",
       "      <th>20993</th>\n",
       "      <th>22570</th>\n",
       "      <td>1</td>\n",
       "      <td>0.999999</td>\n",
       "      <td>0.999997</td>\n",
       "    </tr>\n",
       "    <tr>\n",
       "      <th>20196</th>\n",
       "      <th>22985</th>\n",
       "      <td>1</td>\n",
       "      <td>0.999999</td>\n",
       "      <td>0.999999</td>\n",
       "    </tr>\n",
       "  </tbody>\n",
       "</table>\n",
       "<p>106 rows × 3 columns</p>\n",
       "</div>"
      ],
      "text/plain": [
       "             postalcode       lat       lng\n",
       "12125 22515           1  1.000000  0.999998\n",
       "      22517           1  1.000000  0.999998\n",
       "12126 22515           1  1.000000  0.999998\n",
       "      22517           1  1.000000  0.999998\n",
       "8290  22920           1  0.999999  0.999999\n",
       "...                 ...       ...       ...\n",
       "14879 22633           1  0.999997  0.999998\n",
       "10766 22780           1  0.999998  1.000000\n",
       "10797 23085           1  1.000000  0.999998\n",
       "20993 22570           1  0.999999  0.999997\n",
       "20196 22985           1  0.999999  0.999999\n",
       "\n",
       "[106 rows x 3 columns]"
      ]
     },
     "execution_count": 30,
     "metadata": {},
     "output_type": "execute_result"
    }
   ],
   "source": [
    "features[features.sum(axis=1) > 2.999982]"
   ]
  },
  {
   "cell_type": "code",
   "execution_count": null,
   "metadata": {},
   "outputs": [],
   "source": []
  },
  {
   "cell_type": "code",
   "execution_count": null,
   "metadata": {},
   "outputs": [],
   "source": []
  },
  {
   "cell_type": "code",
   "execution_count": 31,
   "metadata": {},
   "outputs": [],
   "source": [
    "\n",
    "rl.write_annotation_file(\n",
    "    \"annotation_bnb_vrb.json\",\n",
    "    features[features.sum(axis=1) > 2.999982  ].index,\n",
    "    df_bnb[['wsa_listing_id', 'customer_name', 'site', 'listing_id', 'house_name', 'city', 'postalcode', 'bedrooms', 'bathrooms', 'beds', 'person_capacity', 'host_name', 'host_picture', 'instant_bookable', 'is_new_listing', 'region', 'lat', 'lng', 'picture_url', 'reviews_count', 'property_type', 'kpi_instant_bookable', 'listing_url', 'first_found_date', 'listing_published', 'listing_can_book']],\n",
    "    df_verb[['wsa_listing_id', 'customer_name', 'site', 'listing_id', 'house_name', 'city', 'postalcode', 'bedrooms', 'bathrooms', 'beds', 'person_capacity', 'host_name', 'host_picture', 'instant_bookable', 'is_new_listing', 'region', 'lat', 'lng', 'picture_url', 'reviews_count', 'property_type', 'kpi_instant_bookable', 'listing_url', 'first_found_date', 'listing_published', 'listing_can_book']],\n",
    "    dataset_a_name=\"AirBnb\",\n",
    "    dataset_b_name=\"VRBO\"\n",
    ")"
   ]
  },
  {
   "cell_type": "code",
   "execution_count": 46,
   "metadata": {},
   "outputs": [
    {
     "data": {
      "text/plain": [
       "'https://www.vrbo.com/nl-nl/vakantiewoning/p8848002?noDates=true'"
      ]
     },
     "execution_count": 46,
     "metadata": {},
     "output_type": "execute_result"
    }
   ],
   "source": [
    "df_verb['listing_url'].loc[23085]"
   ]
  },
  {
   "cell_type": "code",
   "execution_count": 42,
   "metadata": {},
   "outputs": [
    {
     "data": {
      "text/plain": [
       "'https://a0.muscache.com/im/pictures/cea0b565-370d-4bfe-a80c-b90a155aae9b.jpg?aki_policy=large'"
      ]
     },
     "execution_count": 42,
     "metadata": {},
     "output_type": "execute_result"
    }
   ],
   "source": [
    "\n",
    "df_bnb['picture_url'].loc[7959]"
   ]
  },
  {
   "cell_type": "code",
   "execution_count": 50,
   "metadata": {},
   "outputs": [
    {
     "name": "stdout",
     "output_type": "stream",
     "text": [
      "Matches in AirBnB and VRBO with Postal code Lat, Ln: 19\n",
      "Non-matches in AirBnB and VRBO with Postal code Lat, Ln: 87\n"
     ]
    }
   ],
   "source": [
    "result = rl.read_annotation_file('result_bnb_vrb.json')\n",
    "print('Matches in AirBnB and VRBO with Postal code Lat, Ln:',len(result.links))\n",
    "print('Non-matches in AirBnB and VRBO with Postal code Lat, Ln:',len(result.distinct))"
   ]
  },
  {
   "cell_type": "code",
   "execution_count": 80,
   "metadata": {},
   "outputs": [
    {
     "name": "stdout",
     "output_type": "stream",
     "text": [
      "783\n"
     ]
    }
   ],
   "source": [
    "#indexer = recordlinkage.Index()\n",
    "indexer = rl.BlockIndex(on='postalcode')\n",
    "candidate_links = indexer.index(df_bnb, df_trip)\n",
    "\n",
    "print (len(candidate_links))"
   ]
  },
  {
   "cell_type": "code",
   "execution_count": 81,
   "metadata": {},
   "outputs": [],
   "source": [
    "compare_cl = rl.Compare()\n",
    "\n",
    "compare_cl.exact('postalcode', 'postalcode', label='postalcode')\n",
    "compare_cl.numeric('lat', 'lat', label='lat')\n",
    "compare_cl.numeric('lng', 'lng', label='lng')\n",
    "\n",
    "\n",
    "features = compare_cl.compute(candidate_links, df_bnb, df_trip)"
   ]
  },
  {
   "cell_type": "code",
   "execution_count": 82,
   "metadata": {},
   "outputs": [
    {
     "data": {
      "text/plain": [
       "2.999904    1\n",
       "2.999903    1\n",
       "2.999903    1\n",
       "2.999903    2\n",
       "2.999903    2\n",
       "2.999902    1\n",
       "2.999902    1\n",
       "2.999900    1\n",
       "2.999900    1\n",
       "2.999899    1\n",
       "2.999898    1\n",
       "2.999898    1\n",
       "2.999897    2\n",
       "2.999897    1\n",
       "2.999896    1\n",
       "2.999895    1\n",
       "2.999895    1\n",
       "2.999893    6\n",
       "2.999893    1\n",
       "2.999892    1\n",
       "dtype: int64"
      ]
     },
     "execution_count": 82,
     "metadata": {},
     "output_type": "execute_result"
    }
   ],
   "source": [
    "features.sum(axis=1).value_counts().sort_index(ascending=False).iloc[80:100]"
   ]
  },
  {
   "cell_type": "code",
   "execution_count": 83,
   "metadata": {},
   "outputs": [
    {
     "data": {
      "text/html": [
       "<div>\n",
       "<style scoped>\n",
       "    .dataframe tbody tr th:only-of-type {\n",
       "        vertical-align: middle;\n",
       "    }\n",
       "\n",
       "    .dataframe tbody tr th {\n",
       "        vertical-align: top;\n",
       "    }\n",
       "\n",
       "    .dataframe thead th {\n",
       "        text-align: right;\n",
       "    }\n",
       "</style>\n",
       "<table border=\"1\" class=\"dataframe\">\n",
       "  <thead>\n",
       "    <tr style=\"text-align: right;\">\n",
       "      <th></th>\n",
       "      <th></th>\n",
       "      <th>postalcode</th>\n",
       "      <th>lat</th>\n",
       "      <th>lng</th>\n",
       "    </tr>\n",
       "  </thead>\n",
       "  <tbody>\n",
       "    <tr>\n",
       "      <th>86</th>\n",
       "      <th>22424</th>\n",
       "      <td>1</td>\n",
       "      <td>0.999997</td>\n",
       "      <td>0.999951</td>\n",
       "    </tr>\n",
       "    <tr>\n",
       "      <th>293</th>\n",
       "      <th>22009</th>\n",
       "      <td>1</td>\n",
       "      <td>0.999962</td>\n",
       "      <td>0.999945</td>\n",
       "    </tr>\n",
       "    <tr>\n",
       "      <th>3681</th>\n",
       "      <th>22009</th>\n",
       "      <td>1</td>\n",
       "      <td>0.999978</td>\n",
       "      <td>0.999970</td>\n",
       "    </tr>\n",
       "    <tr>\n",
       "      <th>458</th>\n",
       "      <th>22302</th>\n",
       "      <td>1</td>\n",
       "      <td>0.999995</td>\n",
       "      <td>0.999931</td>\n",
       "    </tr>\n",
       "    <tr>\n",
       "      <th>461</th>\n",
       "      <th>22075</th>\n",
       "      <td>1</td>\n",
       "      <td>0.999976</td>\n",
       "      <td>0.999987</td>\n",
       "    </tr>\n",
       "    <tr>\n",
       "      <th>...</th>\n",
       "      <th>...</th>\n",
       "      <td>...</td>\n",
       "      <td>...</td>\n",
       "      <td>...</td>\n",
       "    </tr>\n",
       "    <tr>\n",
       "      <th rowspan=\"2\" valign=\"top\">18094</th>\n",
       "      <th>22176</th>\n",
       "      <td>1</td>\n",
       "      <td>0.999969</td>\n",
       "      <td>0.999960</td>\n",
       "    </tr>\n",
       "    <tr>\n",
       "      <th>22239</th>\n",
       "      <td>1</td>\n",
       "      <td>0.999969</td>\n",
       "      <td>0.999960</td>\n",
       "    </tr>\n",
       "    <tr>\n",
       "      <th>19168</th>\n",
       "      <th>22011</th>\n",
       "      <td>1</td>\n",
       "      <td>0.999997</td>\n",
       "      <td>0.999898</td>\n",
       "    </tr>\n",
       "    <tr>\n",
       "      <th rowspan=\"2\" valign=\"top\">20799</th>\n",
       "      <th>22408</th>\n",
       "      <td>1</td>\n",
       "      <td>0.999994</td>\n",
       "      <td>0.999947</td>\n",
       "    </tr>\n",
       "    <tr>\n",
       "      <th>22421</th>\n",
       "      <td>1</td>\n",
       "      <td>0.999992</td>\n",
       "      <td>0.999951</td>\n",
       "    </tr>\n",
       "  </tbody>\n",
       "</table>\n",
       "<p>129 rows × 3 columns</p>\n",
       "</div>"
      ],
      "text/plain": [
       "             postalcode       lat       lng\n",
       "86    22424           1  0.999997  0.999951\n",
       "293   22009           1  0.999962  0.999945\n",
       "3681  22009           1  0.999978  0.999970\n",
       "458   22302           1  0.999995  0.999931\n",
       "461   22075           1  0.999976  0.999987\n",
       "...                 ...       ...       ...\n",
       "18094 22176           1  0.999969  0.999960\n",
       "      22239           1  0.999969  0.999960\n",
       "19168 22011           1  0.999997  0.999898\n",
       "20799 22408           1  0.999994  0.999947\n",
       "      22421           1  0.999992  0.999951\n",
       "\n",
       "[129 rows x 3 columns]"
      ]
     },
     "execution_count": 83,
     "metadata": {},
     "output_type": "execute_result"
    }
   ],
   "source": [
    "features[features.sum(axis=1) > 2.999892 ]"
   ]
  },
  {
   "cell_type": "code",
   "execution_count": 78,
   "metadata": {},
   "outputs": [
    {
     "name": "stdout",
     "output_type": "stream",
     "text": [
      "wsa_listing_id                                       15454\n",
      "customer_name                                    Amsterdam\n",
      "site                                                AIRBNB\n",
      "listing_id                                          920560\n",
      "house_name                                   The Guestroom\n",
      "city                                             Amsterdam\n",
      "postalcode                                         1098 CP\n",
      "bedrooms                                              1,00\n",
      "bathrooms                                             1,00\n",
      "beds                                                  2,00\n",
      "person_capacity                                          4\n",
      "instant_bookable                                         1\n",
      "is_new_listing                                           0\n",
      "region                                      Amsterdam-Oost\n",
      "lat                                                52.3545\n",
      "lng                                                4.93366\n",
      "reviews_count                                          108\n",
      "kpi_instant_bookable                                     1\n",
      "listing_url             https://www.airbnb.nl/rooms/920560\n",
      "first_found_date                                12-10-2020\n",
      "listing_published                                       -1\n",
      "listing_can_book                                        -1\n",
      "Name: 20799, dtype: object\n",
      "wsa_listing_id                                                      78360\n",
      "customer_name                                                   Amsterdam\n",
      "site                                                          Tripadvisor\n",
      "listing_id                                                       d4147341\n",
      "house_name                                                  The Guestroom\n",
      "city                                                            Amsterdam\n",
      "postalcode                                                        1098 CP\n",
      "bedrooms                                                             0,00\n",
      "bathrooms                                                            0,00\n",
      "beds                                                                 0,00\n",
      "person_capacity                                                         0\n",
      "instant_bookable                                                        0\n",
      "is_new_listing                                                          0\n",
      "region                                                     Amsterdam-Oost\n",
      "lat                                                               52.3545\n",
      "lng                                                               4.93355\n",
      "reviews_count                                                           0\n",
      "kpi_instant_bookable                                                    0\n",
      "listing_url             https://www.tripadvisor.nl/VacationRentalRevie...\n",
      "first_found_date                                        8-9-2021 13:53:58\n",
      "listing_published                                                      -1\n",
      "listing_can_book                                                        0\n",
      "Name: 22408, dtype: object\n"
     ]
    }
   ],
   "source": [
    "print(df_bnb[nan_trip.keys()].loc[20799])\n",
    "print(df_trip[nan_trip.keys()].loc[22408])"
   ]
  },
  {
   "cell_type": "code",
   "execution_count": 84,
   "metadata": {},
   "outputs": [],
   "source": [
    "rl.write_annotation_file(\n",
    "    \"annotation_bnb_trip.json\",\n",
    "    features[features.sum(axis=1) > 2.999892 ].index,\n",
    "    df_bnb[nan_trip.keys()],\n",
    "    df_trip[nan_trip.keys()],\n",
    "    dataset_a_name=\"AirBnb\",\n",
    "    dataset_b_name=\"Trip\"\n",
    ")"
   ]
  },
  {
   "cell_type": "code",
   "execution_count": 86,
   "metadata": {},
   "outputs": [
    {
     "data": {
      "text/plain": [
       "nan"
      ]
     },
     "execution_count": 86,
     "metadata": {},
     "output_type": "execute_result"
    }
   ],
   "source": [
    "df_trip['picture_url'].loc[22009]\n"
   ]
  },
  {
   "cell_type": "code",
   "execution_count": 89,
   "metadata": {},
   "outputs": [
    {
     "data": {
      "text/plain": [
       "'https://a0.muscache.com/im/pictures/ab5d3785-4977-463f-8d85-f46c7d52807d.jpg?aki_policy=large'"
      ]
     },
     "execution_count": 89,
     "metadata": {},
     "output_type": "execute_result"
    }
   ],
   "source": [
    "df_bnb['picture_url'].loc[743]\n"
   ]
  },
  {
   "cell_type": "code",
   "execution_count": 106,
   "metadata": {},
   "outputs": [
    {
     "name": "stdout",
     "output_type": "stream",
     "text": [
      "Matches in AirBnB and VRBO with Postal code Lat, Ln: 28\n",
      "Non-matches in AirBnB and VRBO with Postal code Lat, Ln: 101\n"
     ]
    }
   ],
   "source": [
    "result = rl.read_annotation_file('result_bnb_trip.json')\n",
    "print('Matches in AirBnB and VRBO with Postal code Lat, Ln:',len(result.links))\n",
    "print('Non-matches in AirBnB and VRBO with Postal code Lat, Ln:',len(result.distinct))"
   ]
  },
  {
   "cell_type": "code",
   "execution_count": null,
   "metadata": {},
   "outputs": [],
   "source": []
  },
  {
   "cell_type": "code",
   "execution_count": null,
   "metadata": {},
   "outputs": [],
   "source": []
  }
 ],
 "metadata": {
  "interpreter": {
   "hash": "88a2f7f577888eb2710e0d5d9756c4025ff3188af31a1b3845b611b72892981c"
  },
  "kernelspec": {
   "display_name": "Python 3.8.5 64-bit ('base': conda)",
   "language": "python",
   "name": "python3"
  },
  "language_info": {
   "codemirror_mode": {
    "name": "ipython",
    "version": 3
   },
   "file_extension": ".py",
   "mimetype": "text/x-python",
   "name": "python",
   "nbconvert_exporter": "python",
   "pygments_lexer": "ipython3",
   "version": "3.8.5"
  },
  "orig_nbformat": 4
 },
 "nbformat": 4,
 "nbformat_minor": 2
}
